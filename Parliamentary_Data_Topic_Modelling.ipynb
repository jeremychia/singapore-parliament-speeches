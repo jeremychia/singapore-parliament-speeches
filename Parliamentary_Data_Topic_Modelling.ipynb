{
  "cells": [
    {
      "cell_type": "markdown",
      "metadata": {
        "id": "view-in-github",
        "colab_type": "text"
      },
      "source": [
        "<a href=\"https://colab.research.google.com/github/jeremychia/singapore-parliament-speeches/blob/main/Parliamentary_Data_Topic_Modelling.ipynb\" target=\"_parent\"><img src=\"https://colab.research.google.com/assets/colab-badge.svg\" alt=\"Open In Colab\"/></a>"
      ]
    },
    {
      "cell_type": "code",
      "execution_count": 1,
      "metadata": {
        "id": "D3GH2K1jxHEb"
      },
      "outputs": [],
      "source": [
        "# install bigquery client library\n",
        "!pip install google-cloud-bigquery --quiet"
      ]
    },
    {
      "cell_type": "code",
      "execution_count": 2,
      "metadata": {
        "id": "3LGDjO_TEmsL"
      },
      "outputs": [],
      "source": [
        "# authenticate to GCP\n",
        "from google.colab import auth\n",
        "auth.authenticate_user()"
      ]
    },
    {
      "cell_type": "code",
      "execution_count": 3,
      "metadata": {
        "id": "B4RYeThLEvHQ"
      },
      "outputs": [],
      "source": [
        "# set up project id and dataset\n",
        "project_id = \"singapore-parliament-speeches\"  # Replace with your GCP project ID\n",
        "dataset_id = \"singapore-parliament-speeches.prod_mart.mart_speeches\""
      ]
    },
    {
      "cell_type": "code",
      "execution_count": 4,
      "metadata": {
        "id": "FlW_ua9EE6iT"
      },
      "outputs": [],
      "source": [
        "# create a bigquery client\n",
        "from google.cloud import bigquery\n",
        "client = bigquery.Client(project=project_id)"
      ]
    },
    {
      "cell_type": "code",
      "execution_count": 10,
      "metadata": {
        "id": "TacNfIpQFBP8"
      },
      "outputs": [],
      "source": [
        "# define query\n",
        "query = f\"\"\"\n",
        "SELECT\n",
        "  topic_id,\n",
        "  topic_title,\n",
        "  speech_text\n",
        "FROM {dataset_id}\n",
        "WHERE\n",
        "  NOT (\n",
        "    topic_type = 'BI'\n",
        "    OR (\n",
        "        topic_type = 'OS'\n",
        "        AND (\n",
        "            LOWER(topic_title) LIKE ANY(\n",
        "                '%adjournment%',\n",
        "                'extension%',\n",
        "                'exempted business%',\n",
        "                '%estimates of expenditure%',\n",
        "                '%estimate of expenditure%',\n",
        "                '%estimates for the%',\n",
        "                \"%president's address%\",\n",
        "                'business motion',\n",
        "                '%time limit%',\n",
        "                '%visit%',\n",
        "                'committee of supply reporting progress',\n",
        "                'rearrangement of business',\n",
        "                'suspension of standing%',\n",
        "                'election of speaker',\n",
        "                'administration of oath',\n",
        "                ' '\n",
        "            )\n",
        "        )\n",
        "    )\n",
        "  )\n",
        "ORDER BY date DESC, speech_id\n",
        "\"\"\""
      ]
    },
    {
      "cell_type": "code",
      "execution_count": 11,
      "metadata": {
        "id": "VwTi1mERFhFV"
      },
      "outputs": [],
      "source": [
        "# run query\n",
        "import pandas as pd\n",
        "query_job = client.query(query)\n",
        "df = query_job.to_dataframe()"
      ]
    },
    {
      "cell_type": "code",
      "execution_count": 12,
      "metadata": {
        "id": "1Sv8_iWhGBNQ"
      },
      "outputs": [],
      "source": [
        "# compbine text by topic\n",
        "\n",
        "def combine_text_by_topic(df):\n",
        "\n",
        "  combined_text = {}\n",
        "  for index, row in df.iterrows():\n",
        "    topic_id = row['topic_id']\n",
        "    text = row['speech_text']\n",
        "    if topic_id not in combined_text:\n",
        "      combined_text[topic_id] = row['topic_title']\n",
        "    combined_text[topic_id] += ' ' + text\n",
        "\n",
        "  result_df = pd.DataFrame.from_dict(combined_text, orient='index', columns=['speech_text'])\n",
        "  result_df.reset_index(inplace=True)\n",
        "  result_df.rename(columns={'index': 'topic_id'}, inplace=True)\n",
        "\n",
        "  return result_df\n",
        "\n",
        "# execute\n",
        "ct_df = combine_text_by_topic(df)"
      ]
    },
    {
      "cell_type": "code",
      "execution_count": 13,
      "metadata": {
        "colab": {
          "base_uri": "https://localhost:8080/",
          "height": 206
        },
        "id": "kAD3gpy4H3Sm",
        "outputId": "18baf112-3161-411a-e2fe-5a8c127e8ddc"
      },
      "outputs": [
        {
          "output_type": "execute_result",
          "data": {
            "text/plain": [
              "           topic_id                                        speech_text\n",
              "0  2024-03-07-T-001  Point of Order Order. Sir, can I ask you to ex...\n",
              "1  2024-03-07-T-002  Ensuring Mental Well-being of National Service...\n",
              "2  2024-03-07-T-003  Capacity Increase at IMH and Alexandra Hospita...\n",
              "3  2024-03-07-T-004  Selection of Organisations to Operate Active A...\n",
              "4  2024-03-07-T-005  Review of HDB Flat Size Eligibility Criterion ..."
            ],
            "text/html": [
              "\n",
              "  <div id=\"df-8fdbc9b3-5933-4d86-8e80-30a7b253b475\" class=\"colab-df-container\">\n",
              "    <div>\n",
              "<style scoped>\n",
              "    .dataframe tbody tr th:only-of-type {\n",
              "        vertical-align: middle;\n",
              "    }\n",
              "\n",
              "    .dataframe tbody tr th {\n",
              "        vertical-align: top;\n",
              "    }\n",
              "\n",
              "    .dataframe thead th {\n",
              "        text-align: right;\n",
              "    }\n",
              "</style>\n",
              "<table border=\"1\" class=\"dataframe\">\n",
              "  <thead>\n",
              "    <tr style=\"text-align: right;\">\n",
              "      <th></th>\n",
              "      <th>topic_id</th>\n",
              "      <th>speech_text</th>\n",
              "    </tr>\n",
              "  </thead>\n",
              "  <tbody>\n",
              "    <tr>\n",
              "      <th>0</th>\n",
              "      <td>2024-03-07-T-001</td>\n",
              "      <td>Point of Order Order. Sir, can I ask you to ex...</td>\n",
              "    </tr>\n",
              "    <tr>\n",
              "      <th>1</th>\n",
              "      <td>2024-03-07-T-002</td>\n",
              "      <td>Ensuring Mental Well-being of National Service...</td>\n",
              "    </tr>\n",
              "    <tr>\n",
              "      <th>2</th>\n",
              "      <td>2024-03-07-T-003</td>\n",
              "      <td>Capacity Increase at IMH and Alexandra Hospita...</td>\n",
              "    </tr>\n",
              "    <tr>\n",
              "      <th>3</th>\n",
              "      <td>2024-03-07-T-004</td>\n",
              "      <td>Selection of Organisations to Operate Active A...</td>\n",
              "    </tr>\n",
              "    <tr>\n",
              "      <th>4</th>\n",
              "      <td>2024-03-07-T-005</td>\n",
              "      <td>Review of HDB Flat Size Eligibility Criterion ...</td>\n",
              "    </tr>\n",
              "  </tbody>\n",
              "</table>\n",
              "</div>\n",
              "    <div class=\"colab-df-buttons\">\n",
              "\n",
              "  <div class=\"colab-df-container\">\n",
              "    <button class=\"colab-df-convert\" onclick=\"convertToInteractive('df-8fdbc9b3-5933-4d86-8e80-30a7b253b475')\"\n",
              "            title=\"Convert this dataframe to an interactive table.\"\n",
              "            style=\"display:none;\">\n",
              "\n",
              "  <svg xmlns=\"http://www.w3.org/2000/svg\" height=\"24px\" viewBox=\"0 -960 960 960\">\n",
              "    <path d=\"M120-120v-720h720v720H120Zm60-500h600v-160H180v160Zm220 220h160v-160H400v160Zm0 220h160v-160H400v160ZM180-400h160v-160H180v160Zm440 0h160v-160H620v160ZM180-180h160v-160H180v160Zm440 0h160v-160H620v160Z\"/>\n",
              "  </svg>\n",
              "    </button>\n",
              "\n",
              "  <style>\n",
              "    .colab-df-container {\n",
              "      display:flex;\n",
              "      gap: 12px;\n",
              "    }\n",
              "\n",
              "    .colab-df-convert {\n",
              "      background-color: #E8F0FE;\n",
              "      border: none;\n",
              "      border-radius: 50%;\n",
              "      cursor: pointer;\n",
              "      display: none;\n",
              "      fill: #1967D2;\n",
              "      height: 32px;\n",
              "      padding: 0 0 0 0;\n",
              "      width: 32px;\n",
              "    }\n",
              "\n",
              "    .colab-df-convert:hover {\n",
              "      background-color: #E2EBFA;\n",
              "      box-shadow: 0px 1px 2px rgba(60, 64, 67, 0.3), 0px 1px 3px 1px rgba(60, 64, 67, 0.15);\n",
              "      fill: #174EA6;\n",
              "    }\n",
              "\n",
              "    .colab-df-buttons div {\n",
              "      margin-bottom: 4px;\n",
              "    }\n",
              "\n",
              "    [theme=dark] .colab-df-convert {\n",
              "      background-color: #3B4455;\n",
              "      fill: #D2E3FC;\n",
              "    }\n",
              "\n",
              "    [theme=dark] .colab-df-convert:hover {\n",
              "      background-color: #434B5C;\n",
              "      box-shadow: 0px 1px 3px 1px rgba(0, 0, 0, 0.15);\n",
              "      filter: drop-shadow(0px 1px 2px rgba(0, 0, 0, 0.3));\n",
              "      fill: #FFFFFF;\n",
              "    }\n",
              "  </style>\n",
              "\n",
              "    <script>\n",
              "      const buttonEl =\n",
              "        document.querySelector('#df-8fdbc9b3-5933-4d86-8e80-30a7b253b475 button.colab-df-convert');\n",
              "      buttonEl.style.display =\n",
              "        google.colab.kernel.accessAllowed ? 'block' : 'none';\n",
              "\n",
              "      async function convertToInteractive(key) {\n",
              "        const element = document.querySelector('#df-8fdbc9b3-5933-4d86-8e80-30a7b253b475');\n",
              "        const dataTable =\n",
              "          await google.colab.kernel.invokeFunction('convertToInteractive',\n",
              "                                                    [key], {});\n",
              "        if (!dataTable) return;\n",
              "\n",
              "        const docLinkHtml = 'Like what you see? Visit the ' +\n",
              "          '<a target=\"_blank\" href=https://colab.research.google.com/notebooks/data_table.ipynb>data table notebook</a>'\n",
              "          + ' to learn more about interactive tables.';\n",
              "        element.innerHTML = '';\n",
              "        dataTable['output_type'] = 'display_data';\n",
              "        await google.colab.output.renderOutput(dataTable, element);\n",
              "        const docLink = document.createElement('div');\n",
              "        docLink.innerHTML = docLinkHtml;\n",
              "        element.appendChild(docLink);\n",
              "      }\n",
              "    </script>\n",
              "  </div>\n",
              "\n",
              "\n",
              "<div id=\"df-e251f059-8b72-49be-8337-007af933a418\">\n",
              "  <button class=\"colab-df-quickchart\" onclick=\"quickchart('df-e251f059-8b72-49be-8337-007af933a418')\"\n",
              "            title=\"Suggest charts\"\n",
              "            style=\"display:none;\">\n",
              "\n",
              "<svg xmlns=\"http://www.w3.org/2000/svg\" height=\"24px\"viewBox=\"0 0 24 24\"\n",
              "     width=\"24px\">\n",
              "    <g>\n",
              "        <path d=\"M19 3H5c-1.1 0-2 .9-2 2v14c0 1.1.9 2 2 2h14c1.1 0 2-.9 2-2V5c0-1.1-.9-2-2-2zM9 17H7v-7h2v7zm4 0h-2V7h2v10zm4 0h-2v-4h2v4z\"/>\n",
              "    </g>\n",
              "</svg>\n",
              "  </button>\n",
              "\n",
              "<style>\n",
              "  .colab-df-quickchart {\n",
              "      --bg-color: #E8F0FE;\n",
              "      --fill-color: #1967D2;\n",
              "      --hover-bg-color: #E2EBFA;\n",
              "      --hover-fill-color: #174EA6;\n",
              "      --disabled-fill-color: #AAA;\n",
              "      --disabled-bg-color: #DDD;\n",
              "  }\n",
              "\n",
              "  [theme=dark] .colab-df-quickchart {\n",
              "      --bg-color: #3B4455;\n",
              "      --fill-color: #D2E3FC;\n",
              "      --hover-bg-color: #434B5C;\n",
              "      --hover-fill-color: #FFFFFF;\n",
              "      --disabled-bg-color: #3B4455;\n",
              "      --disabled-fill-color: #666;\n",
              "  }\n",
              "\n",
              "  .colab-df-quickchart {\n",
              "    background-color: var(--bg-color);\n",
              "    border: none;\n",
              "    border-radius: 50%;\n",
              "    cursor: pointer;\n",
              "    display: none;\n",
              "    fill: var(--fill-color);\n",
              "    height: 32px;\n",
              "    padding: 0;\n",
              "    width: 32px;\n",
              "  }\n",
              "\n",
              "  .colab-df-quickchart:hover {\n",
              "    background-color: var(--hover-bg-color);\n",
              "    box-shadow: 0 1px 2px rgba(60, 64, 67, 0.3), 0 1px 3px 1px rgba(60, 64, 67, 0.15);\n",
              "    fill: var(--button-hover-fill-color);\n",
              "  }\n",
              "\n",
              "  .colab-df-quickchart-complete:disabled,\n",
              "  .colab-df-quickchart-complete:disabled:hover {\n",
              "    background-color: var(--disabled-bg-color);\n",
              "    fill: var(--disabled-fill-color);\n",
              "    box-shadow: none;\n",
              "  }\n",
              "\n",
              "  .colab-df-spinner {\n",
              "    border: 2px solid var(--fill-color);\n",
              "    border-color: transparent;\n",
              "    border-bottom-color: var(--fill-color);\n",
              "    animation:\n",
              "      spin 1s steps(1) infinite;\n",
              "  }\n",
              "\n",
              "  @keyframes spin {\n",
              "    0% {\n",
              "      border-color: transparent;\n",
              "      border-bottom-color: var(--fill-color);\n",
              "      border-left-color: var(--fill-color);\n",
              "    }\n",
              "    20% {\n",
              "      border-color: transparent;\n",
              "      border-left-color: var(--fill-color);\n",
              "      border-top-color: var(--fill-color);\n",
              "    }\n",
              "    30% {\n",
              "      border-color: transparent;\n",
              "      border-left-color: var(--fill-color);\n",
              "      border-top-color: var(--fill-color);\n",
              "      border-right-color: var(--fill-color);\n",
              "    }\n",
              "    40% {\n",
              "      border-color: transparent;\n",
              "      border-right-color: var(--fill-color);\n",
              "      border-top-color: var(--fill-color);\n",
              "    }\n",
              "    60% {\n",
              "      border-color: transparent;\n",
              "      border-right-color: var(--fill-color);\n",
              "    }\n",
              "    80% {\n",
              "      border-color: transparent;\n",
              "      border-right-color: var(--fill-color);\n",
              "      border-bottom-color: var(--fill-color);\n",
              "    }\n",
              "    90% {\n",
              "      border-color: transparent;\n",
              "      border-bottom-color: var(--fill-color);\n",
              "    }\n",
              "  }\n",
              "</style>\n",
              "\n",
              "  <script>\n",
              "    async function quickchart(key) {\n",
              "      const quickchartButtonEl =\n",
              "        document.querySelector('#' + key + ' button');\n",
              "      quickchartButtonEl.disabled = true;  // To prevent multiple clicks.\n",
              "      quickchartButtonEl.classList.add('colab-df-spinner');\n",
              "      try {\n",
              "        const charts = await google.colab.kernel.invokeFunction(\n",
              "            'suggestCharts', [key], {});\n",
              "      } catch (error) {\n",
              "        console.error('Error during call to suggestCharts:', error);\n",
              "      }\n",
              "      quickchartButtonEl.classList.remove('colab-df-spinner');\n",
              "      quickchartButtonEl.classList.add('colab-df-quickchart-complete');\n",
              "    }\n",
              "    (() => {\n",
              "      let quickchartButtonEl =\n",
              "        document.querySelector('#df-e251f059-8b72-49be-8337-007af933a418 button');\n",
              "      quickchartButtonEl.style.display =\n",
              "        google.colab.kernel.accessAllowed ? 'block' : 'none';\n",
              "    })();\n",
              "  </script>\n",
              "</div>\n",
              "    </div>\n",
              "  </div>\n"
            ],
            "application/vnd.google.colaboratory.intrinsic+json": {
              "type": "dataframe",
              "variable_name": "ct_df",
              "summary": "{\n  \"name\": \"ct_df\",\n  \"rows\": 16088,\n  \"fields\": [\n    {\n      \"column\": \"topic_id\",\n      \"properties\": {\n        \"dtype\": \"string\",\n        \"num_unique_values\": 16088,\n        \"samples\": [\n          \"2020-02-27-T-003\",\n          \"2013-01-14-T-007\",\n          \"2013-05-13-T-024\"\n        ],\n        \"semantic_type\": \"\",\n        \"description\": \"\"\n      }\n    },\n    {\n      \"column\": \"speech_text\",\n      \"properties\": {\n        \"dtype\": \"string\",\n        \"num_unique_values\": 16088,\n        \"samples\": [\n          \"Prevalence of and Enforcement against Jaywalking asked the Minister for Home Affairs (a) in the past year, how many people have been penalised for jaywalking; (b) how does the Ministry monitor areas where jaywalking is prevalent; (c) how many fatal traffic accidents were caused by jaywalking in the past three years; (d) whether the Ministry plans to implement additional measures to reduce the danger of fatal traffic accidents to the elderly who jaywalk; and (e) whether there is a need to review the current penalties to deter jaywalking. In 2019, Traffic Police (TP) detected about 2,500 jaywalking violations. From 2017 to 2019, there were 59 fatal traffic accidents involving jaywalkers. Elderly jaywalkers were involved in about 68% of them. In recent years, TP have stepped up its engagement of elderly pedestrians. In 2019, TP organised the Road Safety Carnival themed \\\"Be Seen, Be Safe\\\" for more than 1,000 senior citizens, to raise awareness on the importance of using designated pedestrian crossings and how to cross roads safely. This year, TP will be working with the Lion Befrienders Service Association and NTUC Health Co-operative Limited to train staff and volunteers to become Road Safety Champions to engage senior citizens on road safety. To further improve safety for elderly pedestrians, LTA has implemented Silver Zones at locations with a high proportion of senior residents, and where there have been accidents involving seniors. Silver Zones have senior-friendly road safety features, such as rest points for pedestrians along road dividers and signs to alert motorists of the presence of elderly pedestrians. LTA plans to increase the number of Silver Zones from 17 in 2019 to 50 by 2023. TP regularly conducts enforcement operations at accident-prone locations and jaywalking hot-spots. Under the Road Traffic Act, it is an offence for pedestrians to fail to cross at a pedestrian crossing. The composition sum for this offence was raised from $20 to $50 on 1 April 2019. We will monitor the situation and consider further measures if necessary. I do not have five supplementary questions, but I have two. When I first came to Singapore, many of my cousins told me, \\\"Don't jaywalk. You have to cross by following traffic rules. Otherwise, Police will catch you and will fine you.\\\" And therefore, I am very law-abiding. But today, I cannot say the same thing to the visitors to Singapore because you can see jaywalkers everywhere. It is so common. To many of us, we feel that there is no enforcement or very little enforcement. Will Ministry step up enforcement and whether it will use technology, for example, CCTV, facial recognition, especially at those locations that have had fatal accidents? The Senior Parliamentary Secretary mentioned just now 59 fatal accidents involving jaywalkers. That is very many. The second question is, I also have residents who give feedback that increasingly, that when pedestrians cross the roads, their eyes are glued to the phone. Currently, we know that this is not enforceable. I would like to ask whether this is dangerous and if there is any action to be taken. I thank the Member for her follow-up questions. As I had mentioned in my earlier reply, definitely, more education, more outreach will be conducted by TP. I have spoken about the \\\"Be Seen, Be Safe\\\" campaign. We will also be working with more community outreach organisations such as Lion Befrienders and NTUC Health Co-operative. The Member mentioned that, anecdotally, she sees on the roads is that there are more and more jaywalkers. We are aligned in wanting to deter pedestrians from jaywalking because it definitely causes a danger to themselves. So, we have to find effective ways of reaching out to them to tell them that this is dangerous for them. They can cause harm to themselves; they can also cause harm to motorists, who might have to suddenly swerve to avoid them and they might get into accidents. So, definitely, we are aligned in that we need to conduct more education and outreach efforts. On enforcement, I hear what the Member has said about increasing enforcement. When there is feedback about jaywalking hot-spots, TP would intensify their operations as and when they hear feedback from the ground regarding this. On the use of CCTV and technological means, for these to be effective, as the Member mentioned, there needs to be the use of facial recognition technology. There is some feedback from the ground that the use of such technology can be quite invasive. So, while we are definitely considering it, I think we also have to be mindful that too much use of such technology may cause discomfort on the ground as well. Dr Yaacob in his Budget debate speech also talked about whether or not there needs to be a community conversation around the use of technology in public spaces. We will bear in mind what the Member has mentioned and continuously look at better ways to conduct enforcement as well as education outreach efforts. The Member's second question was \\u2014 Pedestrians crossing the road and their eyes are glued to their mobile phones. Yes. So, that would be part and parcel of our education outreach efforts. It is not just about using your mobile phone when crossing the road. Even using your mobile phone while going up an escalator can be dangerous. When we reach out to pedestrians, especially when they are on the roads, and in this case, we are talking about elderly pedestrians, then, all the more, they need to be mindful of their surroundings. Having their eyes glued to the mobile phone is definitely a dangerous thing to do when they are crossing the road.\",\n          \"Compensation for Medical Expenses for Servicemen Injured while On Duty asked  the Minister for Defence whether his Ministry provides adequate compensation for the long-term medical expenses and related costs of living for navy servicemen who are critically injured while on duty. Mdm Speaker, first, let me thank the Member for his concern over the care and rehabilitation of our injured servicemen. Unfortunately, every military force will encounter death and disability among its servicemen. It is, therefore, important that our compensation and welfare frameworks provide the necessary assistance and support to affected servicemen and their families. Let me explain our compensation and welfare frameworks. First, MINDEF will pay for all medical expenses for treatment of injured servicemen at Government and restructured hospitals or clinics. This includes the costs of medical supplies and equipment, counselling and psychiatric care for as long as required by the servicemen. Second, injured servicemen will receive lump sum compensation based on the degree of permanent disability sustained. The amount is doubled for disabilities that resulted during military training or operations. Additional amounts are also provided to servicemen who have total permanent disability for their constant care. Third, the SAF will aim to re-deploy disabled servicemen to vocations that fit their abilities. Fourthly, the SAF Benevolent Fund provides discretionary amounts in welfare support to our injured servicemen and their families. For example, a serviceman with total permanent disability will receive a one-off grant, as well as a monthly allowance for at least three years. In summary, MINDEF has frameworks in place to provide financial compensation and welfare support for disabled servicemen to take care of their healthcare, long-term rehabilitation and daily needs, as well as assist their families financially. The amounts are significantly higher than that disbursed under the Work Injury Compensation Act and the civil courts. Some Members will know that ME2 Jason Chee, a Navy serviceman who was seriously injured as a result of an incident on 10 December last year. ME2 Jason Chee will receive full support from the various schemes that I have talked about. Following the incident, we have witnessed many acts of compassion by fellow Singaporeans. Many have expressed condolences, donated blood and monetary contributions to help in the long-term care of ME2 Chee and his family. I am deeply touched and thankful for this outpouring of public support for our servicemen. This strong public support for our injured servicemen will go a long way in strengthening their resolve and the resolve of our armed forces as they do their duty in defending Singapore. I thank the Minister for the explanation. I believe that the investigations showed that the injury was actually due to the failure of the winch mechanism. So, would this affect the compensation? I must first qualify that investigations have not been completed and there are a number of causes. One of the preliminary findings is that there were some failures in that, but there were other causes. But I can say that ME2 Jason Chee's injury was due to service and he will be compensated on that basis. Mdm Speaker, I would like to ask the Minister, when was the last time this compensation package was reviewed. Will the SAF be prepared again to review the compensation package to servicemen who are injured? Madam, I understand the Member's concerns. I would say that it is not fixed. The base layer is compatible with what we have for the workmen's compensation. So, it was adopted based on that, and even the workmen's compensation moves. But over and above that, as I said, we have additional amounts. So, if it is due to service, the amounts are doubled. On top of that, we have additional grants and financial and compensation schemes. So, I would say that, in general, it is much more generous than the base layer. But, obviously, we do review it from time to time. Thank you, Mdm Speaker, one supplementary question for the Minister. Does this compensation scheme extend equally to both serving full-time NSmen as well as regulars? And has there been feedback from families or the servicemen themselves as to the extent of the compensation? Madam, yes, it extends to all NSmen and we have a structure in which there is an appeal board. So, if families and servicemen who are affected have queries about the amount, this compensation appeal board will listen to their case.\",\n          \"Funds for Youth Expedition Project Scheme asked the Acting Minister for Culture, Community and Youth (a) what percentage of the funds allocated by the National Youth Council to subsidise the Youth Expedition Project (YEP) are utilised over the past five years; (b) how many YEPs have been supported through these funds over the past five years; and (c) whether more funds will be allocated for such projects in the future. The Youth Expedition Project (YEP) is a flagship programme of the National Youth Council (NYC). It aims to nurture socially responsible youths who contribute to the community both at home and abroad. Over the past five years, NYC has utilised around 95% of the funds allocated to the YEP programme. This has supported around 900 Youth Expedition Projects, benefiting over 1,700 youth leaders and 18,000 youths. There has been strong demand for the YEP, and an average of 40 more projects have been supported every year. With the establishment of the National Youth Fund, MCCY and NYC will review whether more funds can be allocated to support the YEP so that this meaningful programme can be made accessible to more youths.\"\n        ],\n        \"semantic_type\": \"\",\n        \"description\": \"\"\n      }\n    }\n  ]\n}"
            }
          },
          "metadata": {},
          "execution_count": 13
        }
      ],
      "source": [
        "ct_df.head()"
      ]
    },
    {
      "cell_type": "code",
      "source": [
        "ct_df.iloc[2,1]"
      ],
      "metadata": {
        "colab": {
          "base_uri": "https://localhost:8080/",
          "height": 87
        },
        "id": "TZitfJVvuA-W",
        "outputId": "4af6024c-2dd9-4d14-aec1-5ec10ef2aaf6"
      },
      "execution_count": 15,
      "outputs": [
        {
          "output_type": "execute_result",
          "data": {
            "text/plain": [
              "\"Capacity Increase at IMH and Alexandra Hospital for Patients Seeking Mental Health Specialist Care asked the Minister for Health (a) what is the planned capacity increase for patients seeking mental health specialist care by 2030 at (i) IMH and (ii) Alexandra Hospital; and (b) what steps will be taken to support the necessary resources required. Mr Speaker, Sir, Alexandra Hospital will provide outpatient and inpatient mental health specialist services, including 70 acute beds for psychiatric care and rehabilitation. The Institute of Mental Health (IMH) has recently refurbished 11 acute psychiatric wards to enhance inpatient care and will be expanding its capacity to meet future demand. To support the increase in demand for mental health services, the Government is planning a 30% increase in the number of psychiatrists and 40% increase in the number of healthcare workers training in psychology by 2030. The Government will also expand mental health services in the primary and community settings to support the National Mental Health and Well-being Strategy. Ms Nadia. Thank you, Speaker, just a quick follow-up supplementary question for the Senior Minister of State. Thank you for sharing about the training places and learning opportunities. I think many students are very interested to pursue this route. Could the Senior Minister of State give a little bit more detail about how these training opportunities will trickle down to our learning institutions? If I understand Ms Nadia Samdin's question, it is about how the training opportunities will be made available within the learning institutions. There are a number of institutions that already provide training in psychological and psychiatric services. Our approach would generally be to work with them to see how we can expand their capacity. One of the challenges in this space is that the training of such healthcare workers requires what I call practicums, on-the-job training. You need to have clinical placements rather than only lectures and seminars. So, the rate limiting factor for enhancing our capacity is the number of mentors and training places that we have within the clinical settings, rather than within the education institutions. We will work with all the partners and stakeholders to be able to realise our plans for an increase in capacity.\""
            ],
            "application/vnd.google.colaboratory.intrinsic+json": {
              "type": "string"
            }
          },
          "metadata": {},
          "execution_count": 15
        }
      ]
    },
    {
      "cell_type": "code",
      "execution_count": 16,
      "metadata": {
        "colab": {
          "base_uri": "https://localhost:8080/"
        },
        "id": "moB8LyrJFn7t",
        "outputId": "1bff8206-98f4-4e3f-bb62-c285fb71dc81"
      },
      "outputs": [
        {
          "output_type": "stream",
          "name": "stderr",
          "text": [
            "[nltk_data] Downloading package stopwords to /root/nltk_data...\n",
            "[nltk_data]   Unzipping corpora/stopwords.zip.\n",
            "[nltk_data] Downloading package wordnet to /root/nltk_data...\n"
          ]
        }
      ],
      "source": [
        "import re\n",
        "import string\n",
        "import nltk\n",
        "from nltk.corpus import stopwords\n",
        "from nltk.stem import WordNetLemmatizer\n",
        "\n",
        "nltk.download('stopwords')\n",
        "nltk.download('wordnet')\n",
        "\n",
        "# text preprocessing functions\n",
        "def lowercase_text(text):\n",
        "  return text.lower()\n",
        "\n",
        "def remove_punctuation(text):\n",
        "  punctuation = string.punctuation\n",
        "  return \"\".join([char for char in text if char not in punctuation])\n",
        "\n",
        "def remove_stopwords(text, custom_stopwords=[]):\n",
        "  stopword_list = stopwords.words('english')\n",
        "  stopword_list.extend(custom_stopwords)\n",
        "\n",
        "  words = [word for word in text.split() if word not in stopword_list]\n",
        "  return \" \".join(words)\n",
        "\n",
        "def lemmatize_text(text):\n",
        "  lemmatizer = WordNetLemmatizer()\n",
        "  words = [lemmatizer.lemmatize(word) for word in text.split()]\n",
        "  return \" \".join(words)\n",
        "\n",
        "def clean_text(text):\n",
        "  cleaned_text = re.sub(r\"[^\\x00-\\x7F]+\", \"\", text)  # Remove non-ASCII characters\n",
        "  cleaned_text = re.sub(r\"\\d+\", \"\", cleaned_text)  # Remove numbers\n",
        "  cleaned_text = re.sub(r\"\\s+\", \" \", cleaned_text)  # Replace multiple spaces with a single space\n",
        "  cleaned_text = re.sub(r\"\\n|\\t|\\r|\\f\", \"\", cleaned_text)  # Remove newlines, tabs, carriage returns, and form feeds\n",
        "  return cleaned_text"
      ]
    },
    {
      "cell_type": "markdown",
      "metadata": {
        "id": "b3abW-O2j8gW"
      },
      "source": [
        "The following stop words are removed.\n",
        "\n",
        "Stopwords, comprising common words like \"and,\" \"the,\" and \"is,\" are typically removed in text analysis tasks for their high frequency and low semantic value. This removal reduces data noise, lowers dimensionality, and improves model performance by focusing on more meaningful terms. Moreover, excluding stopwords enhances interpretability and normalization of text data, aiding in more efficient and effective text analysis and modeling processes.\n",
        "\n",
        "| Category                     | Stopwords                                         |\n",
        "|------------------------------|---------------------------------------------------|\n",
        "| Government and Political     | parliament, ministry, minister, parliamentary,   |\n",
        "|                              | mr, speaker, member, deputy, indranee, rajah,    |\n",
        "|                              | zaqy, mohamad, yien, hai, fu, grace, leader,    |\n",
        "|                              | house                                             |\n",
        "| Terms                        |                                                   |\n",
        "| General Stopwords            | also, year, time, need, new, would, one, may,   |\n",
        "|                              | many, like, whether, u, make, public, take,      |\n",
        "|                              | well, even, example, text, sitting, act,         |\n",
        "|                              | edition, read, printed, adjourned, adjourn,      |\n",
        "|                              | resolved, order, assent, proceeding, chapter,     |\n",
        "|                              | revised, amend, presented, second, available,    |\n",
        "|                              | amendment, consequential, state, debate,        |\n",
        "|                              | tomorrow, resumption, day, beg, fixed, stand,    |\n",
        "|                              | date, today, accordingly, sit, exempted,         |\n",
        "|                              | provision, present, general, paper, item,        |\n",
        "|                              | today, allotted, supply, committee,              |\n",
        "|                              | consideration, th, nd, rd, pursuant, minute,     |\n",
        "|                              | pm, rising, speech, respect, discussion,         |\n",
        "|                              | agreed, january, february, march, april,        |\n",
        "|                              | may, june, july, august, september, october,    |\n",
        "|                              | november, december, fy, leave, progress,        |\n",
        "|                              | chair, head, said                                |\n",
        "| Specific Terms and Names     | bill, first, question, continue, must, ensure,   |\n",
        "|                              | proc, amendment, consequential, debate,         |\n",
        "|                              | according, thursday, friday, saturday, sunday,  |\n",
        "|                              | kim, gan, desmond, lee, yong, hon, provision,   |\n",
        "|                              | mdm                                               |"
      ]
    },
    {
      "cell_type": "code",
      "execution_count": 17,
      "metadata": {
        "id": "poJSr68RRQdr"
      },
      "outputs": [],
      "source": [
        "custom_stopwords = ['parliament', 'ministry', 'minister',\n",
        "                    'parliamentary', 'mr', 'speaker', 'asked', 'sir', 'thank',\n",
        "                    'also', 'year', 'time', 'need', 'new', 'government',\n",
        "                    'would', 'one', 'may', 'many', 'year', 'member',\n",
        "                    'like', 'whether', 'u', 'make', 'public', 'take',\n",
        "                    'bill', 'first', 'question', 'well', 'continue', 'must',\n",
        "                    'ensure', 'even', 'example', 'proc', 'text', 'sitting',\n",
        "                    'act', 'edition', 'read', 'printed', 'adjourned', 'adjourn',\n",
        "                    'resolved', 'order', 'assent', 'standing', 'consent', 'proceeding',\n",
        "                    'chapter', 'revised', 'amend', 'presented', 'second', 'available',\n",
        "                    'amendment', 'consequential', 'state', 'debate', 'tomorrow',\n",
        "                    'resumption', 'day', 'deputy',  'beg', 'indranee', 'rajah',\n",
        "                    'zaqy', 'mohamad', 'yien', 'hai', 'fu', 'grace', 'fixed',\n",
        "                    'stand', 'date', 'today', 'accordingly', 'sit', 'exempted',\n",
        "                    'member', 'provision', 'present', 'general', 'paper', 'item',\n",
        "                    'today', 'allotted', 'supply', 'committee', 'consideration',\n",
        "                    'th', 'nd', 'rd', 'pursuant', 'minute', 'pm',\n",
        "                    'hen', 'eng', 'ng', 'dr', 'monday', 'tuesday', 'wednesday',\n",
        "                    'thursday', 'friday', 'saturday', 'sunday', 'rising',\n",
        "                    'kim', 'gan', 'desmond', 'lee', 'yong', 'member', 'hon',\n",
        "                    'speech', 'proceeding', 'respect', 'discussion', 'leader',\n",
        "                    'provision', 'agreed', 'house', 'january', 'february', 'march',\n",
        "                    'april', 'may', 'june', 'july', 'august', 'september',\n",
        "                    'october', 'november', 'december', 'fy', 'leave', 'progress',\n",
        "                    'chair', 'head', 'mdm', 'said', 'interruption', 'minute',\n",
        "                    'propose', 'extend', 'moment', 'day', 'period', 'completion',\n",
        "                    'business', 'days', 'today', 'facilitate', 'singapore',\n",
        "                    'singaporean', 'ma', 'rgb', 'stylecolor', 'span', 'u']\n",
        "\n",
        "ct_df['speech_text'] = ct_df['speech_text'].apply(lowercase_text)\n",
        "ct_df['speech_text'] = ct_df['speech_text'].apply(remove_punctuation)\n",
        "ct_df['speech_text'] = ct_df['speech_text'].apply(remove_stopwords, custom_stopwords=custom_stopwords)\n",
        "ct_df['speech_text'] = ct_df['speech_text'].apply(lemmatize_text)\n",
        "ct_df['speech_text'] = ct_df['speech_text'].apply(clean_text)"
      ]
    },
    {
      "cell_type": "code",
      "execution_count": 18,
      "metadata": {
        "colab": {
          "base_uri": "https://localhost:8080/",
          "height": 87
        },
        "id": "-9TRtcwQSFRe",
        "outputId": "3944dcde-3af7-42c9-f440-e8345c24fc9e"
      },
      "outputs": [
        {
          "output_type": "execute_result",
          "data": {
            "text/plain": [
              "'review hdb flat size eligibility criterion silver support scheme manpower view senior live mature estate whose hdb flat shorter remaining lease lower resale value consider reassessing use hdb flat type eligibility criterion silver support scheme especially regard ownership room larger hdb flat disqualifies senior receiving silver support silver support scheme targeted senior lower income working year little family support resource retirement property ownership indicative seniors resource remains relevant ensuring silver support scheme targeted senior particular senior room larger housing development board hdb flat likely resource access additional retirement fund hence eligible silver support nonetheless senior face unique circumstance including room larger hdb flat short remaining lease low annual value write central provident fund cpf board review eligibility silver support consider merit appeal casebycase basis strengthen support retirement adequacy announced enhancement silver support scheme budget includes increasing qualifying per caput household income threshold support senior taken together majulah package upcoming enhancement workfare income supplement scheme matched retirement saving scheme measure help senior meet basic retirement need greater support given lower middleincome singaporean yip senior reply heartened hear consider appeal casebycase basis short supplementary instead complete exclusion could consider graduated differentiated eligibility system silver support scheme based flat size remaining lease length senior living larger flat saving financial support family concern senior indeed different archetype senior sometimes fall crack scheme let explain put place comprehensive suite different support measure meet various need senior support range universal one medishield life healthcare targeted one particular help healthcare community health assist scheme chas blue card silver support scheme targeted scheme meant support bottom senior little family support currently earned lower wage working year per caput household income thus quite relevant ass overall support structure housing type live indicator certainly member suggestion look appeal casebycase basis merit senior need support look measure come apart silver support'"
            ],
            "application/vnd.google.colaboratory.intrinsic+json": {
              "type": "string"
            }
          },
          "metadata": {},
          "execution_count": 18
        }
      ],
      "source": [
        "ct_df.iloc[4,1]"
      ]
    },
    {
      "cell_type": "markdown",
      "metadata": {
        "id": "GOBQNxN5pjRg"
      },
      "source": [
        "**C_V Coherence**:\n",
        "- Higher scores are generally better for `c_v` coherence. It indicates that the topics contain words with higher semantic similarity, which suggests more coherent and interpretable topics.\n",
        "- The `c_v` coherence measures the coherence of a topic model based on the pairwise similarity between words in the topic.\n",
        "- It calculates the coherence score by computing the cosine similarity between the word vectors representing the words in the topic. These word vectors are typically derived from word embeddings such as Word2Vec or GloVe.\n",
        "- `c_v` coherence tends to produce higher scores for topics that contain words with high semantic similarity.\n",
        "- This coherence measure often requires pre-trained word embeddings and is computationally more expensive compared to `u_mass` coherence.\n",
        "\n",
        "**U_Mass Coherence**:\n",
        "- Lower scores are generally better for `u_mass` coherence. It indicates that the topics have higher statistical coherence, meaning that words within the topics are more likely to co-occur in the documents, resulting in more coherent topics.\n",
        "- The `u_mass` coherence measures the coherence of a topic model based on the distribution of words in the topic and their co-occurrence within the documents.\n",
        "- It calculates the coherence score by considering the pointwise mutual information (PMI) between pairs of words in the topic, where PMI quantifies the strength of association between two words.\n",
        "- `u_mass` coherence does not require pre-trained word embeddings and is computationally less expensive compared to `c_v` coherence.\n",
        "- It tends to produce lower scores compared to `c_v` coherence and is more sensitive to the quality of the topic model.\n",
        "\n"
      ]
    },
    {
      "cell_type": "code",
      "execution_count": 19,
      "metadata": {
        "id": "guWRERnI9O14"
      },
      "outputs": [],
      "source": [
        "import time\n",
        "from sklearn.feature_extraction.text import TfidfVectorizer"
      ]
    },
    {
      "cell_type": "code",
      "execution_count": 20,
      "metadata": {
        "id": "fR0pJcsK-3fB"
      },
      "outputs": [],
      "source": [
        "from gensim.models import CoherenceModel\n",
        "from gensim.corpora import Dictionary\n",
        "from gensim.models import Nmf\n",
        "import matplotlib.pyplot as plt\n",
        "\n",
        "texts = ct_df['speech_text']\n",
        "\n",
        "# Preprocess data\n",
        "tfidf_vectorizer = TfidfVectorizer(max_df=0.95, min_df=2, stop_words='english')\n",
        "tfidf = tfidf_vectorizer.fit_transform(texts)\n",
        "\n",
        "# Create a Gensim Dictionary\n",
        "dictionary = Dictionary(texts.apply(str.split))\n",
        "\n",
        "# Convert sparse TF-IDF matrix to Gensim corpus\n",
        "corpus = [dictionary.doc2bow(doc.split()) for doc in texts]\n",
        "\n",
        "# Define a range of topic numbers to try\n",
        "num_topics_range = range(5, 51)\n"
      ]
    },
    {
      "cell_type": "code",
      "execution_count": 21,
      "metadata": {
        "colab": {
          "base_uri": "https://localhost:8080/",
          "height": 1000
        },
        "id": "GCOC3NPe0nmG",
        "outputId": "c4035ef7-69cc-4bcb-df1c-2bfd14f9b613"
      },
      "outputs": [
        {
          "output_type": "stream",
          "name": "stdout",
          "text": [
            "NMF: Calculating result for 5 topics...\n",
            "Took 3.34 seconds.\n",
            "NMF: Calculating result for 6 topics...\n",
            "Took 3.66 seconds.\n",
            "NMF: Calculating result for 7 topics...\n",
            "Took 4.19 seconds.\n",
            "NMF: Calculating result for 8 topics...\n",
            "Took 3.86 seconds.\n",
            "NMF: Calculating result for 9 topics...\n",
            "Took 5.62 seconds.\n",
            "NMF: Calculating result for 10 topics...\n",
            "Took 5.02 seconds.\n",
            "NMF: Calculating result for 11 topics...\n",
            "Took 5.32 seconds.\n",
            "NMF: Calculating result for 12 topics...\n",
            "Took 4.96 seconds.\n",
            "NMF: Calculating result for 13 topics...\n",
            "Took 5.78 seconds.\n",
            "NMF: Calculating result for 14 topics...\n",
            "Took 6.11 seconds.\n",
            "NMF: Calculating result for 15 topics...\n",
            "Took 7.02 seconds.\n",
            "NMF: Calculating result for 16 topics...\n",
            "Took 6.32 seconds.\n",
            "NMF: Calculating result for 17 topics...\n",
            "Took 8.74 seconds.\n",
            "NMF: Calculating result for 18 topics...\n",
            "Took 8.41 seconds.\n",
            "NMF: Calculating result for 19 topics...\n",
            "Took 8.62 seconds.\n",
            "NMF: Calculating result for 20 topics...\n",
            "Took 10.59 seconds.\n",
            "NMF: Calculating result for 21 topics...\n",
            "Took 9.40 seconds.\n",
            "NMF: Calculating result for 22 topics...\n",
            "Took 13.37 seconds.\n",
            "NMF: Calculating result for 23 topics...\n",
            "Took 12.45 seconds.\n",
            "NMF: Calculating result for 24 topics...\n",
            "Took 12.13 seconds.\n",
            "NMF: Calculating result for 25 topics...\n",
            "Took 15.05 seconds.\n",
            "NMF: Calculating result for 26 topics...\n",
            "Took 12.97 seconds.\n",
            "NMF: Calculating result for 27 topics...\n",
            "Took 12.86 seconds.\n",
            "NMF: Calculating result for 28 topics...\n",
            "Took 23.39 seconds.\n",
            "NMF: Calculating result for 29 topics...\n",
            "Took 16.22 seconds.\n",
            "NMF: Calculating result for 30 topics...\n",
            "Took 16.12 seconds.\n",
            "NMF: Calculating result for 31 topics...\n",
            "Took 15.00 seconds.\n",
            "NMF: Calculating result for 32 topics...\n",
            "Took 18.77 seconds.\n",
            "NMF: Calculating result for 33 topics...\n",
            "Took 20.44 seconds.\n",
            "NMF: Calculating result for 34 topics...\n",
            "Took 23.61 seconds.\n",
            "NMF: Calculating result for 35 topics...\n",
            "Took 19.48 seconds.\n",
            "NMF: Calculating result for 36 topics...\n",
            "Took 23.89 seconds.\n",
            "NMF: Calculating result for 37 topics...\n",
            "Took 23.21 seconds.\n",
            "NMF: Calculating result for 38 topics...\n",
            "Took 31.56 seconds.\n",
            "NMF: Calculating result for 39 topics...\n",
            "Took 26.86 seconds.\n",
            "NMF: Calculating result for 40 topics...\n",
            "Took 28.87 seconds.\n",
            "NMF: Calculating result for 41 topics...\n",
            "Took 30.60 seconds.\n",
            "NMF: Calculating result for 42 topics...\n",
            "Took 30.32 seconds.\n",
            "NMF: Calculating result for 43 topics...\n",
            "Took 30.14 seconds.\n",
            "NMF: Calculating result for 44 topics...\n",
            "Took 34.00 seconds.\n",
            "NMF: Calculating result for 45 topics...\n",
            "Took 33.88 seconds.\n",
            "NMF: Calculating result for 46 topics...\n",
            "Took 35.48 seconds.\n",
            "NMF: Calculating result for 47 topics...\n",
            "Took 30.11 seconds.\n",
            "NMF: Calculating result for 48 topics...\n",
            "Took 36.00 seconds.\n",
            "NMF: Calculating result for 49 topics...\n",
            "Took 37.10 seconds.\n",
            "NMF: Calculating result for 50 topics...\n",
            "Took 46.72 seconds.\n"
          ]
        },
        {
          "output_type": "display_data",
          "data": {
            "text/plain": [
              "<Figure size 640x480 with 1 Axes>"
            ],
            "image/png": "[encoded data removed]"
          },
          "metadata": {}
        }
      ],
      "source": [
        "nmf_coherence_scores = []\n",
        "\n",
        "# Iterate over different numbers of topics\n",
        "for num_topics in num_topics_range:\n",
        "    start_time = time.time()\n",
        "    print(f\"NMF: Calculating result for {num_topics} topics...\")\n",
        "    # Fit NMF model\n",
        "    nmf_model = Nmf(corpus=corpus, num_topics=num_topics, id2word=dictionary, random_state=42)\n",
        "\n",
        "    # Compute coherence score\n",
        "    coherence_model = CoherenceModel(model=nmf_model, texts=texts, corpus=corpus, coherence='u_mass')\n",
        "    coherence_score = coherence_model.get_coherence()\n",
        "    nmf_coherence_scores.append(coherence_score)\n",
        "\n",
        "    end_time = time.time()\n",
        "    print(f\"Took {end_time - start_time:.2f} seconds.\")\n",
        "\n",
        "# Plot coherence scores\n",
        "plt.plot(num_topics_range, nmf_coherence_scores, marker='o')\n",
        "plt.title('Coherence Scores for Different Number of Topics (NMF)')\n",
        "plt.xlabel('Number of Topics')\n",
        "plt.ylabel('Coherence Score')\n",
        "plt.xticks(num_topics_range)\n",
        "plt.show()"
      ]
    },
    {
      "cell_type": "code",
      "execution_count": 26,
      "metadata": {
        "id": "KFlPKA70s_Ry",
        "colab": {
          "base_uri": "https://localhost:8080/",
          "height": 1000
        },
        "outputId": "1a651b38-d399-431e-8b70-f952c6009d73"
      },
      "outputs": [
        {
          "output_type": "stream",
          "name": "stderr",
          "text": [
            "WARNING:gensim.models.ldamodel:too few updates, training might not converge; consider increasing the number of passes or iterations to improve accuracy\n"
          ]
        },
        {
          "output_type": "stream",
          "name": "stdout",
          "text": [
            "LDA: Calculating result for 5 topics...\n"
          ]
        },
        {
          "output_type": "stream",
          "name": "stderr",
          "text": [
            "WARNING:gensim.models.ldamodel:too few updates, training might not converge; consider increasing the number of passes or iterations to improve accuracy\n"
          ]
        },
        {
          "output_type": "stream",
          "name": "stdout",
          "text": [
            "Took 15.89 seconds.\n",
            "LDA: Calculating result for 6 topics...\n"
          ]
        },
        {
          "output_type": "stream",
          "name": "stderr",
          "text": [
            "WARNING:gensim.models.ldamodel:too few updates, training might not converge; consider increasing the number of passes or iterations to improve accuracy\n"
          ]
        },
        {
          "output_type": "stream",
          "name": "stdout",
          "text": [
            "Took 15.50 seconds.\n",
            "LDA: Calculating result for 7 topics...\n"
          ]
        },
        {
          "output_type": "stream",
          "name": "stderr",
          "text": [
            "WARNING:gensim.models.ldamodel:too few updates, training might not converge; consider increasing the number of passes or iterations to improve accuracy\n"
          ]
        },
        {
          "output_type": "stream",
          "name": "stdout",
          "text": [
            "Took 15.92 seconds.\n",
            "LDA: Calculating result for 8 topics...\n"
          ]
        },
        {
          "output_type": "stream",
          "name": "stderr",
          "text": [
            "WARNING:gensim.models.ldamodel:too few updates, training might not converge; consider increasing the number of passes or iterations to improve accuracy\n"
          ]
        },
        {
          "output_type": "stream",
          "name": "stdout",
          "text": [
            "Took 16.33 seconds.\n",
            "LDA: Calculating result for 9 topics...\n"
          ]
        },
        {
          "output_type": "stream",
          "name": "stderr",
          "text": [
            "WARNING:gensim.models.ldamodel:too few updates, training might not converge; consider increasing the number of passes or iterations to improve accuracy\n"
          ]
        },
        {
          "output_type": "stream",
          "name": "stdout",
          "text": [
            "Took 16.35 seconds.\n",
            "LDA: Calculating result for 10 topics...\n"
          ]
        },
        {
          "output_type": "stream",
          "name": "stderr",
          "text": [
            "WARNING:gensim.models.ldamodel:too few updates, training might not converge; consider increasing the number of passes or iterations to improve accuracy\n"
          ]
        },
        {
          "output_type": "stream",
          "name": "stdout",
          "text": [
            "Took 16.68 seconds.\n",
            "LDA: Calculating result for 11 topics...\n"
          ]
        },
        {
          "output_type": "stream",
          "name": "stderr",
          "text": [
            "WARNING:gensim.models.ldamodel:too few updates, training might not converge; consider increasing the number of passes or iterations to improve accuracy\n"
          ]
        },
        {
          "output_type": "stream",
          "name": "stdout",
          "text": [
            "Took 16.79 seconds.\n",
            "LDA: Calculating result for 12 topics...\n"
          ]
        },
        {
          "output_type": "stream",
          "name": "stderr",
          "text": [
            "WARNING:gensim.models.ldamodel:too few updates, training might not converge; consider increasing the number of passes or iterations to improve accuracy\n"
          ]
        },
        {
          "output_type": "stream",
          "name": "stdout",
          "text": [
            "Took 17.15 seconds.\n",
            "LDA: Calculating result for 13 topics...\n"
          ]
        },
        {
          "output_type": "stream",
          "name": "stderr",
          "text": [
            "WARNING:gensim.models.ldamodel:too few updates, training might not converge; consider increasing the number of passes or iterations to improve accuracy\n"
          ]
        },
        {
          "output_type": "stream",
          "name": "stdout",
          "text": [
            "Took 17.17 seconds.\n",
            "LDA: Calculating result for 14 topics...\n"
          ]
        },
        {
          "output_type": "stream",
          "name": "stderr",
          "text": [
            "WARNING:gensim.models.ldamodel:too few updates, training might not converge; consider increasing the number of passes or iterations to improve accuracy\n"
          ]
        },
        {
          "output_type": "stream",
          "name": "stdout",
          "text": [
            "Took 21.01 seconds.\n",
            "LDA: Calculating result for 15 topics...\n"
          ]
        },
        {
          "output_type": "stream",
          "name": "stderr",
          "text": [
            "WARNING:gensim.models.ldamodel:too few updates, training might not converge; consider increasing the number of passes or iterations to improve accuracy\n"
          ]
        },
        {
          "output_type": "stream",
          "name": "stdout",
          "text": [
            "Took 20.25 seconds.\n",
            "LDA: Calculating result for 16 topics...\n"
          ]
        },
        {
          "output_type": "stream",
          "name": "stderr",
          "text": [
            "WARNING:gensim.models.ldamodel:too few updates, training might not converge; consider increasing the number of passes or iterations to improve accuracy\n"
          ]
        },
        {
          "output_type": "stream",
          "name": "stdout",
          "text": [
            "Took 21.58 seconds.\n",
            "LDA: Calculating result for 17 topics...\n"
          ]
        },
        {
          "output_type": "stream",
          "name": "stderr",
          "text": [
            "WARNING:gensim.models.ldamodel:too few updates, training might not converge; consider increasing the number of passes or iterations to improve accuracy\n"
          ]
        },
        {
          "output_type": "stream",
          "name": "stdout",
          "text": [
            "Took 21.96 seconds.\n",
            "LDA: Calculating result for 18 topics...\n"
          ]
        },
        {
          "output_type": "stream",
          "name": "stderr",
          "text": [
            "WARNING:gensim.models.ldamodel:too few updates, training might not converge; consider increasing the number of passes or iterations to improve accuracy\n"
          ]
        },
        {
          "output_type": "stream",
          "name": "stdout",
          "text": [
            "Took 19.03 seconds.\n",
            "LDA: Calculating result for 19 topics...\n"
          ]
        },
        {
          "output_type": "stream",
          "name": "stderr",
          "text": [
            "WARNING:gensim.models.ldamodel:too few updates, training might not converge; consider increasing the number of passes or iterations to improve accuracy\n"
          ]
        },
        {
          "output_type": "stream",
          "name": "stdout",
          "text": [
            "Took 18.42 seconds.\n",
            "LDA: Calculating result for 20 topics...\n"
          ]
        },
        {
          "output_type": "stream",
          "name": "stderr",
          "text": [
            "WARNING:gensim.models.ldamodel:too few updates, training might not converge; consider increasing the number of passes or iterations to improve accuracy\n"
          ]
        },
        {
          "output_type": "stream",
          "name": "stdout",
          "text": [
            "Took 18.09 seconds.\n",
            "LDA: Calculating result for 21 topics...\n"
          ]
        },
        {
          "output_type": "stream",
          "name": "stderr",
          "text": [
            "WARNING:gensim.models.ldamodel:too few updates, training might not converge; consider increasing the number of passes or iterations to improve accuracy\n"
          ]
        },
        {
          "output_type": "stream",
          "name": "stdout",
          "text": [
            "Took 18.91 seconds.\n",
            "LDA: Calculating result for 22 topics...\n"
          ]
        },
        {
          "output_type": "stream",
          "name": "stderr",
          "text": [
            "WARNING:gensim.models.ldamodel:too few updates, training might not converge; consider increasing the number of passes or iterations to improve accuracy\n"
          ]
        },
        {
          "output_type": "stream",
          "name": "stdout",
          "text": [
            "Took 19.25 seconds.\n",
            "LDA: Calculating result for 23 topics...\n"
          ]
        },
        {
          "output_type": "stream",
          "name": "stderr",
          "text": [
            "WARNING:gensim.models.ldamodel:too few updates, training might not converge; consider increasing the number of passes or iterations to improve accuracy\n"
          ]
        },
        {
          "output_type": "stream",
          "name": "stdout",
          "text": [
            "Took 19.94 seconds.\n",
            "LDA: Calculating result for 24 topics...\n"
          ]
        },
        {
          "output_type": "stream",
          "name": "stderr",
          "text": [
            "WARNING:gensim.models.ldamodel:too few updates, training might not converge; consider increasing the number of passes or iterations to improve accuracy\n"
          ]
        },
        {
          "output_type": "stream",
          "name": "stdout",
          "text": [
            "Took 19.26 seconds.\n",
            "LDA: Calculating result for 25 topics...\n"
          ]
        },
        {
          "output_type": "stream",
          "name": "stderr",
          "text": [
            "WARNING:gensim.models.ldamodel:too few updates, training might not converge; consider increasing the number of passes or iterations to improve accuracy\n"
          ]
        },
        {
          "output_type": "stream",
          "name": "stdout",
          "text": [
            "Took 19.03 seconds.\n",
            "LDA: Calculating result for 26 topics...\n"
          ]
        },
        {
          "output_type": "stream",
          "name": "stderr",
          "text": [
            "WARNING:gensim.models.ldamodel:too few updates, training might not converge; consider increasing the number of passes or iterations to improve accuracy\n"
          ]
        },
        {
          "output_type": "stream",
          "name": "stdout",
          "text": [
            "Took 31.37 seconds.\n",
            "LDA: Calculating result for 27 topics...\n",
            "Took 38.90 seconds.\n",
            "LDA: Calculating result for 28 topics...\n"
          ]
        },
        {
          "output_type": "stream",
          "name": "stderr",
          "text": [
            "WARNING:gensim.models.ldamodel:too few updates, training might not converge; consider increasing the number of passes or iterations to improve accuracy\n"
          ]
        },
        {
          "output_type": "stream",
          "name": "stdout",
          "text": [
            "Took 38.44 seconds.\n",
            "LDA: Calculating result for 29 topics...\n"
          ]
        },
        {
          "output_type": "stream",
          "name": "stderr",
          "text": [
            "WARNING:gensim.models.ldamodel:too few updates, training might not converge; consider increasing the number of passes or iterations to improve accuracy\n",
            "WARNING:gensim.models.ldamodel:too few updates, training might not converge; consider increasing the number of passes or iterations to improve accuracy\n"
          ]
        },
        {
          "output_type": "stream",
          "name": "stdout",
          "text": [
            "Took 23.35 seconds.\n",
            "LDA: Calculating result for 30 topics...\n",
            "Took 31.65 seconds.\n",
            "LDA: Calculating result for 31 topics...\n"
          ]
        },
        {
          "output_type": "stream",
          "name": "stderr",
          "text": [
            "WARNING:gensim.models.ldamodel:too few updates, training might not converge; consider increasing the number of passes or iterations to improve accuracy\n",
            "WARNING:gensim.models.ldamodel:too few updates, training might not converge; consider increasing the number of passes or iterations to improve accuracy\n"
          ]
        },
        {
          "output_type": "stream",
          "name": "stdout",
          "text": [
            "Took 33.83 seconds.\n",
            "LDA: Calculating result for 32 topics...\n",
            "Took 21.54 seconds.\n",
            "LDA: Calculating result for 33 topics...\n"
          ]
        },
        {
          "output_type": "stream",
          "name": "stderr",
          "text": [
            "WARNING:gensim.models.ldamodel:too few updates, training might not converge; consider increasing the number of passes or iterations to improve accuracy\n",
            "WARNING:gensim.models.ldamodel:too few updates, training might not converge; consider increasing the number of passes or iterations to improve accuracy\n"
          ]
        },
        {
          "output_type": "stream",
          "name": "stdout",
          "text": [
            "Took 32.50 seconds.\n",
            "LDA: Calculating result for 34 topics...\n"
          ]
        },
        {
          "output_type": "stream",
          "name": "stderr",
          "text": [
            "WARNING:gensim.models.ldamodel:too few updates, training might not converge; consider increasing the number of passes or iterations to improve accuracy\n"
          ]
        },
        {
          "output_type": "stream",
          "name": "stdout",
          "text": [
            "Took 35.72 seconds.\n",
            "LDA: Calculating result for 35 topics...\n"
          ]
        },
        {
          "output_type": "stream",
          "name": "stderr",
          "text": [
            "WARNING:gensim.models.ldamodel:too few updates, training might not converge; consider increasing the number of passes or iterations to improve accuracy\n"
          ]
        },
        {
          "output_type": "stream",
          "name": "stdout",
          "text": [
            "Took 24.79 seconds.\n",
            "LDA: Calculating result for 36 topics...\n",
            "Took 25.69 seconds.\n",
            "LDA: Calculating result for 37 topics...\n"
          ]
        },
        {
          "output_type": "stream",
          "name": "stderr",
          "text": [
            "WARNING:gensim.models.ldamodel:too few updates, training might not converge; consider increasing the number of passes or iterations to improve accuracy\n",
            "WARNING:gensim.models.ldamodel:too few updates, training might not converge; consider increasing the number of passes or iterations to improve accuracy\n"
          ]
        },
        {
          "output_type": "stream",
          "name": "stdout",
          "text": [
            "Took 33.30 seconds.\n",
            "LDA: Calculating result for 38 topics...\n"
          ]
        },
        {
          "output_type": "stream",
          "name": "stderr",
          "text": [
            "WARNING:gensim.models.ldamodel:too few updates, training might not converge; consider increasing the number of passes or iterations to improve accuracy\n"
          ]
        },
        {
          "output_type": "stream",
          "name": "stdout",
          "text": [
            "Took 31.75 seconds.\n",
            "LDA: Calculating result for 39 topics...\n"
          ]
        },
        {
          "output_type": "stream",
          "name": "stderr",
          "text": [
            "WARNING:gensim.models.ldamodel:too few updates, training might not converge; consider increasing the number of passes or iterations to improve accuracy\n"
          ]
        },
        {
          "output_type": "stream",
          "name": "stdout",
          "text": [
            "Took 23.30 seconds.\n",
            "LDA: Calculating result for 40 topics...\n",
            "Took 23.01 seconds.\n",
            "LDA: Calculating result for 41 topics...\n"
          ]
        },
        {
          "output_type": "stream",
          "name": "stderr",
          "text": [
            "WARNING:gensim.models.ldamodel:too few updates, training might not converge; consider increasing the number of passes or iterations to improve accuracy\n"
          ]
        },
        {
          "output_type": "stream",
          "name": "stdout",
          "text": [
            "Took 24.17 seconds.\n",
            "LDA: Calculating result for 42 topics...\n"
          ]
        },
        {
          "output_type": "stream",
          "name": "stderr",
          "text": [
            "WARNING:gensim.models.ldamodel:too few updates, training might not converge; consider increasing the number of passes or iterations to improve accuracy\n"
          ]
        },
        {
          "output_type": "stream",
          "name": "stdout",
          "text": [
            "Took 25.05 seconds.\n",
            "LDA: Calculating result for 43 topics...\n"
          ]
        },
        {
          "output_type": "stream",
          "name": "stderr",
          "text": [
            "WARNING:gensim.models.ldamodel:too few updates, training might not converge; consider increasing the number of passes or iterations to improve accuracy\n"
          ]
        },
        {
          "output_type": "stream",
          "name": "stdout",
          "text": [
            "Took 25.60 seconds.\n",
            "LDA: Calculating result for 44 topics...\n"
          ]
        },
        {
          "output_type": "stream",
          "name": "stderr",
          "text": [
            "WARNING:gensim.models.ldamodel:too few updates, training might not converge; consider increasing the number of passes or iterations to improve accuracy\n"
          ]
        },
        {
          "output_type": "stream",
          "name": "stdout",
          "text": [
            "Took 24.05 seconds.\n",
            "LDA: Calculating result for 45 topics...\n"
          ]
        },
        {
          "output_type": "stream",
          "name": "stderr",
          "text": [
            "WARNING:gensim.models.ldamodel:too few updates, training might not converge; consider increasing the number of passes or iterations to improve accuracy\n"
          ]
        },
        {
          "output_type": "stream",
          "name": "stdout",
          "text": [
            "Took 24.81 seconds.\n",
            "LDA: Calculating result for 46 topics...\n"
          ]
        },
        {
          "output_type": "stream",
          "name": "stderr",
          "text": [
            "WARNING:gensim.models.ldamodel:too few updates, training might not converge; consider increasing the number of passes or iterations to improve accuracy\n"
          ]
        },
        {
          "output_type": "stream",
          "name": "stdout",
          "text": [
            "Took 25.79 seconds.\n",
            "LDA: Calculating result for 47 topics...\n"
          ]
        },
        {
          "output_type": "stream",
          "name": "stderr",
          "text": [
            "WARNING:gensim.models.ldamodel:too few updates, training might not converge; consider increasing the number of passes or iterations to improve accuracy\n"
          ]
        },
        {
          "output_type": "stream",
          "name": "stdout",
          "text": [
            "Took 24.98 seconds.\n",
            "LDA: Calculating result for 48 topics...\n"
          ]
        },
        {
          "output_type": "stream",
          "name": "stderr",
          "text": [
            "WARNING:gensim.models.ldamodel:too few updates, training might not converge; consider increasing the number of passes or iterations to improve accuracy\n"
          ]
        },
        {
          "output_type": "stream",
          "name": "stdout",
          "text": [
            "Took 24.68 seconds.\n",
            "LDA: Calculating result for 49 topics...\n"
          ]
        },
        {
          "output_type": "stream",
          "name": "stderr",
          "text": [
            "WARNING:gensim.models.ldamodel:too few updates, training might not converge; consider increasing the number of passes or iterations to improve accuracy\n"
          ]
        },
        {
          "output_type": "stream",
          "name": "stdout",
          "text": [
            "Took 24.46 seconds.\n",
            "LDA: Calculating result for 50 topics...\n"
          ]
        },
        {
          "output_type": "stream",
          "name": "stderr",
          "text": [
            "WARNING:gensim.models.ldamodel:too few updates, training might not converge; consider increasing the number of passes or iterations to improve accuracy\n"
          ]
        },
        {
          "output_type": "stream",
          "name": "stdout",
          "text": [
            "Took 25.81 seconds.\n"
          ]
        },
        {
          "output_type": "display_data",
          "data": {
            "text/plain": [
              "<Figure size 640x480 with 1 Axes>"
            ],
            "image/png": "[encoded data removed]"
          },
          "metadata": {}
        }
      ],
      "source": [
        "from gensim.models import LdaModel\n",
        "\n",
        "lda_coherence_scores = []\n",
        "\n",
        "# Iterate over different numbers of topics\n",
        "for num_topics in num_topics_range:\n",
        "    start_time = time.time()\n",
        "    print(f\"LDA: Calculating result for {num_topics} topics...\")\n",
        "    # Fit NMF model\n",
        "    lda_model = LdaModel(corpus=corpus, num_topics=num_topics,\n",
        "                         id2word=dictionary, random_state=42)\n",
        "\n",
        "    # Compute coherence score\n",
        "    coherence_model = CoherenceModel(model=lda_model, texts=texts, corpus=corpus, coherence='u_mass')\n",
        "    coherence_score = coherence_model.get_coherence()\n",
        "    lda_coherence_scores.append(coherence_score)\n",
        "\n",
        "    end_time = time.time()\n",
        "    print(f\"Took {end_time - start_time:.2f} seconds.\")\n",
        "\n",
        "# Plot coherence scores\n",
        "plt.plot(num_topics_range, lda_coherence_scores, marker='o')\n",
        "plt.title('Coherence Scores for Different Number of Topics (LDA)')\n",
        "plt.xlabel('Number of Topics')\n",
        "plt.ylabel('Coherence Score')\n",
        "plt.xticks(num_topics_range)\n",
        "plt.show()"
      ]
    },
    {
      "cell_type": "code",
      "source": [
        "coherence_scores_df = pd.DataFrame({\n",
        "    'num_topics': num_topics_range,\n",
        "    'nmf_umass_score': nmf_coherence_scores,\n",
        "    'lda_umass_score': lda_coherence_scores\n",
        "})\n",
        "\n",
        "coherence_scores_df.head()"
      ],
      "metadata": {
        "colab": {
          "base_uri": "https://localhost:8080/",
          "height": 206
        },
        "id": "HiH0k0zM1qs3",
        "outputId": "963695c7-b0ab-48a5-e8fd-d51b851a1c83"
      },
      "execution_count": 45,
      "outputs": [
        {
          "output_type": "execute_result",
          "data": {
            "text/plain": [
              "   num_topics  nmf_umass_score  lda_umass_score\n",
              "0           5        -1.008553        -1.108140\n",
              "1           6        -0.988323        -1.108175\n",
              "2           7        -1.065393        -1.054153\n",
              "3           8        -1.012084        -1.048653\n",
              "4           9        -1.072506        -1.077881"
            ],
            "text/html": [
              "\n",
              "  <div id=\"df-22cd420a-4565-4943-a707-b29ead19cf69\" class=\"colab-df-container\">\n",
              "    <div>\n",
              "<style scoped>\n",
              "    .dataframe tbody tr th:only-of-type {\n",
              "        vertical-align: middle;\n",
              "    }\n",
              "\n",
              "    .dataframe tbody tr th {\n",
              "        vertical-align: top;\n",
              "    }\n",
              "\n",
              "    .dataframe thead th {\n",
              "        text-align: right;\n",
              "    }\n",
              "</style>\n",
              "<table border=\"1\" class=\"dataframe\">\n",
              "  <thead>\n",
              "    <tr style=\"text-align: right;\">\n",
              "      <th></th>\n",
              "      <th>num_topics</th>\n",
              "      <th>nmf_umass_score</th>\n",
              "      <th>lda_umass_score</th>\n",
              "    </tr>\n",
              "  </thead>\n",
              "  <tbody>\n",
              "    <tr>\n",
              "      <th>0</th>\n",
              "      <td>5</td>\n",
              "      <td>-1.008553</td>\n",
              "      <td>-1.108140</td>\n",
              "    </tr>\n",
              "    <tr>\n",
              "      <th>1</th>\n",
              "      <td>6</td>\n",
              "      <td>-0.988323</td>\n",
              "      <td>-1.108175</td>\n",
              "    </tr>\n",
              "    <tr>\n",
              "      <th>2</th>\n",
              "      <td>7</td>\n",
              "      <td>-1.065393</td>\n",
              "      <td>-1.054153</td>\n",
              "    </tr>\n",
              "    <tr>\n",
              "      <th>3</th>\n",
              "      <td>8</td>\n",
              "      <td>-1.012084</td>\n",
              "      <td>-1.048653</td>\n",
              "    </tr>\n",
              "    <tr>\n",
              "      <th>4</th>\n",
              "      <td>9</td>\n",
              "      <td>-1.072506</td>\n",
              "      <td>-1.077881</td>\n",
              "    </tr>\n",
              "  </tbody>\n",
              "</table>\n",
              "</div>\n",
              "    <div class=\"colab-df-buttons\">\n",
              "\n",
              "  <div class=\"colab-df-container\">\n",
              "    <button class=\"colab-df-convert\" onclick=\"convertToInteractive('df-22cd420a-4565-4943-a707-b29ead19cf69')\"\n",
              "            title=\"Convert this dataframe to an interactive table.\"\n",
              "            style=\"display:none;\">\n",
              "\n",
              "  <svg xmlns=\"http://www.w3.org/2000/svg\" height=\"24px\" viewBox=\"0 -960 960 960\">\n",
              "    <path d=\"M120-120v-720h720v720H120Zm60-500h600v-160H180v160Zm220 220h160v-160H400v160Zm0 220h160v-160H400v160ZM180-400h160v-160H180v160Zm440 0h160v-160H620v160ZM180-180h160v-160H180v160Zm440 0h160v-160H620v160Z\"/>\n",
              "  </svg>\n",
              "    </button>\n",
              "\n",
              "  <style>\n",
              "    .colab-df-container {\n",
              "      display:flex;\n",
              "      gap: 12px;\n",
              "    }\n",
              "\n",
              "    .colab-df-convert {\n",
              "      background-color: #E8F0FE;\n",
              "      border: none;\n",
              "      border-radius: 50%;\n",
              "      cursor: pointer;\n",
              "      display: none;\n",
              "      fill: #1967D2;\n",
              "      height: 32px;\n",
              "      padding: 0 0 0 0;\n",
              "      width: 32px;\n",
              "    }\n",
              "\n",
              "    .colab-df-convert:hover {\n",
              "      background-color: #E2EBFA;\n",
              "      box-shadow: 0px 1px 2px rgba(60, 64, 67, 0.3), 0px 1px 3px 1px rgba(60, 64, 67, 0.15);\n",
              "      fill: #174EA6;\n",
              "    }\n",
              "\n",
              "    .colab-df-buttons div {\n",
              "      margin-bottom: 4px;\n",
              "    }\n",
              "\n",
              "    [theme=dark] .colab-df-convert {\n",
              "      background-color: #3B4455;\n",
              "      fill: #D2E3FC;\n",
              "    }\n",
              "\n",
              "    [theme=dark] .colab-df-convert:hover {\n",
              "      background-color: #434B5C;\n",
              "      box-shadow: 0px 1px 3px 1px rgba(0, 0, 0, 0.15);\n",
              "      filter: drop-shadow(0px 1px 2px rgba(0, 0, 0, 0.3));\n",
              "      fill: #FFFFFF;\n",
              "    }\n",
              "  </style>\n",
              "\n",
              "    <script>\n",
              "      const buttonEl =\n",
              "        document.querySelector('#df-22cd420a-4565-4943-a707-b29ead19cf69 button.colab-df-convert');\n",
              "      buttonEl.style.display =\n",
              "        google.colab.kernel.accessAllowed ? 'block' : 'none';\n",
              "\n",
              "      async function convertToInteractive(key) {\n",
              "        const element = document.querySelector('#df-22cd420a-4565-4943-a707-b29ead19cf69');\n",
              "        const dataTable =\n",
              "          await google.colab.kernel.invokeFunction('convertToInteractive',\n",
              "                                                    [key], {});\n",
              "        if (!dataTable) return;\n",
              "\n",
              "        const docLinkHtml = 'Like what you see? Visit the ' +\n",
              "          '<a target=\"_blank\" href=https://colab.research.google.com/notebooks/data_table.ipynb>data table notebook</a>'\n",
              "          + ' to learn more about interactive tables.';\n",
              "        element.innerHTML = '';\n",
              "        dataTable['output_type'] = 'display_data';\n",
              "        await google.colab.output.renderOutput(dataTable, element);\n",
              "        const docLink = document.createElement('div');\n",
              "        docLink.innerHTML = docLinkHtml;\n",
              "        element.appendChild(docLink);\n",
              "      }\n",
              "    </script>\n",
              "  </div>\n",
              "\n",
              "\n",
              "<div id=\"df-0d4817b1-6721-47b9-99da-db3913390079\">\n",
              "  <button class=\"colab-df-quickchart\" onclick=\"quickchart('df-0d4817b1-6721-47b9-99da-db3913390079')\"\n",
              "            title=\"Suggest charts\"\n",
              "            style=\"display:none;\">\n",
              "\n",
              "<svg xmlns=\"http://www.w3.org/2000/svg\" height=\"24px\"viewBox=\"0 0 24 24\"\n",
              "     width=\"24px\">\n",
              "    <g>\n",
              "        <path d=\"M19 3H5c-1.1 0-2 .9-2 2v14c0 1.1.9 2 2 2h14c1.1 0 2-.9 2-2V5c0-1.1-.9-2-2-2zM9 17H7v-7h2v7zm4 0h-2V7h2v10zm4 0h-2v-4h2v4z\"/>\n",
              "    </g>\n",
              "</svg>\n",
              "  </button>\n",
              "\n",
              "<style>\n",
              "  .colab-df-quickchart {\n",
              "      --bg-color: #E8F0FE;\n",
              "      --fill-color: #1967D2;\n",
              "      --hover-bg-color: #E2EBFA;\n",
              "      --hover-fill-color: #174EA6;\n",
              "      --disabled-fill-color: #AAA;\n",
              "      --disabled-bg-color: #DDD;\n",
              "  }\n",
              "\n",
              "  [theme=dark] .colab-df-quickchart {\n",
              "      --bg-color: #3B4455;\n",
              "      --fill-color: #D2E3FC;\n",
              "      --hover-bg-color: #434B5C;\n",
              "      --hover-fill-color: #FFFFFF;\n",
              "      --disabled-bg-color: #3B4455;\n",
              "      --disabled-fill-color: #666;\n",
              "  }\n",
              "\n",
              "  .colab-df-quickchart {\n",
              "    background-color: var(--bg-color);\n",
              "    border: none;\n",
              "    border-radius: 50%;\n",
              "    cursor: pointer;\n",
              "    display: none;\n",
              "    fill: var(--fill-color);\n",
              "    height: 32px;\n",
              "    padding: 0;\n",
              "    width: 32px;\n",
              "  }\n",
              "\n",
              "  .colab-df-quickchart:hover {\n",
              "    background-color: var(--hover-bg-color);\n",
              "    box-shadow: 0 1px 2px rgba(60, 64, 67, 0.3), 0 1px 3px 1px rgba(60, 64, 67, 0.15);\n",
              "    fill: var(--button-hover-fill-color);\n",
              "  }\n",
              "\n",
              "  .colab-df-quickchart-complete:disabled,\n",
              "  .colab-df-quickchart-complete:disabled:hover {\n",
              "    background-color: var(--disabled-bg-color);\n",
              "    fill: var(--disabled-fill-color);\n",
              "    box-shadow: none;\n",
              "  }\n",
              "\n",
              "  .colab-df-spinner {\n",
              "    border: 2px solid var(--fill-color);\n",
              "    border-color: transparent;\n",
              "    border-bottom-color: var(--fill-color);\n",
              "    animation:\n",
              "      spin 1s steps(1) infinite;\n",
              "  }\n",
              "\n",
              "  @keyframes spin {\n",
              "    0% {\n",
              "      border-color: transparent;\n",
              "      border-bottom-color: var(--fill-color);\n",
              "      border-left-color: var(--fill-color);\n",
              "    }\n",
              "    20% {\n",
              "      border-color: transparent;\n",
              "      border-left-color: var(--fill-color);\n",
              "      border-top-color: var(--fill-color);\n",
              "    }\n",
              "    30% {\n",
              "      border-color: transparent;\n",
              "      border-left-color: var(--fill-color);\n",
              "      border-top-color: var(--fill-color);\n",
              "      border-right-color: var(--fill-color);\n",
              "    }\n",
              "    40% {\n",
              "      border-color: transparent;\n",
              "      border-right-color: var(--fill-color);\n",
              "      border-top-color: var(--fill-color);\n",
              "    }\n",
              "    60% {\n",
              "      border-color: transparent;\n",
              "      border-right-color: var(--fill-color);\n",
              "    }\n",
              "    80% {\n",
              "      border-color: transparent;\n",
              "      border-right-color: var(--fill-color);\n",
              "      border-bottom-color: var(--fill-color);\n",
              "    }\n",
              "    90% {\n",
              "      border-color: transparent;\n",
              "      border-bottom-color: var(--fill-color);\n",
              "    }\n",
              "  }\n",
              "</style>\n",
              "\n",
              "  <script>\n",
              "    async function quickchart(key) {\n",
              "      const quickchartButtonEl =\n",
              "        document.querySelector('#' + key + ' button');\n",
              "      quickchartButtonEl.disabled = true;  // To prevent multiple clicks.\n",
              "      quickchartButtonEl.classList.add('colab-df-spinner');\n",
              "      try {\n",
              "        const charts = await google.colab.kernel.invokeFunction(\n",
              "            'suggestCharts', [key], {});\n",
              "      } catch (error) {\n",
              "        console.error('Error during call to suggestCharts:', error);\n",
              "      }\n",
              "      quickchartButtonEl.classList.remove('colab-df-spinner');\n",
              "      quickchartButtonEl.classList.add('colab-df-quickchart-complete');\n",
              "    }\n",
              "    (() => {\n",
              "      let quickchartButtonEl =\n",
              "        document.querySelector('#df-0d4817b1-6721-47b9-99da-db3913390079 button');\n",
              "      quickchartButtonEl.style.display =\n",
              "        google.colab.kernel.accessAllowed ? 'block' : 'none';\n",
              "    })();\n",
              "  </script>\n",
              "</div>\n",
              "    </div>\n",
              "  </div>\n"
            ],
            "application/vnd.google.colaboratory.intrinsic+json": {
              "type": "dataframe",
              "variable_name": "coherence_scores_df",
              "summary": "{\n  \"name\": \"coherence_scores_df\",\n  \"rows\": 46,\n  \"fields\": [\n    {\n      \"column\": \"num_topics\",\n      \"properties\": {\n        \"dtype\": \"number\",\n        \"std\": 13,\n        \"min\": 5,\n        \"max\": 50,\n        \"num_unique_values\": 46,\n        \"samples\": [\n          44,\n          30,\n          31\n        ],\n        \"semantic_type\": \"\",\n        \"description\": \"\"\n      }\n    },\n    {\n      \"column\": \"nmf_umass_score\",\n      \"properties\": {\n        \"dtype\": \"number\",\n        \"std\": 0.08319803937506438,\n        \"min\": -1.314220582009196,\n        \"max\": -0.9883234111945569,\n        \"num_unique_values\": 46,\n        \"samples\": [\n          -1.2840915529216883,\n          -1.2289484953472345,\n          -1.1920397426431117\n        ],\n        \"semantic_type\": \"\",\n        \"description\": \"\"\n      }\n    },\n    {\n      \"column\": \"lda_umass_score\",\n      \"properties\": {\n        \"dtype\": \"number\",\n        \"std\": 0.1356334909732463,\n        \"min\": -1.6041424340233612,\n        \"max\": -1.0486530525186903,\n        \"num_unique_values\": 46,\n        \"samples\": [\n          -1.4255308895172825,\n          -1.3907329940854132,\n          -1.291475005749391\n        ],\n        \"semantic_type\": \"\",\n        \"description\": \"\"\n      }\n    }\n  ]\n}"
            }
          },
          "metadata": {},
          "execution_count": 45
        }
      ]
    },
    {
      "cell_type": "code",
      "source": [
        "import matplotlib.pyplot as plt\n",
        "import pandas as pd\n",
        "\n",
        "# Assuming you already have the coherence_scores_df DataFrame\n",
        "\n",
        "# Setting a minimalistic style\n",
        "plt.style.use('seaborn-white')\n",
        "\n",
        "# Plotting\n",
        "plt.figure(figsize=(12, 8))  # Increase the figure size for better visibility\n",
        "\n",
        "# Plotting the NMF coherence scores\n",
        "plt.plot(coherence_scores_df['num_topics'], coherence_scores_df['nmf_umass_score'], marker='o', label='NMF')\n",
        "\n",
        "# Plotting the LDA coherence scores\n",
        "plt.plot(coherence_scores_df['num_topics'], coherence_scores_df['lda_umass_score'], marker='o', label='LDA')\n",
        "\n",
        "# Adding labels and title\n",
        "plt.xlabel('Number of Topics')\n",
        "plt.ylabel('Coherence Score')\n",
        "plt.title('Coherence Scores vs. Number of Topics')\n",
        "\n",
        "# Adding legend\n",
        "plt.legend()\n",
        "\n",
        "# Customize ticks on the axes to show all number labels\n",
        "plt.xticks(coherence_scores_df['num_topics'])  # Set x-ticks to match the data points\n",
        "plt.yticks()  # Auto-generate y-ticks\n",
        "\n",
        "# Adding vertical gridlines on every tick mark\n",
        "plt.grid(axis='x', which='both')\n",
        "\n",
        "# Showing the plot\n",
        "plt.show()\n"
      ],
      "metadata": {
        "colab": {
          "base_uri": "https://localhost:8080/",
          "height": 766
        },
        "id": "zlsoI7AK3u2a",
        "outputId": "5bc02e6c-9df0-4802-f1be-d153d7bf6b61"
      },
      "execution_count": 46,
      "outputs": [
        {
          "output_type": "stream",
          "name": "stderr",
          "text": [
            "<ipython-input-46-a9adbc07b73a>:7: MatplotlibDeprecationWarning: The seaborn styles shipped by Matplotlib are deprecated since 3.6, as they no longer correspond to the styles shipped by seaborn. However, they will remain available as 'seaborn-v0_8-<style>'. Alternatively, directly use the seaborn API instead.\n",
            "  plt.style.use('seaborn-white')\n"
          ]
        },
        {
          "output_type": "display_data",
          "data": {
            "text/plain": [
              "<Figure size 1200x800 with 1 Axes>"
            ],
            "image/png": "[encoded data removed]"
          },
          "metadata": {}
        }
      ]
    },
    {
      "cell_type": "code",
      "source": [
        "from datetime import datetime\n",
        "\n",
        "today = datetime.today()\n",
        "\n",
        "date_yyyymmdd = today.strftime('%Y%m%d')\n",
        "date_yyyymmdd = str(date_yyyymmdd)"
      ],
      "metadata": {
        "id": "MSlJvO4W1JKp"
      },
      "execution_count": 39,
      "outputs": []
    },
    {
      "cell_type": "code",
      "source": [
        "from google.colab import drive\n",
        "import os\n",
        "drive.mount('/content/drive')\n",
        "\n",
        "# Define the directory path\n",
        "directory = \"/content/drive/My Drive/singapore-parliament-speeches/scores/\"\n",
        "\n",
        "# Create the directory if it doesn't exist\n",
        "if not os.path.exists(directory):\n",
        "    os.makedirs(directory)\n",
        "\n",
        "coherence_scores_df.to_csv(f'{directory}scores_{date_yyyymmdd}.csv', index=False)"
      ],
      "metadata": {
        "colab": {
          "base_uri": "https://localhost:8080/"
        },
        "id": "DqR2tI1l0v6j",
        "outputId": "2fb2dc93-b156-4df8-fcc8-286e345c4d11"
      },
      "execution_count": 44,
      "outputs": [
        {
          "output_type": "stream",
          "name": "stdout",
          "text": [
            "Drive already mounted at /content/drive; to attempt to forcibly remount, call drive.mount(\"/content/drive\", force_remount=True).\n"
          ]
        }
      ]
    }
  ],
  "metadata": {
    "colab": {
      "provenance": [],
      "authorship_tag": "ABX9TyOgz4xyqF0r+qxEXzrlxS0q",
      "include_colab_link": true
    },
    "kernelspec": {
      "display_name": "Python 3",
      "name": "python3"
    },
    "language_info": {
      "name": "python"
    }
  },
  "nbformat": 4,
  "nbformat_minor": 0
}