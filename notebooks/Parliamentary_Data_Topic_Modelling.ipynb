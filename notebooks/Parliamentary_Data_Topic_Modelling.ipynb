{
  "cells": [
    {
      "cell_type": "markdown",
      "metadata": {
        "id": "view-in-github",
        "colab_type": "text"
      },
      "source": [
        "<a href=\"https://colab.research.google.com/github/jeremychia/singapore-parliament-speeches/blob/main/Parliamentary_Data_Topic_Modelling.ipynb\" target=\"_parent\"><img src=\"https://colab.research.google.com/assets/colab-badge.svg\" alt=\"Open In Colab\"/></a>"
      ]
    },
    {
      "cell_type": "code",
      "execution_count": 22,
      "metadata": {
        "id": "D3GH2K1jxHEb"
      },
      "outputs": [],
      "source": [
        "# install bigquery client library\n",
        "!pip install google-cloud-bigquery --quiet"
      ]
    },
    {
      "cell_type": "code",
      "execution_count": 23,
      "metadata": {
        "id": "3LGDjO_TEmsL"
      },
      "outputs": [],
      "source": [
        "# authenticate to GCP\n",
        "from google.colab import auth\n",
        "auth.authenticate_user()"
      ]
    },
    {
      "cell_type": "code",
      "execution_count": 24,
      "metadata": {
        "id": "B4RYeThLEvHQ"
      },
      "outputs": [],
      "source": [
        "# set up project id and dataset\n",
        "project_id = \"singapore-parliament-speeches\"  # Replace with your GCP project ID\n",
        "dataset_id = \"singapore-parliament-speeches.prod_mart.mart_speeches\""
      ]
    },
    {
      "cell_type": "code",
      "execution_count": 25,
      "metadata": {
        "id": "FlW_ua9EE6iT"
      },
      "outputs": [],
      "source": [
        "# create a bigquery client\n",
        "from google.cloud import bigquery\n",
        "client = bigquery.Client(project=project_id)"
      ]
    },
    {
      "cell_type": "code",
      "execution_count": 26,
      "metadata": {
        "id": "TacNfIpQFBP8"
      },
      "outputs": [],
      "source": [
        "# define query\n",
        "query = f\"\"\"\n",
        "  select\n",
        "    topic_id,\n",
        "    speech_text\n",
        "  from {dataset_id}\n",
        "  order by date desc, speech_id\n",
        "\"\"\""
      ]
    },
    {
      "cell_type": "code",
      "execution_count": 27,
      "metadata": {
        "id": "VwTi1mERFhFV"
      },
      "outputs": [],
      "source": [
        "# run query\n",
        "import pandas as pd\n",
        "query_job = client.query(query)\n",
        "df = query_job.to_dataframe()"
      ]
    },
    {
      "cell_type": "code",
      "execution_count": 28,
      "metadata": {
        "id": "1Sv8_iWhGBNQ"
      },
      "outputs": [],
      "source": [
        "# compbine text by topic\n",
        "\n",
        "def combine_text_by_topic(df):\n",
        "\n",
        "  combined_text = {}\n",
        "  for index, row in df.iterrows():\n",
        "    topic_id = row['topic_id']\n",
        "    text = row['speech_text']\n",
        "    if topic_id not in combined_text:\n",
        "      combined_text[topic_id] = \"\"\n",
        "    combined_text[topic_id] += ' ' + text\n",
        "\n",
        "  result_df = pd.DataFrame.from_dict(combined_text, orient='index', columns=['speech_text'])\n",
        "  result_df.reset_index(inplace=True)\n",
        "  result_df.rename(columns={'index': 'topic_id'}, inplace=True)\n",
        "\n",
        "  return result_df\n",
        "\n",
        "# execute\n",
        "ct_df = combine_text_by_topic(df)"
      ]
    },
    {
      "cell_type": "code",
      "execution_count": 29,
      "metadata": {
        "colab": {
          "base_uri": "https://localhost:8080/",
          "height": 206
        },
        "id": "kAD3gpy4H3Sm",
        "outputId": "48980837-c622-4d7d-cb92-8d086810beba"
      },
      "outputs": [
        {
          "output_type": "execute_result",
          "data": {
            "text/plain": [
              "           topic_id                                        speech_text\n",
              "0  2024-03-07-T-001   Order. Sir, can I ask you to exercise your po...\n",
              "1  2024-03-07-T-002   asked the Minister for Defence (a) what effor...\n",
              "2  2024-03-07-T-003   asked the Minister for Health (a) what is the...\n",
              "3  2024-03-07-T-004   asked the Minister for Health (a) how many ne...\n",
              "4  2024-03-07-T-005   asked the Minister for Manpower in view that ..."
            ],
            "text/html": [
              "\n",
              "  <div id=\"df-c51b80ea-81dd-42f5-a3da-59d830af00d5\" class=\"colab-df-container\">\n",
              "    <div>\n",
              "<style scoped>\n",
              "    .dataframe tbody tr th:only-of-type {\n",
              "        vertical-align: middle;\n",
              "    }\n",
              "\n",
              "    .dataframe tbody tr th {\n",
              "        vertical-align: top;\n",
              "    }\n",
              "\n",
              "    .dataframe thead th {\n",
              "        text-align: right;\n",
              "    }\n",
              "</style>\n",
              "<table border=\"1\" class=\"dataframe\">\n",
              "  <thead>\n",
              "    <tr style=\"text-align: right;\">\n",
              "      <th></th>\n",
              "      <th>topic_id</th>\n",
              "      <th>speech_text</th>\n",
              "    </tr>\n",
              "  </thead>\n",
              "  <tbody>\n",
              "    <tr>\n",
              "      <th>0</th>\n",
              "      <td>2024-03-07-T-001</td>\n",
              "      <td>Order. Sir, can I ask you to exercise your po...</td>\n",
              "    </tr>\n",
              "    <tr>\n",
              "      <th>1</th>\n",
              "      <td>2024-03-07-T-002</td>\n",
              "      <td>asked the Minister for Defence (a) what effor...</td>\n",
              "    </tr>\n",
              "    <tr>\n",
              "      <th>2</th>\n",
              "      <td>2024-03-07-T-003</td>\n",
              "      <td>asked the Minister for Health (a) what is the...</td>\n",
              "    </tr>\n",
              "    <tr>\n",
              "      <th>3</th>\n",
              "      <td>2024-03-07-T-004</td>\n",
              "      <td>asked the Minister for Health (a) how many ne...</td>\n",
              "    </tr>\n",
              "    <tr>\n",
              "      <th>4</th>\n",
              "      <td>2024-03-07-T-005</td>\n",
              "      <td>asked the Minister for Manpower in view that ...</td>\n",
              "    </tr>\n",
              "  </tbody>\n",
              "</table>\n",
              "</div>\n",
              "    <div class=\"colab-df-buttons\">\n",
              "\n",
              "  <div class=\"colab-df-container\">\n",
              "    <button class=\"colab-df-convert\" onclick=\"convertToInteractive('df-c51b80ea-81dd-42f5-a3da-59d830af00d5')\"\n",
              "            title=\"Convert this dataframe to an interactive table.\"\n",
              "            style=\"display:none;\">\n",
              "\n",
              "  <svg xmlns=\"http://www.w3.org/2000/svg\" height=\"24px\" viewBox=\"0 -960 960 960\">\n",
              "    <path d=\"M120-120v-720h720v720H120Zm60-500h600v-160H180v160Zm220 220h160v-160H400v160Zm0 220h160v-160H400v160ZM180-400h160v-160H180v160Zm440 0h160v-160H620v160ZM180-180h160v-160H180v160Zm440 0h160v-160H620v160Z\"/>\n",
              "  </svg>\n",
              "    </button>\n",
              "\n",
              "  <style>\n",
              "    .colab-df-container {\n",
              "      display:flex;\n",
              "      gap: 12px;\n",
              "    }\n",
              "\n",
              "    .colab-df-convert {\n",
              "      background-color: #E8F0FE;\n",
              "      border: none;\n",
              "      border-radius: 50%;\n",
              "      cursor: pointer;\n",
              "      display: none;\n",
              "      fill: #1967D2;\n",
              "      height: 32px;\n",
              "      padding: 0 0 0 0;\n",
              "      width: 32px;\n",
              "    }\n",
              "\n",
              "    .colab-df-convert:hover {\n",
              "      background-color: #E2EBFA;\n",
              "      box-shadow: 0px 1px 2px rgba(60, 64, 67, 0.3), 0px 1px 3px 1px rgba(60, 64, 67, 0.15);\n",
              "      fill: #174EA6;\n",
              "    }\n",
              "\n",
              "    .colab-df-buttons div {\n",
              "      margin-bottom: 4px;\n",
              "    }\n",
              "\n",
              "    [theme=dark] .colab-df-convert {\n",
              "      background-color: #3B4455;\n",
              "      fill: #D2E3FC;\n",
              "    }\n",
              "\n",
              "    [theme=dark] .colab-df-convert:hover {\n",
              "      background-color: #434B5C;\n",
              "      box-shadow: 0px 1px 3px 1px rgba(0, 0, 0, 0.15);\n",
              "      filter: drop-shadow(0px 1px 2px rgba(0, 0, 0, 0.3));\n",
              "      fill: #FFFFFF;\n",
              "    }\n",
              "  </style>\n",
              "\n",
              "    <script>\n",
              "      const buttonEl =\n",
              "        document.querySelector('#df-c51b80ea-81dd-42f5-a3da-59d830af00d5 button.colab-df-convert');\n",
              "      buttonEl.style.display =\n",
              "        google.colab.kernel.accessAllowed ? 'block' : 'none';\n",
              "\n",
              "      async function convertToInteractive(key) {\n",
              "        const element = document.querySelector('#df-c51b80ea-81dd-42f5-a3da-59d830af00d5');\n",
              "        const dataTable =\n",
              "          await google.colab.kernel.invokeFunction('convertToInteractive',\n",
              "                                                    [key], {});\n",
              "        if (!dataTable) return;\n",
              "\n",
              "        const docLinkHtml = 'Like what you see? Visit the ' +\n",
              "          '<a target=\"_blank\" href=https://colab.research.google.com/notebooks/data_table.ipynb>data table notebook</a>'\n",
              "          + ' to learn more about interactive tables.';\n",
              "        element.innerHTML = '';\n",
              "        dataTable['output_type'] = 'display_data';\n",
              "        await google.colab.output.renderOutput(dataTable, element);\n",
              "        const docLink = document.createElement('div');\n",
              "        docLink.innerHTML = docLinkHtml;\n",
              "        element.appendChild(docLink);\n",
              "      }\n",
              "    </script>\n",
              "  </div>\n",
              "\n",
              "\n",
              "<div id=\"df-c86bb379-c7b5-4961-97eb-0fdf36b11f82\">\n",
              "  <button class=\"colab-df-quickchart\" onclick=\"quickchart('df-c86bb379-c7b5-4961-97eb-0fdf36b11f82')\"\n",
              "            title=\"Suggest charts\"\n",
              "            style=\"display:none;\">\n",
              "\n",
              "<svg xmlns=\"http://www.w3.org/2000/svg\" height=\"24px\"viewBox=\"0 0 24 24\"\n",
              "     width=\"24px\">\n",
              "    <g>\n",
              "        <path d=\"M19 3H5c-1.1 0-2 .9-2 2v14c0 1.1.9 2 2 2h14c1.1 0 2-.9 2-2V5c0-1.1-.9-2-2-2zM9 17H7v-7h2v7zm4 0h-2V7h2v10zm4 0h-2v-4h2v4z\"/>\n",
              "    </g>\n",
              "</svg>\n",
              "  </button>\n",
              "\n",
              "<style>\n",
              "  .colab-df-quickchart {\n",
              "      --bg-color: #E8F0FE;\n",
              "      --fill-color: #1967D2;\n",
              "      --hover-bg-color: #E2EBFA;\n",
              "      --hover-fill-color: #174EA6;\n",
              "      --disabled-fill-color: #AAA;\n",
              "      --disabled-bg-color: #DDD;\n",
              "  }\n",
              "\n",
              "  [theme=dark] .colab-df-quickchart {\n",
              "      --bg-color: #3B4455;\n",
              "      --fill-color: #D2E3FC;\n",
              "      --hover-bg-color: #434B5C;\n",
              "      --hover-fill-color: #FFFFFF;\n",
              "      --disabled-bg-color: #3B4455;\n",
              "      --disabled-fill-color: #666;\n",
              "  }\n",
              "\n",
              "  .colab-df-quickchart {\n",
              "    background-color: var(--bg-color);\n",
              "    border: none;\n",
              "    border-radius: 50%;\n",
              "    cursor: pointer;\n",
              "    display: none;\n",
              "    fill: var(--fill-color);\n",
              "    height: 32px;\n",
              "    padding: 0;\n",
              "    width: 32px;\n",
              "  }\n",
              "\n",
              "  .colab-df-quickchart:hover {\n",
              "    background-color: var(--hover-bg-color);\n",
              "    box-shadow: 0 1px 2px rgba(60, 64, 67, 0.3), 0 1px 3px 1px rgba(60, 64, 67, 0.15);\n",
              "    fill: var(--button-hover-fill-color);\n",
              "  }\n",
              "\n",
              "  .colab-df-quickchart-complete:disabled,\n",
              "  .colab-df-quickchart-complete:disabled:hover {\n",
              "    background-color: var(--disabled-bg-color);\n",
              "    fill: var(--disabled-fill-color);\n",
              "    box-shadow: none;\n",
              "  }\n",
              "\n",
              "  .colab-df-spinner {\n",
              "    border: 2px solid var(--fill-color);\n",
              "    border-color: transparent;\n",
              "    border-bottom-color: var(--fill-color);\n",
              "    animation:\n",
              "      spin 1s steps(1) infinite;\n",
              "  }\n",
              "\n",
              "  @keyframes spin {\n",
              "    0% {\n",
              "      border-color: transparent;\n",
              "      border-bottom-color: var(--fill-color);\n",
              "      border-left-color: var(--fill-color);\n",
              "    }\n",
              "    20% {\n",
              "      border-color: transparent;\n",
              "      border-left-color: var(--fill-color);\n",
              "      border-top-color: var(--fill-color);\n",
              "    }\n",
              "    30% {\n",
              "      border-color: transparent;\n",
              "      border-left-color: var(--fill-color);\n",
              "      border-top-color: var(--fill-color);\n",
              "      border-right-color: var(--fill-color);\n",
              "    }\n",
              "    40% {\n",
              "      border-color: transparent;\n",
              "      border-right-color: var(--fill-color);\n",
              "      border-top-color: var(--fill-color);\n",
              "    }\n",
              "    60% {\n",
              "      border-color: transparent;\n",
              "      border-right-color: var(--fill-color);\n",
              "    }\n",
              "    80% {\n",
              "      border-color: transparent;\n",
              "      border-right-color: var(--fill-color);\n",
              "      border-bottom-color: var(--fill-color);\n",
              "    }\n",
              "    90% {\n",
              "      border-color: transparent;\n",
              "      border-bottom-color: var(--fill-color);\n",
              "    }\n",
              "  }\n",
              "</style>\n",
              "\n",
              "  <script>\n",
              "    async function quickchart(key) {\n",
              "      const quickchartButtonEl =\n",
              "        document.querySelector('#' + key + ' button');\n",
              "      quickchartButtonEl.disabled = true;  // To prevent multiple clicks.\n",
              "      quickchartButtonEl.classList.add('colab-df-spinner');\n",
              "      try {\n",
              "        const charts = await google.colab.kernel.invokeFunction(\n",
              "            'suggestCharts', [key], {});\n",
              "      } catch (error) {\n",
              "        console.error('Error during call to suggestCharts:', error);\n",
              "      }\n",
              "      quickchartButtonEl.classList.remove('colab-df-spinner');\n",
              "      quickchartButtonEl.classList.add('colab-df-quickchart-complete');\n",
              "    }\n",
              "    (() => {\n",
              "      let quickchartButtonEl =\n",
              "        document.querySelector('#df-c86bb379-c7b5-4961-97eb-0fdf36b11f82 button');\n",
              "      quickchartButtonEl.style.display =\n",
              "        google.colab.kernel.accessAllowed ? 'block' : 'none';\n",
              "    })();\n",
              "  </script>\n",
              "</div>\n",
              "    </div>\n",
              "  </div>\n"
            ],
            "application/vnd.google.colaboratory.intrinsic+json": {
              "type": "dataframe",
              "variable_name": "ct_df",
              "summary": "{\n  \"name\": \"ct_df\",\n  \"rows\": 17462,\n  \"fields\": [\n    {\n      \"column\": \"topic_id\",\n      \"properties\": {\n        \"dtype\": \"string\",\n        \"num_unique_values\": 17462,\n        \"samples\": [\n          \"2021-10-05-T-091\",\n          \"2021-01-05-T-002\",\n          \"2021-05-10-T-014\"\n        ],\n        \"semantic_type\": \"\",\n        \"description\": \"\"\n      }\n    },\n    {\n      \"column\": \"speech_text\",\n      \"properties\": {\n        \"dtype\": \"string\",\n        \"num_unique_values\": 17381,\n        \"samples\": [\n          \" Madam, I beg to move, \\\"That the total sum to be allocated for Head U of the Estimates be reduced by $100.\\\" Madam, my cut is on \\\"An Integrated Public Service\\\". Our Public Service is, indeed, the envy of the world. It has done very well and I am even reminded of a story \\u2212 there was a certain foreign government which wanted to buy an entire Statutory Board from Singapore. They have done well and I commend them for it. But even Olympians can improve, as Joseph Schooling showed us last week. Therefore, in confronting a horizon that is rapidly changing, digitising and globalising, our Public Service will do well to keep an eye on the horizon and to see how we can move with the times, so that it can remain the enviable service that so many hanker after. In the early days of nation building, each Ministry's mission was rather well-defined and each could go about its own job to achieve its mission  MND to build good flats, MINDEF to protect Singapore's sovereignty and so forth. Now, fast forward to today's digital and globalised age. Though the basic mission remains the same for each Ministry, there are many \\\"horizontal factors\\\" that impact how each functionally-organised vertical Ministry should fulfil its mission. Such factors cut right across, sometimes, two, three or more Ministries. Take our ageing demographic as an example. It will affect how our flats are designed, how many recruits the SAF will be able to enlist, the dependency ratio impacting retirement age, geriatric care, even burial sites and so forth. Another horizontal factor relates to procurement. Here, the Government has the ability to leverage on scale to procure more smartly if every Ministry could pool their major procurement needs centrally. One other area is data analytics. This is an area where collaboration can yield very good results. Through our various Government e-portals, there are valuable data sets that can be mined and put to good use to improve the Public Service in the areas of public transport, healthcare, urban planning and so forth. In this fast-paced digital world, our citizens are also expecting more from the Government. They expect a single point of contact and a very highly responsive service. Would it be possible one day, and hopefully soon, for Singaporeans to hold just one secure mobile app to transact \\u2212 transact meaning to apply, to be informed, to pay, to receive and so on \\u2212 with every Government department which is also linked to the private sector. The coordination among Government Ministries and agencies to seize opportunities in this new world and to meet the challenges that confront us can produce much better outcomes than if each Ministry worked on its own. One hallmark of Singapore's good governance has been the ability and determination to take a concerted view on how to improve Singapore for Singaporeans. It has never been about the parochial interest of a single Ministry or Government agency. This may seem obvious, but such concerted whole-of-Government approach is often not present in many countries. In several of these countries, the Minister guards his turf jealously, but not so in Singapore. Our founding leaders did so, and our current leaders must continue to do this, in order to secure Singapore's future for the next 50 or more years. To support our growth, the Public Service needs to work as \\\"One\\\" and also to plan for the long term, as Minister Heng Swee Keat spoke about, and even as it tends to Singapore's immediate needs. Increasingly, as our economy matures, our strategic resources like manpower, land, energy and water must be managed better for there are trade-offs when used by one Ministry versus another. Therefore, the one-dimensional approach of just having vertical silos in Ministries may not work so well. However, matrix structures which have been practised elsewhere, may also pose its own difficulties. I think, fundamentally, it boils down to the ethos and the shared value of the Public Service, that each and every one, in whichever Ministry you may be, must think of the whole and put it before its own interest. I think, with that, Singapore will do well. I would like to ask the Minister if he can help us understand what else we can do to be an integrated Public Service. [() Question proposed. ()] Mdm Chairman, we live in extremely challenging and exciting times. Change has to be the only constant in our lives and it is also how we transform ourselves and our mindsets to keep abreast. The Singapore Public Service is highly qualified and capable, ranks well in terms of effectiveness and regulatory quality at the global level. The staff form a part of the Public Service leadership, helping in the formulation of policies for Singapore and upholding Singaporean interests. As such, the need for robust, versatile, rapid thinking, informed and sensitive individuals is necessary. With globalisation and a more connected world, our Public Service must be prepared with resourcefulness, creativity and adaptability. How do we ensure our Public Service staff can (a) continuously learn and develop experiential capabilities? (b) execute a collaborative culture across organisations and Ministries to reduce wastage, enhance efficiency and productivity, especially in the areas of procurement, manpower and budgeting? (c) share best practices over various platforms as well as keep open communications channel? Here is where teamwork to strengthen various domains must come hand-in-hand with breaking down the unnecessary silos; and (d) be more integrated in our heartlands and the issues the man-on-the-street faces. This is also where some form of sharing of databases may be sensible, within limits of maintaining confidentiality. Mdm Chairman, Singapore's Public Service is renowned for its transparency and efficiency. In fact, it often tops international rankings. In the early days, the Public Service created many world-class infrastructure, such as the PSA port, Changi Airport, HDB housing, Garden City, Intelligent Island, Jurong Island and so on, all of which we are very proud of. In recent years, however, competition has caught up in fast and furious ways. Some cities might have even surpassed us in hard infrastructure, technology applications and people- and business-friendly regulations. Singaporeans who travel frequently often warn that we should not slacken in our efforts to improve. As our society matures, so has our Public Service. Our public institutions appear to be much larger, having more specialisations and divisions of work, longer command chain and slower decision-making. It does not help if our newly-recruited officers serving the public do not walk the ground, or those serving businesses do not understand how SMEs work. Mdm Chairman, I would like to ask the Minister for his vision and plans for an innovative and integrated Public Services. Would he consider setting up a \\\"Cut Red Tape Task Force\\\" to simplify regulatory burden on our businesses? How can the Public Service culture be improved to empower officers, young and long-serving, to challenge the status quo, take initiative and drive change? How often do officers keep track of competition to stay ahead? How does the Public Service learn from the best practices in the private sector to keep itself lean and mean? How could there be more strikers in the team, borrowing a soccer parlance? The late Dr Goh Keng Swee once said of the EDB  \\\"It's better to hold back a stallion than to kick a mule\\\". Would this quote still be apt to describe the frontier-charting spirit of our Public Service? Mdm Chairman, the Public Service is an important cornerstone of our society's functions and governance. Recent events that threaten the functions, privacy and security of our public sector are a cause for concern. For example, earlier this week, it was reported that MINDEF's I-Net System was breached. The personal data of more than 850 National Servicemen and employees were stolen, which included their NRIC numbers, telephone numbers and dates of birth. MINDEF's Deputy Secretary said that the attack and breach were targeted and well-planned, and that they could not have been the work of casual hackers or criminal gangs. That is worrying. If a syndicate or an organised group has managed to breach one of our most well-equipped systems, by MINDEF no less, it leaves little to wonder how well-guarded our public sector systems are and how well-equipped our public servants are in ensuring the functions, privacy and security of our public sector systems. A study done by Accenture which surveyed 150 federal, state and local government executives in the US, found that almost 90% of respondents agreed with the statement that \\\"cyberattacks are a bit of a black box; we don't quite know how or when they will affect our organisation\\\". Another similar survey was done with 2,000 executives from large enterprises. It is interesting to note that 78% of commercial organisation respondents are confident that its cybersecurity strategy will demonstrate valuable results, while 53% of government agency respondents are confident this is so. Even though these findings are from the US, it is worth learning from their responses regarding new public sector capabilities. Given the current interest and emphasis on building new and strategic capabilities in areas, such as cybersecurity and intelligence, data analytics, and digital and software engineering, I would like to ask PMO how are our Public Service and public officers being prepared to stay ahead of the curve? Mdm Chairman, at last year's PMO COS, Deputy Prime Minister Teo signalled strongly about the Government building stronger engineering capabilities across the Public Service. He announced that the Public Service will employ an additional 1,000 engineers and raise the salaries of our public sector engineers to attract and retain engineering officers in the Service. Last year, at the Public Service Leadership Dinner, Deputy Prime Minister Teo, also mentioned about the need to prepare Singapore and Singaporeans towards a Smart Nation. He highlighted that digitisation will transform the way we work and deliver public services. He also spoke about the cross-cutting issues facing the Public Service and how the Service could work together to address those issues to ensure coordination and coherence across the whole-of-Government. One of the CFE's recommendations called for the Government to harness data as an asset and to build deep capabilities in data analytics. I would like to use this opportunity at the COS to seek an update from PMO on the progress in these areas; in particular, on how the Public Service is investing in strategic capabilities, such as engineering, digitisation and data analytics. Madam, I declare my interests as the President of SPD and Board Member of SG Enable. Yesterday, I spoke on the need for a mindset change in the HR policies of the Public Service Division (PSD) in the employment of persons with disabilities. I also recognised that the final employment decisions are rightly left to the respective agencies but, nonetheless, observed that unless the human resource teams of PSD and the respective agencies share the same values and commitment as our political leaders and the Head of the Civil Service, we will see very little progress. It has been a year since the Government announced plans to employ persons with disabilities. On Sunday, I did a search on the website of PSD on the word \\\"inclusive\\\" just to see if I could find any progress. It returned 14 results, including one search result for \\\"inclusive of GST\\\". There are actually two close results. One was a speech by Deputy Prime Minister Teo in 2012 at the COS in which he spoke in the context of the re-employment in the Public Service for retiring officers. The next was Minister Tan Chuan-Jin giving his speech at the Singapore HR Awards in 2016 for the employment of persons with disabilities by public agencies. I want to know if employment is, indeed, inclusive. I want to ask and I hope that the Deputy Prime Minister will give us the replies. At this time, I would like to acknowledge that it is not going to be easy but I also appeal to PSD on its second core value, which is \\u2212 Please go the extra mile; please seek feedback and suggestions and also assistance from SG Enable and the other organisations and, in your hiring policies, please dare to change and to learn. Mdm Chairan, I had previously spoken about the need for civil servants to have thick skin at a time when more is expected, more is demanded and less is tolerated. We have seen how ugly people \\u2212 all over the world, not just in Singapore \\u2212 can get, when they forget the basic grace and decency that make us human. We have also seen the best among us, the brilliant, the faithful, the generous. The Public Service works with the many publics when they design and implement policies. The Service works in a world where people with compassion and magnanimity live cheek by jowl with the perverse and the mendacious. The best, and the worst among us, and all those in between; it is a daunting task. The Civil Service needs to work in a world where regressions show you significant factors, where evidence-based policy-making requires you to review data and test assumptions. The Service also needs to work in a world where there is more demand than supply of resources. The Ministers move the Bills, we in this House debate, but the Service must take a considered view. Previously, we had PS21, a change movement launched in 1995 to prepare and transform the public sector to be future-ready for challenges and innovate to seize opportunities. In 2012, the Public Service embarked on a journey of Public Sector Transformation to evolve their approaches with a laser focus on the citizen and community, to realise the vision of \\\"One Trusted Public Service with Citizens at the Centre\\\". Today, transformation must continue. And more intensely so. There are three areas which I think we ought to consider  how to work together, how to work better, and, finally, how to develop public officers. First, we need the different parts of the Public Service to work cohesively together, with a more integrated approach, to deliver more coherent services to citizens; second, we need to harness new technologies to better serve the public; and third, having the right skills to deliver public service effectively. Singapore has become a very complex place to govern. Population and climate change are cross-cutting issues whose impacts are probably felt in the long run, and not now. We have the \\\"whole-of-Government\\\" as an organising concept which is fine and sounds very efficient, but really, can we and should we mobilise the whole-of-Government to address a single issue? The truth is, we can but we cannot do so without recognising that there are tensions between different organisational forms. There are domain experts, and there are issue experts. We need the PUB to work on water, but we need them also to work with NParks, MND, HDB, BCA and a whole alphabet soup of agencies. The following questions come to mind  how is the whole-of-Government working together today to ensure that we are addressing them adequately and well? How are the different Government agencies convening to discuss trade-offs and make decisions that are in Singapore's and our citizens' best interests? To take a step back, it may not even be the Government holding the sole key to these decisions; these challenges will need to be tackled at a whole-of-Singapore level. The Government needs to be able to partner with, and harness the innovative spirit of Singaporeans, businesses and so on, so that we can move ahead together. There is still more room for the Public Service to be bold and innovative. We can, for example, reduce carbon emissions across all sectors in a most cost-effective way. I would like to ask the Minister how can we review our legislative and regulatory processes, to incentivise and facilitate innovation, while mitigating compliance costs. Technology has transformed the way citizens live, work and interact with one another. Many services and businesses have shifted to the digital space, with more transactions now happening online via desktop or mobile, and younger citizens are more at ease and satisfied with usage of online Government services. Recently, I read that, at JP Morgan, a software programme can review contracts that had previously required hundreds of thousands of hours of lawyers' time. I can imagine the nervous lawyers rethinking their billable hours, but I think this is an incredible leap forward and will certainly raise the expectations of JP Morgan clients. We can, and should, harness the power of technology for public ends. With the increased expectations come pressure on the whole-of-Government to meet higher expectations. The ability to understand and harness technology to serve citizens better is the crux of this transformation of the public sector, and I do not mean just digitising existing processes and services to go paperless. The whole-of-Government needs to leverage on the power of digital technologies and data to fundamentally re-imagine and transform our capabilities. So, I wish to ask the Minister what is the Government doing to build such strategic capabilities while circumventing legislative, security and privacy concerns, and how can these translate into better outcomes for Singapore and Singaporeans? Lastly, I want to end with the public official himself. Technology will re-invent business models and affect existing jobs. We also expect roles within the public sector to change and evolve. The Committee on the Future Economy recommended that Singaporeans continue to acquire and utilise deep skills. This need for continuous learning is also what the SkillsFuture initiative encourages and supports. Therefore, it is important for the public sector workforce to adapt a vigorous appetite for lifelong learning and pick up skills relevant for new roles. How will the Government ensure that Public Service officers have the right skills to deliver public services effectively? I am also interested to know, beyond just developing Public Service officers, how the Government intends to support its officers. The Public Sector is Singapore's largest employer and sets the tone for people practices across industries. How will the diverse and inclusive sector provide all its employees, especially the older officers, with the necessary support to perform to their fullest potential? Finally, the ever important dictum to do more with less. As portions of roles within the Civil Service get outsourced, we should end up with a trimmer and leaner workforce. Still, how do we instil the spirit and standards of innovation in the Civil Service workforce nonetheless? I hope the Minister can address these concerns of mine. Before I end, I also wish to ask of us, both inside and outside the House, that we should also acknowledge the good work and high standards that our Public Service is known for and delivers consistently. It is always easy to critique and pick on every mistake, every misstep. Let us give credit where credit is due. Let us be gracious in our criticism. The introduction of a carbon tax is an important move towards climate change resilience. Minister Heng has stated that revenue from carbon tax will help to fund measures by industries to reduce emissions. Does this mean that the revenue will be ring-fenced and channelled back to these purposes? If that is so, what are the following measures? The Province of British Columbia has used its carbon tax revenue to reduce its income and corporate tax, and they now have the lowest personal income tax in Canada. Would we also consider doing likewise, which was also advocated by Al Gore who said, \\\"Tax what we burn, not what we earn\\\". Economists have argued this could improve overall efficiency of the economy. Naomi Klein, in her book \\\"This Changes Everything\\\", writes about how we are stuck in a capitalistic mode of consumption. It is a systemic problem, and Singapore needs a cultural shift to change our behaviour and habits of consumption. Ground-up initiatives can make this kind of cultural shift and there are many such successful initiatives around the world. We have examples like Singapore Really Really Free Market (SRRFM) where goods and services are shared for free, part of a movement to counteract capitalism and reduce consumption. Could the revenue be used to support these movements, have their voices amplified, and to create a culture of sustainable consumption and production that goes far beyond a carbon tax? Laozi said  \\\"\\u751f\\u800c\\u4e0d\\u5fe7\\uff0c\\u4e3a\\u800c\\u4e0d\\u6043\\\", which means we must be mindful we are not master of nature and master of all resources. So, let us be gentler to Mother Nature. Thank you, Mdm Chairperson. First, let me thank Members for their views and their strong support for the work of our public officers. Over the past week, Members debated how to position Singapore for the future and move ahead as one people. As challenges become more cross-cutting, the Government needs to be even more closely coordinated in policy formulation and policy execution, and to harness and manage our key national resources more effectively. This will help ensure that the Public Sector is ready to help implement the recommendations of the Committee on the Future Economy and to take Singapore forward. I want to assure Members that our public officers do work tirelessly to serve Singapore and Singaporeans. There are many examples of exemplary public officers who go the extra mile to help those with particular needs or are in distress, from HDB, LTA, WDA, SSOs \\u2012 the whole alphabet soup, as Mr Seah referred to. Indeed, we recognise such officers each year to encourage everyone in the Public Service to follow their example. However, no system is perfect, and we are constantly striving to do better. Each one of us who serves the public \\u2012 public officers, Members of this House \\u2013 and members of the public, too, have a role to play. So, each year, we also recognise members of the public who have contributed to making our public services more responsive and empathetic. Mdm Chairperson, while our public officers at all levels work quietly and tirelessly and do not seek praise, a little encouragement does help. I take the points raised by Members of this House in the positive spirit for improvement but I hope that Members will rise from time to time, like Mr Seah today, Mr Ganesh or Ms Kuik, to also offer encouragement for the good work of the many public officers who have worked hard and gone the extra mile to serve their constituents and Singaporeans. So, it is in this spirit that, today, I outline four priorities for the Public Service  integrating strategic planning and execution; driving innovation; building new capabilities; and developing our public officers. First, integrating strategic planning and execution. Mr Cedric Foo, Assoc Prof Fatimah Lateef and Mr Seah Kian Peng asked about coordination among Government agencies and resource management in the Public Service. Two years ago, I announced the formation of the PMO-Strategy Group. Last year, PMO-SG continued its work to strengthen whole-of-Government planning and execution, supporting the Prime Minister and the three Coordinating Ministers to tackle long-term, cross-cutting issues. As part of the consolidation and strengthening of the core centre-of-Government functions, we merged the National Population and Talent Division and the National Climate Change Secretariat into the Strategy Group. As Mr Seah Kian Peng pointed out, there are cross-cutting issues which have longer term impact. Population is certainly one of them. It frames the work of many Ministries \\u2212 covering areas, such as the economy, healthcare, workforce, infrastructure and defence planning, as Mr Seah correctly pointed out. Most importantly, we will also continue to strengthen the Singapore family with marriage and parenthood measures to support couples to own homes and have children. Senior Minister of State Josephine Teo will update Members on these plans later. Climate change is another cross-cutting issue with long-term implications that will be even more keenly felt by future generations. Coordinated actions by all countries are needed to help reduce greenhouse gas emissions. Singapore played a constructive and facilitative role in the Paris Agreement under the United Nations Framework Convention on Climate Change which came into force on 4 November 2016. Singapore is a Party to the Agreement and has pledged to reduce emissions intensity by 36% from 2005 levels by 2030, and stabilise our emissions with the aim of peaking around 2030. Mr Kok Heng Leun asked how we intend to achieve this. We have identified four strategies in our Climate Action Plan published last year. We will improve our energy efficiency, reduce our emissions from power generation, develop and deploy low-carbon technologies, and encourage collective action among all stakeholders. This plan is an example of whole-of-Government inter-Ministry work which was coordinated by National Climate Change Secretariat, which is now in PMO-SG. We evaluated every single option, what the cost is to the economy and to Singaporeans, and what effect it would have on mitigating carbon emissions. Then, we lined them all up and chose those which were most efficient, made most sense for us. The Minister for Finance has announced in the Budget Speech that the Government will aim to implement a carbon tax from 2019. This is one of the measures which will be efficient and encourage carbon mitigation. A carbon tax will incentivise businesses and consumers to reduce emissions. It will complement the regulatory measures we have introduced and provide price certainty to industrial facilities for investments in clean energy and energy efficiency. The carbon tax revenue will not be earmarked for specific purposes to retain flexibility. In fact, the way that Mr Kok described carbon tax in British Columbia, it seemed to be the cure-all for all fiscal woes. If that is indeed the case, I am sure the Minister for Finance will be delighted. But, no. We are not earmarking it for specific purposes to retain credibility. But Government funds will support measures, such as enhancing energy efficiency incentives and training workers in energy management. These will help our companies use less energy, save costs and reduce their emissions. Industry consultations on the carbon tax have already begun and will be expanded. We will begin public consultations this month. MEWR will have more to say about the carbon tax and carbon emissions later on. Our companies, particularly those with an established track record in clean energy and energy efficiency, are in a good position to seize green growth opportunities in the region and beyond as countries, including Singapore, take steps to reduce carbon emissions. Second, driving innovation. Mr Lee Yi Shyan highlighted that the Public Service needs to be innovative to position Singapore for the future. Our leaders in the Public Service set the tone for public officers to work together and pursue innovative solutions. The Public Service has embarked on a transformational journey over the past few years to become more innovative, work smarter through technology, deliver seamless services, connect with citizens, and build a future-ready workplace. But this is always a work-in-progress. We can always do better, we can always be more efficient, we can always be more responsive. To further these efforts, Prime Minister Lee has appointed Minister Ong Ye Kung to champion Public Service innovation. Minister Ong will focus on a number of key cross-cutting areas that require close coordination among agencies. For a start, this will cover two key areas. First, the review of regulations to better support innovation and entrepreneurship. Second, adopting procurement methods that support industry development, and helping our companies and people seize new economic opportunities. These initiatives are in line with the recommendations of the Committee on the Future Economy. Minister Ong will also work with the Public Service on further areas to drive change and innovation. The CFE had highlighted the need to harness technology as a source of comparative advantage for our economy and to protect our national security. Digitisation is creating new industries and transforming existing ones, such as finance, healthcare and corporate services. Within the Public Service, we will continue to use technology to drive innovation, increase productivity, and transform and improve the way that we deliver services to the public. Currently, the responsibility for driving technology adoption in the Public Service is rather dispersed. We are studying how we can better integrate our strategy and processes. This push for a more integrated and technology-enabled Government is crucial in our efforts to build a Smart Nation. I assure Mr Lee that the Public Service will do its part to help Singapore stay competitive and respond quickly to the fast-changing global developments. Third, building new capabilities in the Public Service. Dr Intan Azura Mokhtar and Mr Seah Kian Peng asked about the Government's plans to build new strategic capabilities in the Public Service. Two key capabilities that the Public Service needs to strengthen are digital capabilities and engineering. I spoke about the importance of Digital Government earlier. We need to build up our IT professional workforce to support priority areas. We will grow a core group of 250 professionals in GovTech and Cyber Security Agency to drive key digital capabilities in areas, such as data science and cybersecurity, in the Public Service. For example, many of you would be familiar with apps, such as OneService and MyResponder, developed by GovTech in partnership with agencies to improve the lives of Singaporeans. OneService allows Government agencies to respond quickly to citizens' feedback. So, not one app for everything in Government, but at least one app for one service. Through MyResponder, close to 800 volunteers were able to provide timely CPR last year, and I understand that this has led directly to saving several lives. Besides using available technologies, these professionals will work closely with our Universities and industry to experiment with and create new products and services, and enable further policy innovation. It is important that Government agencies trial new technologies and be early adopters. We also need a broader appreciation and application of these new technologies in the Public Service as a whole. We will, therefore, be training 10,000 public officers over the next four years in digital capabilities, such as using more data analytics and data science in policy formulation, service delivery, corporate services and strengthening cybersecurity. Minister Yaacob Ibrahim will touch more on our efforts to support cybersecurity professionals in the appropriate COS. Mr Liang Eng Hwa also asked about building engineering capabilities in the public sector. This is another strategic capability. Last year, I announced the establishment of three Centres of Excellence (CentExs) \\u2212 JTC, GovTech and DSTA. These CentExs have done well. They have partnered many agencies and research institutions to develop innovative technologies and solutions. JTC, as CentEx for infrastructure and facilities management, developed their own integrated smart estate and building operations system called J-Ops. J-Ops uses existing sensors in buildings to monitor and analyse essential services and systems not in one building but in several buildings from a central location. This raises productivity as our facility managers can optimise ops room personnel and technicians over several buildings and facilities. But on top of that, this system also allows them to use data analytics and predictive maintenance to pre-empt issues and reduce energy consumption. This system has the potential to transform how we manage our buildings and facilities. Some issues are further from the public eye, but no less important. This year, we built up capabilities in two new CentExs \\u2212 JTC for underground caverns and LTA for tunnelling. These are important areas to optimise our land resources. These CentExs will develop and share deep technical expertise within the Public Service and optimise deployment and development of these specialities across the Public Service. To strengthen the engineering leadership pipeline, we have also introduced the PSC (Engineering) Scholarship since last year to attract bright and passionate young people to pursue exciting and meaningful careers in engineering in the Public Service. The Government's focus to build engineering capabilities has led to strong interest in Public Service engineering careers. The Public Service recruited over 1,000 engineers last year, bringing the total to close to 9,000. We also look forward to partnering the private sector and companies in building these digital and engineering capabilities in the public sector to further support Singapore's transformation and the delivery of public services for Singaporeans. Finally, developing our public officers. As Mr Seah Kian Peng has pointed out, the Public Service sets the tone for progressive people practices. We invest heavily in the training of our officers so that they have the skills to do their jobs well, not just today's jobs but tomorrow's jobs. For example, as I had mentioned, the Civil Service College will partner agencies and external providers, such as Coursera, to train 10,000 officers in digital capabilities. This skills-based approach refreshes our officers' skills and will facilitate officers' deployment within and across agencies to optimise job needs and job matches. We have merged a number of career tracks for graduates and non-graduates since 2015 to provide greater opportunities for career progression and development. Once an officer is on the job, it is performance and readiness for bigger job responsibilities that matter. All officers who perform well and show potential for leadership are given the opportunity to participate in development programmes and be considered for higher positions. The Public Service will continue to be proactive in implementing family-friendly practices. The Public Service will begin a pilot to enable officers who are starting or growing their families to spend more time with their infants. Senior Minister of State Josephine Teo will be providing more details later. The Government recognises the contributions and experience of our older workers. The public and private sectors, our unions and workers have worked closely together to provide guidelines for re-employment. To support those who want to continue to work, the Public Service took the lead to introduce re-employment in accordance with these guidelines in July 2011. We review these guidelines regularly. Following our latest review and in consultation with the public sector unions, from 1 July 2017, we will remove wage reductions on re-employment for public sector officers re-employed to the same job grade. These officers will continue to receive their last-drawn salary. This is similar to the practice of most private sector companies. Public officers and pensioners on older medical schemes currently enjoy medical benefits when they are hospitalised in our restructured hospitals. As a continuation of this stay, we will also cover up to 28 days of in-hospital stay at community hospitals from 1 July 2017, providing better access for these officers to the services offered by community hospitals. This also supports MOH's policy to right-site medical care in the most appropriate setting, depending on the medical needs of the patient. To better support HR policies for our public officers, a new integrated HR and payroll management system is scheduled to come online by 2020. This new system will replace and integrate different systems currently deployed in several Ministries and public agencies. The system will automate many manual HR processes and claims, and enhance productivity. Our officers can also benefit from integrated and structured career development and learning platforms. Ms Chia Yong Yong asked about Public Service employment of persons with disabilities. I have asked our public agencies and Ministries to look seriously into this matter to see how we can do more and do better. In recent years, we have introduced a number of initiatives in collaboration, indeed, with SG Enable, the agency set up to help persons with disabilities gain employment. For instance, the Public Service posts up suitable vacancies on SG Enable's job portal. We are also appointing champions among senior management in all our agencies to drive the hiring and integration of persons with disabilities in the organisations. We also partner VWOs to create job opportunities. One of our agencies, Vital, worked with the Autism Resource Centre to hire persons with disabilities to support the digitisation of files. The Public Service has employed about 270 persons with disabilities by end 2016. As an inclusive employer, the Public Service will continue to find ways to expand opportunities for persons with disabilities to take on meaningful jobs in accordance with their abilities. Mdm Chairperson, let me thank Members once again for their strong support for the Public Service. The Public Service has played an important role in Singapore's nation-building. Even as we transform, we remain guided by the core values of Integrity, Service and Excellence. The Public Service will continue to partner Singaporeans and businesses to transform our economy and seize new opportunities. We will continue to ensure good governance and effective execution to prepare Singapore and Singaporeans for the future. Mdm Chairman, the digital revolution will bring many new possibilities for citizens as well as businesses. The Budget has supported the CFE's recommendation to help businesses transform through the Industry Transformation Roadmap. Can I have an update from the Minister on the progress of the Smart Nation initiative in helping businesses, especially local SMEs, to identify and adopt impactful technologies to boost capability, capacity and productivity? I would also like to suggest that we consider setting up Innovation Centres or Centres of Excellence for key sectors where transformation used in smart technologies can make an impact. And this goes beyond the current capability of SME centres or industry associations because the largest impact will come from deep experts who can identify industry trends, IP and research that can drive innovation at all levels \\u2212 the business, across value chains and the whole eco-system, including facilitating connections between public and private funding as well as technology partners. Given how Smart Nation is strategic to Singapore's future, I believe that one-stop access to our experts in business and technology will be crucial to the success of Smart Nation. The Budget has put a lot of emphasis on our need for skills in adopting new technologies, such as analytics, cybersecurity and Internet of Things (IoT). However, these are primarily today's needs and today's shortage of skillsets. Digital revolution leads to disruptive changes in the industry and the economy and there are also other technologies that are developing rapidly that we will also need to study seriously. These include block chain. Its distributed ledger architecture could potentially disrupt our financial sector, a key pillar of Singapore's economy; as well as artificial intelligence, which can deliver much higher efficiencies and provide intelligence to systems, such as autonomous vehicles and drones. The Smart Nation needs to go beyond the technologies of today and prepare the population for tomorrow's disruptions too. A November 2015 report by McKinsey explained that in a survey of 800 jobs and 2,000 activities, 45% of activities that individuals are presently paid to perform can be automated by adapting currently demonstrated technologies. In a more recent report on the Future of Jobs released this January by the World Economic Forum, it was noted that in the next five years, advances in artificial intelligence, machine learning and natural user interfaces are making it possible to automate knowledge worker tasks that have long been regarded as impossible or impractical to perform. In Singapore's context, if I take the threat of autonomous vehicles as an example, we have possibly 27,000 taxis, or 100,000 taxi vocational driver licences, and 12,000 bus driver roles at risk. If we do not manage disruption well, it is not just about losing jobs, but the compounded difficulty to match them to new jobs in the digital economy. Given both the positive and negative aspects of these rapid developments in digital disruption, it is important that we have strategies to fully seize the opportunities presented by technological trends and mitigate undesirable outcomes. We must also consider how do we ensure inclusivity so that our seniors and those with special needs can leverage on these technology enablers to improve the quality of living and their employability in the workforce. Mdm Chairman, the endeavour for Singapore to be a Smart Nation is all about enabling businesses, communities and individuals to thrive and to have a better quality of life. Underlying this will be the need for the capacity to learn, relearn, imagine, create and innovate. To succeed in the future economy is not just about providing state-of-the-art infrastructure or the latest technologies. The difference will be the spirit of creativity and the desire to succeed. This will manifest in how all these come together to produce new products, services or new and improved ways of doing things. This innovative capacity is crucial to succeed in building a Smart Nation. Take a country like Israel which is seen as being in the forefront of technology and innovation. Israel's culture, environment and keen strategy are seen as the ingredients for its success as an innovation hub. As Singapore strives to build a Smart Nation, ultimately, success will be determined by how our businesses and individuals embrace the opportunities, address the challenges and innovate. While the Government cannot do it all, the Government can play a significant role in providing the platforms to bring together a vibrant ecosystem where the confluence of talent, technology and diverse ideas happen and, most importantly, value is created and innovation becomes real. What platforms and initiatives will the Government be driving to enable and encourage Singaporeans and businesses to innovate, thrive and achieve better quality of life? Mdm Chairman, Prime Minister Lee launched our Smart Nation initiative in 2014. Since then, we have been investing in infrastructure and implemented policies to build a supportive ecosystem and develop capabilities to ride upon the digital revolution. However, there are two specific areas where I feel we can do more to enhance the experience of our people. First, our many smart cards. Thirty years ago, we started cashless transactions with NETS. Today, it can get quite complex and troublesome  take a bus or train, use the EZ-Link card; go through the ERP, insert the Cashcard; pay for lunch, wave your credit card. And sometimes, we get stuck in the carpark because the car in front cannot clear the gantry due to incompatible card. Of course, consumers have more options for payment methods. But does it really mean more convenience? Would it be possible for us to streamline these? Can the Government take the lead to do so? Second, mobile apps. A quick look on the App Store shows mobile applications available for download by HDB, OneService, LTA, CPF, NEA, SG-Secure and not forgetting our Singapore Parliament app. How much money have our Ministries spent to develop and market these apps and what is the actual monthly usage of them? Is it practical and convenient for people to have to download so many apps to access different key functions offered by the Government? Would it be more useful if we have one single main app that allows Singaporeans to retrieve key information from various Government agencies? We can log in to this app using our SingPass and -factor authentication (2FA) and there will be various tabs for different Ministries and agencies. For example, the CPF tab could feature the member's account information and transaction history. The HDB tab, loan details and application status. The MOH tab could possibly become a platform for Singaporeans to access their critical health records and medical history. And we could even monitor our health with this app. Our recent SG Secure app's key functions can also be syncronised with this main app and key crucial notifications can be pushed out to all users in the event of an emergency or MFA travel alerts. Mdm Chairman, Singapore's transition to a Smart Nation will help us maintain our competitive edge and be an attractive location for businesses and talents. But also important is the real productivity and convenience it brings to our lives. After all, one key goal of the Smart Nation is to enhance the lives of our citizens. The Prime Minister also mentioned the possibility of a National Identity system at the Camp Sequoia dialogue last month. Can the Ministry share with us if this plan is already in the pipeline and what we can expect in the near future with regard to this system? Madam, Singapore is uniquely positioned to ride the digital wave, given our small size and the high technological sophistication of our population. We are in many ways a perfect place to test-bed new ideas and pilot and refine new ways of doing things. It is exciting to see projects, such as the testing of autonomous vehicles in various parts of the country. Such technologies could potentially revolutionise transport and urban planning globally. I am encouraged that the Government has created an Office to pursue our Smart Nation ambitions. I would like to ask the Minister what specific initiatives the Smart Nation Programme Office will be pursuing in the next 12 months to enable Singapore to establish itself as a world leader in this field. Other leading global cities, such as Copenhagen and Barcelona, are also competing to become THE digital city. Given that there are significant potential economic spinoffs from winning the race for talent and ideas, how do we differentiate Singapore from these other competitors? Mdm Chairman, many cities around the world are competing to become smart cities, for instance, in the US. The Presidential Council of Advisers for Science and Technology has put together a report on technology and the future of cities, identifying areas where new technologies have improved the lives of city residents. Dubai, on the other hand, is piloting to launch the world's first passenger-carry drone service in July this year. How are we setting ourselves apart from other cities looking to be \\\"smart\\\"? We have identified five domains where technology could significantly change how things are done. These five domains include development of autonomous vehicles, urban smart and green solutions, electronic payments and smart solutions for active ageing. How have we progressed on these fronts? Further, the Smart Nation initiative allows the Government to perform the role of lead demand and involves citizens and businesses in co-creating solutions to enable better living and build stronger communities. Have there been instances of private-public partnership to effectively leverage on ICT networks and big data to co-create solutions? Madam, once again, I declare my interest as a Board Member of SDP and SG Enable which collaborate in setting up the Tech Able at the Enabling Village. Technology is exciting. Imagine me walking in. Imagine our glaucoma-stricken parents able to see. Imagine our parents with weak knees having the confidence that they will not fall down. Imagine our parents who are weak physically, having been at home alone and, if they suffer a cardiac arrest, there is early medical intervention. There is so much that we can do with technology, so much that we can do with enabling technology. That is what Smart Nation is about. The schemes are exciting \\u2212 what they can do for our economy, what they can do for our people. But, ultimately, it goes down to what it does for an individual. That is what makes us excited about this Smart Nation, not just how good it is going to position us vis-\\u00c3-vis other countries, but what it is going to do for each of us in our individual life. My questions are  what are our plans under the Smart Nation initiative to use technology in enabled living? How are we building it into our homes? I know there are pilot projects. Could we have an update on the effect of the pilot projects? How do we enable living, enable employment, enable community participation by persons who are elderly or persons who have disabilities and special needs? What plans do we have either for the Enabling Village or for other platforms to reach out to more schools and to train more professionals, and even ordinary persons, to be able to have some basic knowledge about assistive technology and, in some cases, even to provide advice on assistive technology? How do we reach out to more persons? How do we reach out to increase the adoption of assistive technology in the whole living environment that we are in and, thereby, increase the independence of persons with disabilities? How do we break the barriers? Minister Vivian Balakrishnan. I thank the Members for their vision, their imagination, especially Ms Chia Yong Yong's heartfelt plea. We are living amidst an accelerating digital revolution. This is a revolution of a much greater intensity and scale than the previous revolution that we have lived through, and there will be profound changes  changes to the way we do business, the way we live, the way we interact, the way we mobilise, the way we socialise, politics and the way we interact with each other as well. But, let me start with a more serious note. It is also going to disrupt jobs. It is going to disrupt even hitherto safe middle-class white collar work, and it will impact wages. It will also, initially, increase inequality. Because the people and the companies and, if I may add, the nations that master the technology first, the new digital oligarchs, these people and these companies will have enormous reach because their market is the entire world. Our political challenge is to democratise these new technologies so that it empowers all citizens to harvest opportunities in this brave new world and thereby spread the fruits of this harvest more broadly. If you think about it, this disruption is already happening all around us. Take finance as an example. There are already artificial intelligence boards which trade funds on the soft market. These AI engines can look through far more data than a human being can, make hopefully more unbiased assessments, improve their learning algorithms over time and conduct trades in milliseconds. The same thing is happening in surgery and similar things are happening in the legal and accounting professions. And so, the top priority for Smart Nation has to be jobs, jobs, jobs. In Singapore, protectionism and building walls are not a recipe for protecting jobs. So, our only option is to ensure that our people and our businesses have the skills needed for the digital economy. You have heard Deputy Prime Minister Teo just now explained to you. Even within Government, we have an urgent need for new specialists in areas such as cybersecurity, data analysis, software development, user interface/user experience designers and network engineering. If you take the private sector \\u2212 take Garena, which is probably one of the largest unicorns in Southeast Asia, founded and headquartered in Singapore. They run a business in digital content, e-payments and e-commerce. They are expanding rapidly throughout the region and they urgently need more people. They need more people with the skills. But we do not just need techies and coders. We need people who can apply tech to the real world to make a real difference in addressing the needs of real people. I also agree that we need to help our businesses, our enterprises, especially our SMEs, to identify and to adopt the new technologies in order to make them more competitive. This is something which we will have to work through the Industry Transformation Maps (ITMs), because each industry will have its own specific needs and it is not a tech issue, it is an application of tech challenge. Minister Yaacob will share our progress in this and how we intend to build up the talent pipeline, so that our SMEs and our large local enterprises will have the talent that they so need. The second thing is that we need to build more integrated digital platforms. You will notice that I use the word \\\"integrated\\\". I have heard the calls for integrated Government. These platforms must provide us with the capabilities that enable innovations that benefit citizens in a real way and reduce business cost. Let me go through a few examples. One big project we are working on now is digital identity. Digital identity or the authentication of digital identity is actually a very difficult challenge. And yet, if you think about it, it is absolutely essential if we are going to have secure transactions in the digital world. I am glad to report that one of our home-grown companies, V-Key, has quietly been providing this technology, a very novel and interesting technology, to a wide range of companies, ranging from DBS to Alibaba. It works behind the scenes. If you think about what we currently use today, we have got SingPass. To be honest with you, it is not good enough. And yet today, we use SingPass to file our income tax. In fact, so many of our Government interactions depend on SingPass. We need to quickly upgrade this. We need to make sure that it is good enough as a secure digital identification system. I have asked the team to look at three features in the short term. One, to include biometric elements; two, to enable encryption; and three, to have open APIs so that SingPass is not something only used for Government, but that the infrastructure behind that is available to the private sector as well. We need to do all these in order to engender greater confidence, to reduce transaction cost, to allow information to be exchanged securely and seamlessly to create new services and to improve customer experience. Now, the point is we can provide these platforms, but we actually have to enable our companies to ride on these platforms to derive the competitive advantage. Another area we are working on in the next year is on e-payments. And I have heard the calls. You say we have too many cards. We all have got too many cards and, sometimes, there is the incompatibility issue, it is really irritating and inconvenient. Today, we have got contactless credit cards, mobile payments, smart phone payments, and I agree with the Members, there is a proliferation of mobile apps as well. But yet, a very simple thing, like transferring funds from me to you securely and without cost, it is not so easy to do. For instance, if I want to transfer to you, I need to know your bank account number. We are working with the industry to roll out a Central Addressing Scheme, which will better enable or facilitate digital cash transfers. This works like a register which maps mobile numbers to bank account numbers, or to the unique entity number of businesses. So, you can look forward to being able to use your existing mobile or Internet banking service to send funds to friends. The only thing you need to know is their phone numbers, and even if they have accounts in different banks. I know I am standing right in front of Mr Liang, and I know DBS already has Paylah!, but I want this to be open to everyone. I also agree with Miss Cheng Li Hui's concern about the proliferation of payment modes. I agree that there is scope for consolidation. But I believe that we should consolidate at the infrastructure level, at the platform level, at the back office level, to enable compatibility. We do not need consolidation at the front office, the retail level, the front, the customer-facing side, because we want competition and we want choice for the customers. But we need interoperability so that it becomes convenient, there are lower barriers to entry and it is secure. We need to work on this duality. We believe that having a Central Addressing Scheme is one way to get a move-on with e-payments in Singapore. We have actually been too slow in this area. Similarly, some of you may notice that if you go to retail points, there is a Unified Point of Sale terminal. This terminal is a \\\"bao kar liao\\\" thing. It can read all kinds of cards, all different technologies, including magnetic stripes, EMV chips and NFC chips. We are taking a similar approach for transport and we are piloting account-based ticketing. Commuters can also use their contactless MasterCard and not just have to find the right EZ-Link cards for travel. If this is successful, we will bring this on board and bring in other payment providers as well. Again, to make it easier, to make it more convenient. For Government apps, I take the point that we want platform unification. But I am not sure we need everyone to use the \\\"mother of all apps\\\". In fact, I have told the Government departments that if someone else from the private sector comes up with a better and more effective app that makes available Government services, we should encourage that. We should not allow the Government to have the monopoly on app production to access Government services. Another example is that we also need to get away from the agency-centric approach. There is an LTA app, NEA app and so on and so forth. We have to look at it through a more citizen-centric model. One way which MOF is looking at is to group them by milestones. When you were born, what services do you need? When you have a child, or when you go to hospital or when you work, they are moments in life; and you can cluster these services, make it more citizen-centric rather than agency-centric. Another thing which we are working on \\u2212 in fact, the Prime Minister has been pushing \\u2212 is this concept of Open Data. The Government has lots and lots of data, including real-time data, down to the location of every bus and taxi. We want to make this data available for free for everyone. Let me give you some examples. If you are on Facebook, you go to Messenger, search for this chatbot called \\\"BusUncle\\\". It is not written by the Government. It was written by someone who did not like the interface for bus arrival times. So, this is a chatbot, you just send a message, it will tell you when the bus is coming and he does it in a very quirky Singaporean way. Go and check that out. But actually, the real interesting thing about this chatbot is the fact that, beneath it, it is accessing real time LTA data for free. This is an example where providing Government data, having open data and allowing the private sector to ride on top of it, creates a whole new level of services that we could not have imagined or we could not have delivered with such style. In fact, today, public transport data is downloaded about 16 million times a day. Most of this is by commuters who are checking bus arrival times on their apps. By freeing data, we believe, we enable businesses and citizens to innovate, to develop new products that will serve their own needs. We can still allow proliferation at the front end and at the top end, but let us create common platforms and open data underneath it. I will give another example. From today, this is being launched by Grab, there is GrabShuttle. I am afraid it is another app, or maybe it is another side feature of the app. What this does is that it allows commuters to crowd-start their new routes. You can pre-book seats on 15 selected routes and these are identified using data from a \\\"crowd-starting\\\" platform \\u2212 developed and provided by GovTech. You can use this to enable private bus operators to use the same analytics to improve the fleet management and operations, including the tracking of punctuality of drivers. The real issue is this. Private transport is from point to point. Public transport is hub to hub and then you have a last-mile issue. If you can make it smart, public transport can be revolutionised to be point to point, responsive and in real time. That is how we can get a revolution to make public transport the preferred mode of transport and how we can get higher throughput without increasing our roads to more than the 12% of land that they already take. This is an example where we need to push harder and faster. While we do all these \\u2212 make data available, allow people to ride on it, allow new programmes, the e-payments digital identity \\u2212 do not forget that cybersecurity is an absolute pre-requisite. Our critical control systems need to be protected, even if we make them smart. Members have just heard the recent breach in the MINDEF system. I hope this now emphasises the point that when we decided to have Internet Segregation of the Public Service, it was absolutely the right decision. Otherwise, that breach could potentially have led to breaches of internal control and secure systems. I can assure Members that our civil servants still continue to be able to serve the Net. For instance, in my Ministry, we have ensured that Wireless@SG is pervasive throughout the building. Everyone can continue to surf on their tablets, phones or on separate computers. So, civil servants are not cut off from the Internet. We need to bear in mind the fact that we need a renewed sense of urgency to uncover new possibilities to work across bureaucratic boundaries and to be willing to disrupt ourselves. Let me give you another example from land use planning. This is complex. From time to time, you come up here and you give speeches about how there are missing gaps in covered walkways and so on and so forth, because different people own different pieces of land. Many agencies are involved in this. I believe that the old way of coordination in a top-down fashion, although it can be facilitated to some extent by email, is still not the optimal way to organise it. URA developed ePlanner, a one-stop digital portal that aggregates large volumes of geospatial data and it supports planners from 25 different partner agencies who can now collectively access and analyse land use planning information and make decisions objectively on the basis of data, not on the basis of opinion. This has transformed land use planning within the Government. We also intend to make sure that we can serve the public better, faster and cheaper. Another example is, in June last year, URA revamped the URA SPACE, which is an online map portal that consolidates detailed land use information, including private property-related information. One example of an e-service is that it allows businesses to check the allowable and approved uses for private shophouses. In the past, you would have had to fill up a form, send it in, wait seven days for a response. Today, with this portal, the answer is instantaneous and \\u2212 my favourite word \\u2013 free! Not many cities in the world can do this, because it involves intense integration at the backend. We need more examples like this. In the digital world, you think about it, the short-run marginal cost \\u2212 different from the long-run marginal cost \\u2212 of serving the next customer, trends towards zero. Whether you serve one or you serve a million, your marginal cost has not gone up but your unit cost goes down considerably. We need our public agencies to systematically eliminate application forms, streamline processes, streamline information flow. That is the way we can reduce fees for routine services by working smarter. I also totally agree with Ms Chia Yong Yong, Mr Zaqy Mohamad and Dr Teo Ho Pin yesterday on the need for digital inclusion, especially for the elderly and the disabled. We are not far away from the day, Yong Yong, when you will walk in here with an exo-skeleton, perhaps. If there is a place we can start, it should be Singapore. For homes, we are piloting remote monitoring solutions in places like Yuhua, Marine Parade and Bedok. This will allow family or caregivers to be able to monitor the activity, security and health of the seniors and to have peace of mind. We are also promoting the use of assistive technologies. We have set up Tech Able in the Enabling Village which I think you might be familiar with. This is a one-stop resource centre on assistive technologies and devices for people with disabilities, for caregivers, therapists and social service professionals. Tech Able has reached out to about 3,000 people thus far. MOE also provides dedicated funding for special education schools to procure computer facilities courseware and other assistive technology. We will also focus on digital inclusion in our community centres. Members have heard about the Silver Infocomm Initiative, and this is a way. Even when people do not own any smart phones, cannot use technology and we have to handhold, train, provide so that everyone can ride on this. Finally, let me answer this question on what sets us apart. What is our unique selling point or competitive advantage? I believe we are approaching this from a position of strength. We continue to offer one of the best digital infrastructures in the world. Second, our people are well-educated, well-trained and tech-savvy. Third, we have only a single layer of Government. And we have a Prime Minister who can code, a Prime Minister who certainly gets it, who is a mystery customer on many Government websites. If it is a complaint, it is usually, especially a smart complaint, it is almost always the Prime Minister. The key here is not just tech innovation but policy innovation and the spirit of internal disruption and the willingness to rewrite regulations, absorb ideas. Another thing in which we want to be different is to feed our own start-ups by buying their services; and to be a test bed for novel solutions, for urban solutions and, especially, including in areas like fintech, transport, healthcare, homecare and social services. To conclude, we need to urgently build skills and capabilities in our people and enterprises. We need to ensure pole position, with the best infrastructure in the world, we need to be prepared to fundamentally disrupt the way the Government provides services. We need to forge new partnerships with the private sector, we need to make sure our start-ups, especially, have access to technology and opportunities, and we need to be open to the global flow of talent and ideas. Ultimately, this is not about technology but really about maximising future job options and ensuring a better quality of life and an inclusive society. Our vision is that a visitor to Singapore should come, look, experience and say, \\\"I have seen the future and it works.\\\" Mdm Chairman, in the 1940s to 1960s, Singapore enjoyed what was called the post-war Baby Boom and it was common to find families with large numbers of children, with TFR peaking at 6.56 in 1957. Generally, though, there is inverse correlation between development and TFR. The countries with the highest TFR now are the sub-Saharan African countries, while the developed countries are at the low end of the spectrum. Likewise, for Singapore, TFR has declined steadily from the 1950s and 1960s, reaching a historic low of 1.15 in 2010. Subsequent years have seen the rate rise above 1.19, with highs of 1.29 in 2012 and 1.25 in 2014. Anecdotally, I understand that the incentives given to encourage marriage and parenthood have been helpful. In speaking to young parents, affordable and convenient childcare is high on the priority list of necessities as it is becoming more common for families to have working parents and grandparents. The most important generation now in this area is probably the millennials, that is, those born in the 1980s and early 1990s, as they would be in the prime years for marriage and parenting. What are the attitudes of our millennials towards marriage and parenthood? Is there anything more we can do to support young Singaporeans in achieving marriage and parenthood aspirations, a club I recently joined myself? Madam, becoming new citizens of a nation is a critical decision. It is a process that involves the interaction and integration between the new immigrants and the receiving community or society. This can be done at the individual or collective level. The policies of a nation represent the litmus test for integration and citizenship approval. Our guidelines and policies must acknowledge our diversity and uphold unity, recognise the importance of local content and have a realistic framework, both at the national and community levels. New citizens can, indeed, have positive contributions towards nation building and social integration. Will our current appointment model and processes be reviewed and tweaked, in particular, to have a greater community involvement component? This may include, firstly, performance of voluntary and community services which helps in immersion and integration with the community one lives in; and secondly, getting active and senior grassroots as well as community leaders to nominate or become assenters for the potential new citizens. Mdm Chairperson, new citizens undergo the Singapore Citizenship journey (SCJ) so as to familiarise them with our national norms, culture, history and institutions. However, I am concerned about the possibility of one-sidedness in the political education exposure that new citizens receive. In the SCJ HOME for new citizens guide, there are brief overviews of our political system explaining the role of elections, Parliament and so on. However, two matters stand out that are of concern. Firstly, in the SCJ community sharing sessions, new citizens and prospective new citizens are exposed to grassroots organisations under the People's Association (PA)'s umbrella. In the course of the SCJ process, such as citizenship ceremonies, for example, they are exposed to and may get to meet People's Action Party politicians but not politicians from other parties. Secondly, I have met a few new citizens who have told me that they are concerned that their citizenship will be taken away if they did not vote for the People's Action Party. One example stands out in my mind. One older new citizen who is highly educated in credential, told me that he supported more balance and competition in our system but was afraid that if he voted for the Workers' Party, the Government would find out and take away his citizenship. We spent 10 minutes trying to explain the process by which votes are kept secret. At the end of the 10 minutes, I am not sure if we had convinced him. Will the Government find ways to expose new citizens to members of other political parties and, more importantly, will it include an element of education to train them how their votes are kept secret in the electoral process? I could not find this being treated at all in the HOME for new citizens guidebook. If it is in doubt, can we conduct a study to ascertain whether the new citizens truly understand that their votes are kept secret? Mdm Chairman, with concerns of a difficult economy and job market, there will certainly be a negative impact on our population growth. It has become more pressing than ever, now that we are tackling the existing issues that are putting Singaporeans off raising children. Citing high costs of living and personal ambitions, there are more mothers who wish that they are able to continue their careers with minimal disruption. More women are returning to the workforce and, with the higher retirement age, even grandparents are giving up babysitting duties for jobs. All this spells good for our labour force, but it gives rise to the pressing need to build up our caregiving support system for infants and young children, allowing young parents to have a safe haven to deposit their children while they focus on bringing the bread home. The Government has done a lot to make childcare services more accessible for all parents. But there is always room for improvement. Lack of vacancies in some of the more populated estates is a common grouse. Sometimes, this is because of the mismatch between demand and supply. I have had parents coming to say that they have had to put their children on year-long waiting lists, sometimes even longer. Moreover, lately, some childcare centres have been in the headlines for improper handling of their young charges, and this can create a misconception about the state of childcare services in Singapore. I would like to ask the Government what are the plans to improve the availability and to ensure the quality of childcare support for our young parents. How does the Ministry gauge the demand before it begins building these childcare centres? On the other hand, some parents prefer to keep their young children at home for a variety of reasons. Some do this because there is no vacancy in centres within a convenient location. Others do it because it is almost impossible to coordinate their work schedule with the centre's hours. Perhaps, the child has underlying conditions that make it difficult for him or her to spend long hours outside the home with a large group of children. We cannot dismiss the concerns of this group of parents. How can we help them find adequately-trained caregivers to care for the child in the comfort of a home? Can we tap on SkillsFuture Credit to attend such courses for the residents? The Government has already implemented a slew of measures to encourage flexible working hours that are meant for catering to a family-friendly model. While the public sector may have dutifully abided by these measures, not all private companies will follow suit. In fact, some consider it a hassle and are unable to cope with what they perceive as a manpower shortage. In fact, flexible work hours do not necessarily have anything to do with reducing working hours. It is to do with changing our work habits to improve productivity and work-life balance. What can be done to transform the employers' mindset and get more employers from the private sector on board? And while we are on the subject of working hours, some childcare centres only operate the same hours as a typical office employee's working hours. Many employees are unable to knock off on the dot, and even so, they cannot fully teleport themselves to the centre to pick up their child on time. Please wind up your speech, Dr Lim. How can we provide more help for these parents to cope with these challenges? Mdm Chairman, the stork flew often to the northeast in 2016, delivering bundles of joy to families in Punggol, Sengkang and Pasir Ris. On average, nine babies were born every day to residents of Punggol in 2016, accounting for 10% of Singaporean babies born last year. Perhaps, arising from all this baby goodness, I had a baby myself and attended several 100-day baby showers with my loved one on my hip. At 100 days old, the babies were just cherubic enough to undergo a baby massage, participate in baby gym and be dressed in bunny outfits. The mummies had organised the baby showers all by themselves, sometimes involving a hundred babies at one go. They set up Facebook groups, discussed via whatsapp, sometimes in the middle of the night as they fed their babies and looked to one another for mutual support. It was a time of bliss, of sisterhood and camaraderie. But as the maternity leave started coming to an end, the worries started coming in. \\\"Grandma's too far away in Ang Mo Kio (or Hougang, or Serangoon) and she would rather get together with her friends than take care of baby\\\", they say. \\\"My maternity leave is for four months and I need to go back to work urgently in this economic climate. There is no available infantcare spot in Punggol, given the large number of infants here. What do I do?\\\", \\\"MOE is starting up some kindergartens in Punggol but I work and need a childcare spot, not kindergarten.\\\", \\\"Infantcare or childcare closes at 7.00 pm and I am fined for every 15 minutes I am late picking up my child. But I cannot leave work early. So, I am late all the time and my child is starving by the time I get to her. I feel like a bad mum all the time. What do I do?\\\" Of stress, uncertainty and conflict. Of solutions available to young parents but not quite solving the problem. Of gaps between options that leave young parents in a bind. Can we start looking at policies in a continuous spectrum to help young parents, where solutions are available every step of the way mirroring the decisions they have to make as baby grows up? For instance, can there be more infantcare options in new towns, given the mismatch in demand and supply even as the Ministry has announced an increase in infantcare positions? Further, can MOE also undertake childcare provision, since it is childcare that young parents most desperately need and want, and not kindergartens? Can infantcare progression to childcare be seamless and not cause parents to fret, queuing for a spot every few years? Can a community of caregivers be trained to help young parents pick up their child or provide a hot meal when they are caught up? Large cohorts of the children of the Baby Boomers are entering their child-bearing years. It would be a loss to their joy as a family if inconveniences and uncertainty stop them from having children. It would also be a loss to the state. Can we pull the Government machinery together to offer seamless solutions for our young families? We must try. For then, we can pop the confetti and celebrate, and bring on the baby showers. Ms Tin Pei Ling, you have two cuts. Please take them together. During the COS last year, I spoke of offering alternative childcare options other than care centres and familial support, which not everyone has. Just earlier today, I received yet another plea from a resident who fretted over finding a childcare placement for her child because the childcare centre at her void deck had put her on a waiting list of at least 50, and the other childcare centres were either too expensive or too far away. I also suggested taping on experienced community nannies and how the Government can help to better match supply and demand. Building on what I spoke about last year, I would like to ask if the NPTD had studied possible alternative childcare options and, if so, what were the findings? Does the Government have plans to implement some of the alternatives found to be viable? Parents naturally want the best for our children. Some of the key considerations that parents have when deciding on childcare are safety and curriculum quality. Nobel-winning economist James Heckman and researchers at the University of Chicago and University of Southern California found that high quality early childhood development programmes can deliver an annual return of 13% per child on upfront costs through better outcomes in education, health, employment and social behaviour in the decades that follow. Making sure that a child is properly cared for and engaged not only ensures the child's well-being, it also strengthens our country's workforce and prepares future generations to be competitive in the future global economy. Therefore, if childcare alternatives, such as community nannies, are to be implemented, how does the Government intend to ensure that children in these alternative care settings will also receive quality and safe care, such that these alternatives become viable options for parents who need but cannot secure centre-based childcare services? A key factor driving couples' decision on when to have children is when they can secure their own homes. This is understandable. Having a child is a life-changing decision and a lifetime commitment. Naturally, couples want to make sure that they achieve a certain security so that they can better focus on raising the child. The Government continues to supply new flats and, eventually, supply will meet demand. But there is always a lag of three to four years because of the time needed to build the flats after the ballot. With couples marrying later in life, each day that passes by in waiting is a precious opportunity wasted to have a child. In Singapore, where our TFR is far from ideal, this is no doubt a big challenge that we must solve, and it can be solved. The introduction of the Parenthood Provisional Housing Scheme (PPHS)was a wonderful scheme that addresses this challenge. But it is not fully utilised and I understand that there are still PPHS flats waiting to be taken. Instead of leaving them empty, could we offer PPHS to first-timer married couples who were unsuccessful in balloting for a flat but had already participated in the ballots, say, twice? At my recent MPS, I met a couple in their late 30s. They found each other late in life and so got married late. But the biological clock is frantically ticking away. They are anxious. They balloted for a flat twice but were unsuccessful. They cannot live in either of their parents' place due to serious space constraints and other sensitive considerations. I feel for them. For couples like them, who are sincere and anxious to have children soon, should we not help them? Lest couples become disincentivised to continue balloting for a flat and settle for a PPHS rental unit instead, the Government could build in a condition stating that they can have the unit for a year, renewable for another year maximum, and they must book a flat within this period. If they successfully book one within the period, they can continue to live in the flat till their own flat is ready. The joy of having a child cannot be measured by any tangible means and the decision to have a child must come from the heart. The Government cannot decide for couples, but the Government can certainly help by removing barriers and catalysing the making of families. Mdm Chairman, I have always believed that it is a personal choice as to whether or not one has children. I have made that choice and I can honestly say that my two children are an amazing blessing as they bring so much joy to myself and my wife. It is also true that having and raising a child does have its challenging moments, especially when they are very young. However, I believe that if we can enhance the experience of families with young children and infants, then this would not only give them much needed support, it could also encourage them to have more children. Much has been done by the NPTD and MSF to provide support in infantcare, childcare and student care. My colleagues, Ms Sun Xueling and Ms Tin Pei Ling, have also raised some suggestions in this area. But I would like to focus on how perhaps more could also be done in the area of providing housing options for families with infants and young children. I believe that priority is already given to families in HDB's BTO scheme and there is the PPHS that Ms Tin Pei Ling mentioned earlier, for those who already have a flat but are waiting for their flat to arrive. However, I understand that there is not enough smaller PPHS flats to meet the needs of these young couples and young families, and while they would be willing to consider the larger PPHS flats, they find that these flats are out of their budget. I would like to urge NPTD to work with HDB to see if it would be possible to allow couples and those with small families to rent the larger PPHS flats at a lower rate if there are such empty flats available. I believe this could be a win-win situation that will allow smaller family units to rent these flats, while ensuring that these flats do not remain empty and unused. I hope that NPTD can consider this suggestion. Mdm Chairman, work is central to most of us and influences much of our lives, including raising families. Work and the resultant time left for children is a critical factor in families' decision for children. Thus, transforming our workplaces and how we work can help to tackle Singapore's fertility issues. The technological revolution challenges us to explore new frontiers for flexible work arrangements (FWA). We should and must now ride on the technological advances and make technology-enabled FWA more pervasive. For example, telecommuting is now more accessible through cloud services and video conferencing. Customer enquiries can be handled away from office. Employee scheduling software takes away the tedium of rostering. I encourage the Government to enhance the Work-Life Grant and share technological solutions with companies, especially the smaller SMEs, to boost FWA adoption. We can also develop more shared working spaces in community spaces and heartlands for caregivers to work away from the office. Our libraries and some community clubs already have them, but building a larger network of such spaces can even provide companies with more options to engage their employees. Getting companies to change can take time. In the meantime, we can develop a marketplace for Government and Singapore companies to put up \\\"gigs\\\" or smaller jobs and projects that caregivers can do away from home. In effect, an upwork.com version for Singapore. These gigs or micro jobs can be consulting projects, accounts, helping with customer service replies or even social services. Our current paid caregiving leave structure is rather disjointed. A parent has six days of childcare leave until the child becomes seven years old when she only gets two days. Yet, the child's health and independence is a gradual one. Let us help our parents to transit. I propose a \\\"6\\u22124\\u22122\\\" system. Childcare leave is progressively reduced from six days when a child is 0-6 years old, four days from 7-9 years old, and to two days from 10-12 years old. This system allows parents to gradually transit in their caregiving until their child matures. It also helps families with more than one child. Currently, they get two days when their children are in Primary school. Yet, the needs of a lower Primary and an upper Primary child can be rather different. The most resistance, ultimately, to working flexibly is cultural. We must practise progressive senior leadership, building a nurturing environment of trust and mindset are critical in transforming our workplaces. Mdm Speaker, in a small nation like Singapore whereby our population is our main resource, we must do what we can to encourage parenthood, while at the same time, ensuring that our labour force is not facing a manpower crunch. This is why flexible work arrangements (FWAs) must be the way to go. My wife and I have three young children. I just want to share that in deciding to move from the second to the third child, to be honest, the flexible work arrangement my wife experienced was a significant factor for us to move from two to three. However, FWA is often misunderstood. Some employers think it simply means shorter working hours and more days off for the employee in question, and they lament the shortage of staff that this results in. In worst cases, they discriminate and refuse to hire people whom they think are prone to requiring FWAs. So, it is imperative that we transform employers' mindsets so that they are willing to embrace this style of working and incorporate it in their workplaces. I note that according to MOM's Conditions of Employment survey, the situation is improving. The results indicate that the proportion of firms which provided unplanned time-off or ad hoc teleworking for their employees rose from 70% in 2015 to 77% last year. The proportion of employees working in firms offering at least one formal FWA rose from 65% in 2016 to 67% last year. This is a positive indication, but we can do more to nudge the other about 30% to get on board, especially the local SMEs. Under the Work-Life Grant, employers receive grants and reimbursements, and they may even engage consultants to help create and implement good work-life strategies for the company. However, companies must apply and, in the first place, if they have misconceptions about FWA, they would not be proactive about it. Currently, under the Development Grant, employers receive $10,000 for piloting at least two new FWAs or substantially enhancing existing FWAs. Under the FWA incentive, employers get $10,000 for the first five Singaporean employees utilising FWAs. I propose making exceptions for the SMEs. Let them start slow, with one FWA and perhaps two Singaporean employees utilising FWA to allow them to benefit from the grants. Taking the first step is always the hardest. If the step is too high, many people will not even have the ability to clear it. Let me first congratulate the hon Member, Mr Louis Ng and his wife, Amy, on the birth of their twins. May the two lovely girls grow in health and be full of the same fighting spirit that their father has. There is one instinct that is more powerful than even that of survival, and it is the instinct that comes with parenthood. From my own limited experience with my wife, parenthood sometimes brings out the superhuman in you. Suddenly, you find yourself faster running after the kids, stronger carrying both squirming boys at once, braver standing up to the pesky cockroach in the kitchen and perhaps somewhat wiser as well. But it will be untruthful of me to just paint parenthood and family life as just being a bed of roses. There are, definitely, downtimes when you feel insufficient, deficient even, unworthy. Having kids sometimes frustrates your plans, changes your lifestyle, cramps your style, messes up your hair, ruffles your feathers. But for the vast majority of parents, watching your little ones sleep peacefully, grow up healthily and in wisdom, there can be no greater reward for those sacrifices. Yet, in spite of the many joys of parenthood, the Prime Minister said at the recent Camp Sequoia dialogue that babies are one of the many issues that keeps him awake at night. Not that he is kept awake by bawling babies in the next room but by the general lack of babies in Singapore. In reality, it should be an issue that all Singaporeans should be worrying about as well. But this is not for the lack of incentives, as we have heard from many speakers before \\u2013 more infant care centres, compulsory paternity leave, flexi-work arrangements, baby bonus and housing incentives. Short of going to the extreme, as the town of Overtornea, Sweden, is considering \\u2212 paid time off once a week for municipal workers to pro-create \\u2212 we cannot possibly be pumping endless cash and other incentives. What we lack today is no longer the how, but the why. We have assumed for a long time that cost is one of the prime reasons why birth rates are low, but we have addressed these concerns with a very generous package. I have argued in previous Budgets why we cannot reach a stage where we literally get paid to start families. That runs counter to the idea of family in the first place. We can support but we cannot over incentivise. What Singapore needs today is for us to realise that family is a key cornerstone for stability in our lives. A mindset change that we accept that parents have a special responsibility and should be supported by the wider community. Employers to know that a flustered mother turning up half hour late for work after struggling through the rain to send her kids to childcare is not taking advantage. What can the Ministry do in working with families, community groups and religious organisations even, to play a larger part? It takes a village. And when we call for more, can the village also play a bigger role? Mdm Chairman, I thank Members for their insightful suggestions and questions. Deputy Prime Minister Teo spoke about managing our strategic resources, and there are none more precious than our people. At Strategy Group in PMO, we work closely with agencies to bring the Government together on our national priorities, including to achieve a sustainable population and to strengthen our Singapore Family. Our key priority is to provide strong support for marriage and parenthood. At the same time, we welcome those who are committed to Singapore and are able to contribute to society as new residents. There are about 2.2 million citizens today in the prime working ages of 20 to 64 years. Without immigration, the size of this segment of our population will fall by close to 10%, or about 200,000 by 2030. With current immigration rates, we are able to maintain the size of the citizen population in the prime working ages at about 2.1-2.2 million. Members will agree that the composition of our population matters as much as size. One useful indicator is the Old-Age Support Ratio (OASR) which refers to the number of working-age citizens for every citizen aged 65 years and above. Our OASR will decline from five today to two in 2030. This is the decline with current immigration rate. Without immigration, the decline would be steeper. A diminishing OASR has serious implications, including on the economic vitality we hope future generations of Singaporeans can enjoy. But this is not a challenge unique to Singapore. Besides Japan and South Korea which are also ageing rapidly, China will see its OASR halved from 7.1 in 2015 to about 3.6 in 2030. Our closest neighbour Malaysia and Thailand will similarly see sharp declines in their OASRs. A recent article in The Economist suggested that these countries may, in time to come, need millions of immigrants to bring about a better population balance. However, as Assoc Prof Fatimah Lateef alluded to, immigration is a sensitive matter that has to be carefully managed. It is not, and must not, be a numbers game. Besides achieving a better population balance, we must consider the ability of new citizens to assimilate into our Singaporean family, which is itself increasingly diverse in origin and outlook. Because of this, we conduct regular reviews of our immigration framework. All PR and citizenship applications are assessed carefully and holistically. For example, we take into account various markers of social integration, including the applicant's family ties to Singaporeans, their family profile and length of residency in Singapore. We also consider the applicant's economic contributions, qualifications, age and other relevant factors. We encourage all who wish to join the Singapore family to engage with and participate actively in their local communities, but this should not be done purely as a means to obtain citizenship. All new citizens participate in the Singapore Citizenship Journey (SCJ), which Mr Leon Perera talked about. Mr Perera knows, as well as I do, that there are no restrictions as to which constituency new citizens can live in and which political parties they can associate with. For all citizens, we leave the decision to individuals whether and which political parties they wish to learn more about. If this is how new citizens feel they can integrate into Singapore society, they are free to do so. In any case, keeping in mind the importance of integration, the Government kept the pace of immigration stable. In 2016, 22,102 Singapore Citizenships and 31,050 Permanent Residencies were granted. The vast majority of adult new citizens have lived in Singapore for five years or more prior to naturalisation, contributing to Singapore society in various ways. Members will note that with this pace of immigration, we are just maintaining and not growing the citizen population in the prime working ages. This is also why we place priority on making Singapore a Great Place for Families, where young Singaporeans feel confident that marriage and parenthood are achievable, enjoyable and celebrated. This will be the main focus of my response to Members' cuts. Last year, we had 23,873 citizen marriages, an increase from our Golden Jubilee Year. Citizen births fell slightly to 33,161, even though I know some Members of the House have done your part. Thank you very much. However, this slightly lower figure is still slightly higher than the average in the past 10 years of about 32,000 babies. Our Total Fertility Rate (TFR) fell to 1.2, from 1.24 a year ago, due in large part to a larger cohort of young Singaporeans who are now entering the peak childbearing ages of 25-39 years, but who have not yet started having children. Mr Vikram Nair asked about the attitudes of young Singaporeans who are approaching the peak marriage and parenthood ages. He will be pleased to know that Singaporean millennials \\u2212 those in their mid-teens to early 30s \\u2212 still have strong aspirations to marry and start families. According to our survey last year, 83% of single millennials want to get married. Among married respondents, 92% want to have at least two children. We have identified three key areas which will help Singaporean millennials turn these aspirations into reality. These are  faster access to public housing; more affordable and quality pre-school services; and greater workplace and community support. At this COS, we are announcing a package of enhancements that are a significant boost to family formation for Singaporean millennials. Together with the parental leave enhancements that will take effect this year, these measures will help young Singaporean couples get a place of their own earlier, have better peace of mind in caring for their babies and enjoy better workplace and community support in their parenthood journeys. We expect the enhancements to benefit about 25,000 families annually. Let me start with housing. Due in large part to the success of our public housing programme, many couples now aspire to own their own homes before they start a family. We support this aspiration through several policies. For example, the Parenthood Priority Scheme (PPS) gives priority allocation of new flats to first-timer married couples who are already parents but the PPS also offers the same benefit to couples who are not yet parents but are expecting a child. Last year, first-timer PPS applicants were twice as likely to be successful in their BTO and SBF flat applications as compared to first-timer non-PPS applicants. Over 80% of first-timers buy new rather than resale flats. Today, the average waiting time for BTO completion is three to four years which Ms Tin Pei Ling noted. If these couples need their own place urgently, the Parenthood Provisional Housing Scheme (PPHS) provides interim rental housing at below market rates. As pointed out by Mr Darryl David and Ms Tin, PPHS has, indeed, been a helpful scheme for parents. So far, it has benefited about 2,000 families, and 400 babies have been born to families living in PPHS flats. Later in the debate, Minister Lawrence Wong will outline plans to provide some BTO flats with shorter waiting times. We will also share plans to enhance the PPHS to help more couples who want to live on their own while waiting for their BTO flats, including improving their affordability, as Mr Darryl David had hoped. For couples who do not wish to wait or prefer to live near their parents, a good option is resale flats which about 20% of all first-timers have bought. At the Budget Speech last week, the Finance Minister announced enhancements to the CPF Housing Grant. Couples buying resale flats can, henceforth, enjoy up to $110,000 in grants. With shorter waiting times, more accessible PPHS flats and higher resale grants in place, more couples will be able to enjoy a place of their own faster. But I urge couples not to delay planning as a result. There are many worthy pursuits in life and, if marriage and parenthood are to feature at all, they have to be prioritised earlier rather than later. As I have said before, please do not wait till it is too late. Second, let me turn to pre-school. It is an area in which we will strengthen support for parents \\u2212 childcare and, particularly, in the care of infants. Today, many infants up to 18 months old are cared for at home by family members. This is usually the mother or grandparent, sometimes with support from a domestic helper. However, as Dr Lim Wee Kiak noted, more women and grandparents are entering or remaining in the workforce. This is a positive development which adds to the vibrancy and depth of experience in our economy. But it also means a growing need for care of infants outside of homes. Today, a relatively small proportion of infants, 8%, are enrolled in centre-based infant care, but the satisfaction levels of these parents are as high as those whose infants are cared for at home. The Early Childhood Development Agency (ECDA) will meet the growing demand for centre-based infant care by increasing capacity to over 8,000 places in the next few years. The increased capacity will provide for around one in five newborns. Minister Tan Chuan-Jin will share more. While we ramp up capacity, we will, at the same time, maintain quality. The new Early Childhood Development Centres Bill, which was passed earlier this week, will help ensure greater consistency and standards across the whole sector. Childcare service provision has expanded considerably. I wish to assure Dr Lim Wee Kiak that ECDA also recognises the importance of matching supply to demand and will seek improvements in this area. Dr Lim Wee Kiak and Ms Tin Pei Ling have pointed out that some families still prefer their infants to be cared for at home and asked how we might strengthen support for home-based care. It is a valid point. It is, therefore, heartening that NTUC's SEED Institute, which has trained many of our early childhood educators, will now look at sharing their expertise to help train domestic helpers. SEED has collaborated with healthcare professionals from KK Women's and Children's Hospital to pilot an infant care training course for domestic helpers employed by families with young infants. The course will equip these domestic helpers with the basic know-how to care for and interact with infants, with a focus on safety and hygiene, which are the key concerns of parents. It also includes a module to help both the employers and their helpers establish a common understanding of how the infant should be cared for. SEED and KK Hospital plan to offer 100 training places through this pilot. If the response is positive, the pilot could be scaled up. Other caregivers, such as nannies, babysitters or even parents themselves who wish to receive caregiving training, can use their SkillsFuture credits to attend several infant and childcare courses already available in the market. Turning now to workplace support. Besides housing and childcare, the third important area of focus is workplace support. Millennials, both men and women, want to have meaningful careers and fulfilling family lives. Indeed, both sets of aspirations are worthy of support. I share Ms Sun Xueling's view that we should look at support from the lens of a young parent and plug the gaps so that the transitions at each stage of the parenthood journey can be more seamless, and young parents can manage both family and work successfully. Take parental leave, for example. We have introduced a number of enhancements in recent years which are welcomed by parents. From this year, the law provides for a second week of paternity leave. Enhancements to shared parental leave and adoption leave will also come into effect in July. Parents are happy to have more time to care for and bond with their infants, and fathers can also play a bigger role in raising their newborns, all while remaining in employment. However, even with the latest enhancements, the return to regular work may still be tough for those without strong family support and who need centre-based infant care. Today, both working parents, together, can enjoy 20 weeks of paid leave in the first year after their child is born, and two weeks of unpaid leave. Even though infant care centres are able to take in babies from the time they are two months old, most parents feel more confident when their babies are about six months or 26 weeks old. For such parents, there could be a caregiving gap of around four weeks. We want to provide better workplace support for these parents, while balancing the need for businesses to adjust to the recent parental leave enhancements. Therefore, the public sector will take the lead to pilot a scheme to close the potential caregiving gap. Under this pilot, public sector officers and their spouses will be guaranteed six months of parental leave per couple. From July this year, the Public Service will provide an additional four weeks of unpaid infant care leave per parent, to be taken within the child's first year. This means that as long as one parent is working in the Public Service, the couple can have up to 26 weeks of leave, or six months, between them. Members may ask if the additional leave can be paid rather than unpaid. Our observation is that even with paid parental leave, some parents have not been utilising them in full. Some do not need all the leave provided; others face pressures at work that prevent them from taking more parental leave. Further paid leave does not benefit these parents. Instead, parents want better assurance of workplace support, that they can take all their parental leave provisions if they need them. This is why we have decided that the main objectives of the pilot in the Public Service are to test the general viability of longer parental leave and to require all supervisors to facilitate such leave. Under this pilot, supervisors in the public sector, which includes Ministries and Statutory Boards, will no longer be able to say \\\"maybe yes, maybe no\\\". The leave provision is gender-neutral. Both male and female public officers are eligible to apply. As long as they have been given reasonable notice, supervisors will have to accede to all applications for such parental leave and make the necessary work adjustments. The public sector pilot will also be for a longer period of three years so that we can adequately test the impact of longer parental leave in a variety of work settings. These experiences will be useful in assessing whether a nation-wide rollout is practicable in future. But I would like to add a word of caution here. We should not under-estimate the challenges of such a move. As it is, some employers face great difficulty in accommodating staff with childcare needs. Some parents also tell us of the pushback they experience from co-workers. Extending parental leave can, unwittingly, be an added source of tension at the workplace. Therefore, I hope Members will help to rally support for the pilot and give us suggestions on how we can improve its chances of success. Needless to say, while we are piloting this measure in the public sector only, we hope some private sector companies will also join in to lead the way. I should also add that parental leave provisions can only do so much. As many Members have pointed out, what employees want, increasingly, is flexibility. I thank Mr Desmond Choo for his suggestions on how technology can be an enabler for this. MOM has a useful way of thinking about flexible work arrangements (FWAs) \\u2212 flexi-time, flexi-place and flexi-load. The data shows that two in three employees worked in companies that provided at least one form of FWAs. Anecdotally, however, as Mr Saktiandi Supaat has suggested, many employees do not feel the impact of such support. In any case, our survey last year revealed that eight in 10 married respondents cited having FWAs as an important consideration when deciding which company to join. So, it appears that companies still have some catching up to do. The Government will continue to support them through various resources, including MOM's Work-Life Grant, which provides up to $160,000 to help companies implement FWAs. More recently, the tripartite partners have published an advisory which guides companies through the process of introducing FWAs. MOM is studying ways to encourage more companies to come on board and will share more details later in the year. Let me now turn to community support. I agree with Mr Alex Yam that Government action alone cannot bring about a mindset change. They say it takes a village to raise a child. And, in Singapore, we want the entire kampong to chip in. Supportive communities can greatly enrich family life. Take, for example, the Trivelis Babies group, a ground-up initiative by residents of Trivelis estate in Clementi. The group started when a few young parents were looking for mutual support in their parenthood journeys, and has grown organically to about 150 members. What was originally a \\\"virtual kampong\\\" to exchange child-minding tips is now a fairly tight community that comes together regularly to celebrate the Mid-autumn Festival or dress up for Halloween parties. The People's Association (PA) has some ideas on how we can bring communities together to celebrate families in a bigger way. They dovetail nicely with the many 100-day showers Ms Sun Xueling has attended. PA will share more in a few weeks. We also have plans to make our public transportation more family-friendly. MOT will give more details at next week's debate. With your permission, Mdm Chairman, I would like to speak in Mandarin now. Yes, please proceed. ( To better support millennial families, we will adopt a three-pronged approach to encourage Singaporeans to form families and have children earlier. First, housing. From the feedback gathered, we know that many Singaporeans would like to have their own homes before having children. Hence, our priority will be to help young couples who wish to settle down to get faster access to public housing. Second, as more women and grandparents are remaining in the workforce, some young parents are worried that they will not have anybody to care for their children when their maternity or paternity leave ends. Hence, the Government will increase the capacity and enhance the quality of centre-based infant care, so that parents will enjoy peace of mind when they return to work. Third, new parents would like better workplace and community support, so that they can manage both career and family commitments. Hence, we will work together with businesses and community organisations to better support millennial parents. The Government will launch a pilot where public sector officers and their spouses will be guaranteed six months of parental leave per couple, so that they will have more time to adjust to the new addition in the family. Parents who need to send their child to centre-based care could then do so with greater peace of mind, when the child is older. The package of enhancements to be implemented this year will benefit up to 25,000 families annually when fully rolled out. The Government will set aside an additional $140 million per year to implement these measures. However, it is not enough for the Government to act alone. We hope more employers can implement flexible work arrangements to enable employees to manage their career and family commitments. We also hope co-workers can show mutual understanding and support when their colleague needs to take time off work to care for their young child or elderly parent. There is an African idiom, \\\"It takes a village to raise a child\\\". We need to mobilise the whole community and encourage more ground-up initiatives, such as parent support groups and family activities, so that millennials can be assured that parenthood is achievable, enjoyable and celebrated. (In English)  To conclude, families are the foundation of society and our efforts to strengthen these foundations must never cease. Last year, I outlined our vision to make Singapore a Great Place for Families, where marriage and parenthood are achievable, enjoyable and celebrated. We remain strongly committed to this vision. The package of enhancements to be implemented after this year's COS will benefit an estimated 25,000 families annually, when fully rolled out, and cost the Government an additional $140 million a year. This comes on top of the $2.5 billion each year that is set aside to support marriage and parenthood. The enhancements will help couples get a place of their own sooner, have more peace of mind in the care for their infants and enjoy greater workplace and community support. We know it is not enough for the Government to act alone. Everyone \\u2212 family, friends, employers, co-workers and the community \\u2212 must come on board. Together, we can assure that millennials experience Singapore as a place where they can achieve their dreams, enjoy their families and careers, and celebrate their children with their communities. Ms Sylvia Lim, you have two cuts, please take them together. The rationale for the TDSR policy is well-known. While the Government has a good intention, TDSR is a blunt instrument that has seriously affected certain groups of Singaporeans in the current economic climate. I raised this in a recent Parliamentary Question, but feel compelled to raise it again as some of our residents are in the affected group. The TDSR restricts borrowing from financial institutions to 60% of a person's monthly income, and applies not only to loans to purchase a property, but also to loans secured on a property. The first affected group will be retirees who have properties to mortgage but no income, who may need some liquidity for one reason or another. A second affected group would be those who have suffered a drop in income or been retrenched in the current downturn, but who can offer property as collateral for a loan. What these persons ask for is a tweak to the TDSR policy to give them flexibility to re-schedule their debt obligations, at little risk to the lenders. It seems that banks are applying TDSR strictly, with no or few exceptions. A Malaysian government investment company, 1Malaysia Development Berhad (1MDB) has spawned criminal and regulatory investigations into embezzlement or money laundering in at least 10 countries. Billions of funds associated with 1MDB and wealthy financier Jho Low have reportedly flowed through bank branches in Singapore. The repercussions on our banking industry have been severe. BSI, one of Switzerland's oldest private banks, had its Singapore branch shut down by MAS in May 2016, because it was the custodian bank for $2.3 billion of investments from 1MDB. The Singapore branch of Falcon Private Bank, another private Swiss bank, was also shut down by MAS in October 2016 after being linked to US$3.8 billion of 1MDB fund flows. Standard Chartered Bank was fined, while both UBS and DBS were penalised by MAS. Bankers have since been convicted and jailed. All these happened after last year's COS debates when Minister Chan Chun Sing said that MAS has put in place a \\\"robust preventive regime\\\". Mdm Chairman, this ongoing saga has severely tarnished Singapore's reputation as a financial centre. In June 2016, MAS announced that it would combat money laundering by strengthening enforcement. This included the setting up of a dedicated anti-money laundering department, a dedicated supervisory team to monitor risks and carry out on-site supervision of financial institutions, and a new enforcement department to work jointly with CAD. However, even MAS has acknowledged that \\\"it is not possible to prevent regulatory breaches and misconduct even with intrusive supervision\\\". Therefore, we are still very reliant on financial institutions and their employees themselves being vigilant and filing suspicious transaction reports. This regimen breaks down when institutions themselves have fostered a culture of non-compliance, as we have seen with BSI and Falcon Bank, in how they wilfully ignored the risks in the 1MDB-related transactions. Billions in transactions and millions in bonuses are tremendous incentives to break the law. Even with vigorous enforcement, punishments will only be meted out after the fact and Singapore's reputation in this regard will still be damaged. I would like to ask the Minister, will the Government take its regulatory measures a step further and actively try to detect bad institutions and, if so, what are the steps by which it intends to do this? Recently, some of our local banks were named for allegedly financing irresponsible palm oil companies linked to deforestation and the haze. In 2015, the Association of Banks in Singapore (ABS) released a set of industry guidelines to enhance responsible financing, but it seems that these measures have not borne fruit. International banks, such as HSBC, has started to strengthen their lending criteria, but local banks have not published environment, social and governance policies. Will MAS encourage financiers to adhere to ABS' guidelines, and what further steps will it take to prevent local financiers' involvement in environmental disruption, which could lead to haze? Mdm Chairman, I would like to speak about corporate governance of listed companies. Many public listed company executives tell me of the challenges of abiding by a growing checklist of regulations. At the same time, there are rapid changes internationally with regard to compliance. I note that MAS recently established the Corporate Governance Council to review the Code of Corporate Conduct. Can MAS share more about that? How can we ensure that this code of conduct, while meeting international standards, will be practical and supportive of businesses, as well as to improve the attractiveness of our exchanges? Bona vacantia Mdm Chairman, let me start by addressing Ms Sylvia Lim's question on TDSR. We understand the underlying concerns. Retirees, who have fully paid up their properties, may want to take up a mortgage to support their children's education, pay medical fees, support retirement expenses and, maybe, start new companies. But some of them are unable to do so today under the TDSR rules. I do remember Ms Sylvia Lim asking this question last year. It is the same question, but I will give the same answer, which is, that MAS has been receiving similar feedback. We understand the concerns. We are studying the matter. Ms Sylvia Lim also asked about our anti-money laundering (AML) regime and the efficacy of related agencies and what steps we will take. Maybe some perspectives here. Singapore is a global business and financial centre. It sees substantial financial flows daily, in many forms. Every such global centre carries risks relating to money laundering and other financial crimes. Increasingly, criminals are developing complex, cross-border schemes to mask illicit flows or ill-gotten gains through financial centres around the world. Ms Sylvia Lim mentioned 1MDB-related flows. It is a clear example \\u2212 it is, by far, one of the most complex, sophisticated and largest money laundering cases to date. These flows were channelled through multiple jurisdictions, including the US, Switzerland, Hong Kong, Luxembourg, the Netherlands, Barbados and through many parties and entities, of which many were shell companies incorporated in the British Virgin Islands, Cayman Islands and Seychelles. We have taken many steps and a robust approach to addressing these risks, because trust and rule of law underpin our international reputation. It is a moving game, and our approaches and methods have to keep evolving. Our approach is multi-faceted. First, we put in place a strong regulatory regime against money laundering, complemented by close supervision, unstinting enforcement where there are offences in Singapore and active international co-operation. Because of the severity and complexity of 1MBD, in fact, we started the Supervisory Examinations two years ago on banks that were suspected of being involved. The Financial Action Task Force, endearingly known as FATF, has independently assessed our system last year and re-affirmed Singapore's strong regulatory framework, alert supervision of the financial sector. Second, we have effective use of financial intelligence by the Suspicious Transaction Reporting Office. And also, we share intelligence with our counterparts all over the world. But as the 1MDB example shows, even with strong rules, we cannot eliminate financial crime. This is why we need deterrent enforcement, and that is our third step. In the case of the 1MDB-related transactions, we were the first jurisdiction in the world to take enforcement actions. We shut down two banks mentioned by Ms Sylvia Lim \\u2013 BSI and Falcon Bank \\u2013 and imposed financial penalties on several other financial institutions. Our courts have fined and, in some cases, imprisoned individuals who were complicit. And this has included senior management in some of these banks. We believe the message has gone out loud and clear \\u2212 Singapore will not tolerate the criminal abuse of our financial system. Mr Louis Ng asked if MAS will encourage local financiers to adhere to the Association of Banks in Singapore (ABS) industry guidelines on responsible financing. In short, we do. MAS has been working closely with the financial industry on this. Since the launch of ABS' Responsible Financing Guidelines in 2015, ABS member banks are expected to factor into their lending and investment policies sustainability issues, such as greenhouse gas emissions, deforestation, resource efficiency, labour standards and corporate integrity. The local banks have established internal task forces on environment, social and governance issues to help integrate the ABS Guidelines into their lending and business practices. Banks have implemented environmental risk weightings as part of their loans assessment criteria. Loan decisions relating to companies which are assessed to have high environmental risks will be escalated to the banks' senior management. ABS has also recently introduced specific guidelines for banks on dealing with haze-related risks, such as no open burning on plantations, and build capacity on fire prevention with local communities. Mr Henry Kwek has raised a concern on increasing complexity in regulation and the rising cost of compliance, specifically in the area of corporate governance. As an international financial centre, we must ensure that our system remains sound and effective, and stays abreast of international norms. On corporate governance, ours is a tiered approach. The Companies Act sets out fundamental requirements for directors to act honestly and use reasonable diligence in discharging their duties. The Code of Corporate Governance sets out corporate governance best practices and applies to listed companies on a comply-or-explain basis. The comply-or-explain regime recognises the need for flexibility and allows listed companies to adopt alternative ways to achieving good governance, as long as deviations from the Corporate Governance Code are accompanied by meaningful explanations. To ensure that our corporate governance regime remains progressive and relevant, MAS has formed a Corporate Governance Council to review the Corporate Governance Code and practices. The Council members are drawn from various stakeholder groups, including small medium enterprises (SMEs), to provide broad and diverse perspectives on \\tCorporate Governance issues. The Council will review how the comply-or-explain regime can be made more effective. It will consult widely to ensure that business considerations, investor feedback, as well as international developments, are taken into account. Ultimately, the review seeks to ensure that the \\tCorporate Governance Code continues to support sustained corporate performance, business growth and innovation and maintain investor confidence in our capital markets. Ms Chia Yong Yong asked if there is any legislation that empowers the Singapore Government to expropriate unclaimed funds held by non-Government entities, such as banks and other professional or commercial entities. There is, currently, no such legislation. Owners retain their legal right of claim even when their accounts have been inactive. MAS has been studying the need for a formalised framework to deal with such unclaimed funds. In the meantime, MAS is studying ways to help individuals locate their inactive accounts, with a view to reducing such unclaimed funds. We have a few minutes for clarifications. Please make your clarifications short. Mr Cedric Foo. I thank the Deputy Prime Minister for his answers on an integrated Public Service. May I ask him if the Strategy Group still constructs scenario planning \\u2212 alternative futures of what Singapore may be like so that, as a Public Service, all the senior leaders are tuned into such possible common futures, to seize the opportunities as well as to deal with challenges they pose. Yes, Mdm Chairperson, the Public Service still does that. It is now under the PMO Strategy Group and these scenarios cover the entire range of issues which the Public Service and, indeed, Singapore need to deal with \\u2212 economic, security, social, family and population issues as well. Mr Louis Ng. Thank you, Madam. Allow me to seek some clarifications about our Public Service and also make some clarifications. As I have mentioned in my speech, the issue is not only about our public servants but I think, more importantly, about the system they work in. As I have mentioned, in our pursuit to automate most things, we now have a system without a heart. So, in the example that I shared, the HDB officer had a heart and wanted to help the resident but the computer did not have a heart and the letter demanding payment was computer-generated. That is the problem we need to tackle. My speech was also drafted in consultation with the public servants who are on the ground and who are frustrated. Hence, my first suggestion, which is from them, is that we need to cut some slack for our ground officers, our frontline staff members who will be the first to detect people who have fallen through the cracks, who can alert us. Many I have spoken to feel that when they bring such cases to their superiors, they are scolded for not following the books. Mr Ng, your clarification, please? Next sentence, Madam. We need to develop a culture where they are not being penalised for being different. Can I ask the Deputy Prime Minister to clarify what steps we are taking to develop this culture? First of all, I would like to thank Mr Louis Ng for supporting our public officers in making his clarification. Of course, computers have no heart; public servants do. And I would encourage him to continue to encourage his officers who work so closely with him to serve his residents together with him. You have a further clarification, Mr Ng? Yes. A short one, please. I try to make it short, Madam. I do share the concerns. I am thankful for our public servants and I do work closely with them. As I have mentioned, they are a rare breed who devote their lives towards serving Singapore. I just want to add a point, which is, as we cut budgets, I hope we can consider the impact this has on individual public servants. I want to share a comment that was sent to me and I will read it out. Madam, it is just one minute. The quote is, \\\"You think I do not want to go the extra mile for my country? I got heart but I got time boh? MOF every year cuts budget. We always kena headcount freeze, or worse, headcount cut. Work is ever increasing; manpower decreasing. Sustainable? Keep telling me to exercise compassion and empathy. You think I do not know? Legislate more support for public officers first then we talk.\\\" Mr Ng, put your clarification, please. The clarification is  as we cut budgets, can we consider the impact this has on the individual public servants? Deputy Prime Minister Teo, do you want to respond to that \\u2212 how the cut will affect individual public servants? We will continue to provide resources as needed and as available to the Public Service to support our officers in the work that they do. And I think, as a number of Members have pointed out, this is work that is not just for the public officers, and as I have said in my reply, every Member of this House, together with public officers, members of the public and VWOs, we all have a role to play, too. Mr Leon Perera. Thank you, Madam. I just want to thank Senior Minister of State Josephine Teo for her response. I just want to seek a few clarifications regarding my cut on the new Singapore Citizenship Journey. Firstly, would the Senior Minister of State recognise the grave consequences to our democratic society if all citizens, including new and born-in-Singapore citizens, do not fully understand that their votes are secret? Would the Senior Minister of State further not recognise that with 20,000 new citizens a year, this is equivalent to one SMC, one GRC for parliamentary term, the consequences to our democracy will be grave if a significant minority, even the majority of them, do not understand that their votes are secret? Given that, and my clarification, the third point is  would the Senior Minister of State agree to insert a short write-up in the new citizen guidebook explaining how votes are kept secret during the electoral process and, if not, why not? And lastly, if there is a doubt about the facts, would the Government not agree to conducting a study to ascertain if this is, indeed, something that not all new citizens fully understand? Mdm Chairman, may I seek a clarification from the Member? Is it the Member's view or contention that citizens born in this country know that the vote is secret, but for some strange reason, our new citizens do not know that their vote is secret? Is that your contention, Sir? The Senior Minister of State may not be aware that I have, in fact, raised this as a Parliamentary Question (PQ) about born-in-Singapore citizens. I raised it as a PQ to Minister Ng Chee Meng, I believe, and it was answered last year that this education gap could also be an issue for born-in-Singapore citizens. I do not only have that concern for new citizens. It is also a concern for born-in-Singapore citizens. I asked if the school curriculum could educate students on that, and that was a PQ that is in the Hansard. I asked that last year. But my cut here is in the context of new citizens only. So, that is what I am referring to in this particular instance. But it is also an issue for born-in-Singapore citizens. So, may I confirm then that this issue has nothing to do with new citizens per se? My cut is specifically asking about new citizens and the new citizen guidebook, and if there can be some education. But Mdm Chairman, the Member just said he also asked about the secrecy of votes and the knowledge of such amongst all citizens, not just new citizens. So, it has nothing to do with new citizens per se. Is that the correct understanding? That is not the case. I was referring to my PQ last year in response to your clarification to my clarification. You asked if I only have this concern about new citizens. I do not. I do have this concern for born-in-Singapore citizens as well. But my cut is about new citizens. Mdm Chairman, I must say that this question comes as a surprise to me. As I have mentioned in my reply, the vast majority of all adult new citizens have lived in Singapore for at least five years before naturalisation, which means that they would have witnessed at least an electoral cycle, usually. When we are in an election, I do not think in all of the elections that I have taken part in as a voter has the issue of electoral fraud been prominent. The secrecy of the vote, I think, is something that I have learnt as a little girl, watching television, from young, come election time, there is a television advertisement that tells you, \\\"Your Vote is Secret\\\". I have learnt that my entire life and I do not know of many other fellow citizens who would doubt that. I urge the Member not to be overly worried about this. If there is anyone that he comes across that has any further doubt on this, they can certainly visit our Elections Department's website and be reassured. Madam, may I just make one last clarification? Make it short, please. I appreciate what the Senior Minister of State has said. I had, as I mentioned in my cut, actually met a number of new citizens who are not clear about this. My clarification would be  what would be the problem or impediment to just including a write-up to educate new citizens about that in the guidebook? What would be the issue in doing that? Deputy Prime Minister Teo. Mdm Chairman, if I recall, the PAP has always been saying and the Government has always been saying that your vote is secret. The ones who had been saying that the vote was not secret in the past was exactly the Workers' Party until you discovered it was not really such a good idea to say that your vote is not secret. And suddenly, you changed your mind and are now going out to tell people that your vote is secret, for which we are grateful. The Government has been saying that all along and we are glad that you agree. Ms Sylvia Lim Thank you, Madam. I have a clarification for Minister Ong Ye Kung on my cut on money laundering. He mentioned in his response that the Financial Action Task Force (FATF) had done an evaluation last year and generally gave a good report on our measures. But is it also not true that in that report, they actually said that while we were probably good at tackling smaller scale financial crime, we were not strong on cross-border, the bigger cases. There was an observation that we should try to target the more complex cases and that is expected of us as a sophisticated financial centre. So, my question is whether the Minister agrees that, actually, the Government or we are still on a learning curve on how to respond adequately to these, as he says, complex cross-border transactions. If I remember correctly, when FATF made those observations, that was before we disclosed our findings on 1MDB money laundering and closed down BSI and Falcon Bank. The timing is a bit different. Having said that, I take Ms Sylvia Lim's point, this is always a learning process. In Chinese \\u9053 \\u9ad8 \\u4e00 \\u5c3a\\uff0c\\u9b54 \\u9ad8 \\u4e00 \\u4e08. When the moral is one feet, the evil is 10 feet. And it is a moving game. We will constantly have to learn, work with our foreign counterparts, exchange intelligence, work together and tackle this. Madam, may I seek a clarification from the Deputy Prime Minister on what he said about the Workers' Party? Yes, please. Would the Deputy Prime Minister clarify when the Workers' Party said the vote is not secret? I do not remember I said that. I recall the Workers' Party has made an issue about registration numbers on voters' slips and so forth. Mr Low may choose not to remember, but those were issues which were raised before, I think even in this House. Thank you, Mdm Chairman. I am very happy to hear from Mr Ong Ye Kung that MAS is looking at unclaimed funds in bank accounts. Can I also ask him if they are also looking at unclaimed insurance policies? Because a lot of people buy insurance policies and when they die, the family members do not know what policies they have bought or from where. I thank the Member for raising this new issue. MAS, I am sure, will take a look at it. Mr Cedric Foo, do you wish to withdraw your amendment? Mdm Speaker, let me thank the Deputy Prime Minister, Minister Vivian, Minister Ong and Senior Minister of State Josephine Teo for their replies to our questions on PMO. I beg leave to withdraw my amendment. [() Amendment, by leave, withdrawn. ()] [() The sum of $417,943,300 for Head U ordered to stand part of the Main Estimates. ()] [() The sum of $70,367,200 for Head U ordered to stand part of the Development Estimates.       ()] Order. I propose to take a break now. [() Thereupon Mdm Speaker left the Chair of Committee and took the Chair of the House. ()] I suspend the Sitting and will take the Chair again at 5.40 pm. Sitting accordingly suspended at 5.20 pm until 5.40 pm. Sitting resumed at 5.40 pm  [() Debate in Committee of Supply resumed. ()] \",\n          \" asked the Minister for Communications and Information (a) whether senior citizens from low-income households qualify for subsidies to access broadband services in their homes under the Digital Access Programme; and (b) whether the cost of installing a broadband point in their homes can be subsidised under the programme. The Government is committed to building an inclusive digital society, where all Singaporeans, including our seniors, are empowered with digital skills and have the means to access digital platforms. Under IMDA\\u2019s Home Access (HA) programme, eligible low-income households, including those with senior citizens, can enjoy two years of subsidised home broadband services, and the option to own one subsidised device per household. The fees for broadband installation, as well as fees for installing the first termination point, are waived for beneficiaries. The Home Access programme has benefitted many seniors, with 75% of current beneficiaries comprising households with seniors aged 60 and above. In this year alone, nearly 4,000 seniors have benefitted from the Home Access scheme. IMDA also recently introduced subsidies for low-income seniors to obtain personal smartphones and mobile plans under the Mobile Access for Seniors (MAS) scheme. The scheme supports low-income seniors with on-the-go connectivity, and complements the SG Digital Office's efforts to raise the digital skills of seniors. 800 seniors have benefited from this scheme since its launch in July. Our efforts at ensuring digital inclusion of seniors have been well-received. To-date, 16,000 seniors have taken part in the SG Digital Office's digital skilling initiatives. Many of the seniors, some of whom I recently met at Teck Ghee Community Centre, are eager to learn and possess a can-do spirit. With the support of our corporate and community partners, Digital Ambassadors and volunteers, we will continue our efforts to ensure that seniors are not left behind in Singapore's digitalisation journey.\",\n          \" asked the Minister for National Development (a) what is the current number of heavy vehicle parking spaces island-wide as compared to the number of heavy vehicles registered with LTA under the Vehicle Parking Certificate (VPC) scheme; and (b) what steps can be taken to impose responsibility on vehicle owners who do not use the designated parking space stipulated in the VPCs and instead require their drivers to find alternative parking options for the vehicles. As of January 2021, there are about 41,200 Heavy Vehicle Parking (HVP) lots island-wide and about 32,800 heavy vehicles registered under LTA\\u2019s Vehicle Parking Certificate (VPC) scheme. So, there are more than enough lots for all heavy vehicles. The VPC scheme was implemented in 1994 to curb overnight parking of heavy vehicles along public streets, especially in residential estates. Under the scheme, all heavy vehicles have a registered overnight parking space, where they are required to park between midnight and 6.00 am. Heavy vehicle owners who require their drivers to park overnight outside of their registered parking space are committing an offence under the Road Traffic Act and could face a fine of up to $1,000 or imprisonment of up to three months. We would like to reiterate that it is the responsibility of business owners to ensure that they have appropriate parking solutions for the heavy vehicles they own and that their drivers park responsibly. Business owners should also work out transport arrangements for their drivers to commute to and from work.\"\n        ],\n        \"semantic_type\": \"\",\n        \"description\": \"\"\n      }\n    }\n  ]\n}"
            }
          },
          "metadata": {},
          "execution_count": 29
        }
      ],
      "source": [
        "ct_df.head()"
      ]
    },
    {
      "cell_type": "code",
      "execution_count": 30,
      "metadata": {
        "colab": {
          "base_uri": "https://localhost:8080/"
        },
        "id": "moB8LyrJFn7t",
        "outputId": "7e1e2db1-0f10-4d4f-96e2-11075a0a2eaf"
      },
      "outputs": [
        {
          "output_type": "stream",
          "name": "stderr",
          "text": [
            "[nltk_data] Downloading package stopwords to /root/nltk_data...\n",
            "[nltk_data]   Package stopwords is already up-to-date!\n",
            "[nltk_data] Downloading package wordnet to /root/nltk_data...\n",
            "[nltk_data]   Package wordnet is already up-to-date!\n"
          ]
        }
      ],
      "source": [
        "import re\n",
        "import string\n",
        "import nltk\n",
        "from nltk.corpus import stopwords\n",
        "from nltk.stem import WordNetLemmatizer\n",
        "\n",
        "nltk.download('stopwords')\n",
        "nltk.download('wordnet')\n",
        "\n",
        "# text preprocessing functions\n",
        "def lowercase_text(text):\n",
        "  return text.lower()\n",
        "\n",
        "def remove_punctuation(text):\n",
        "  punctuation = string.punctuation\n",
        "  return \"\".join([char for char in text if char not in punctuation])\n",
        "\n",
        "def remove_stopwords(text, custom_stopwords=[]):\n",
        "  stopword_list = stopwords.words('english')\n",
        "  stopword_list.extend(custom_stopwords)\n",
        "\n",
        "  words = [word for word in text.split() if word not in stopword_list]\n",
        "  return \" \".join(words)\n",
        "\n",
        "def lemmatize_text(text):\n",
        "  lemmatizer = WordNetLemmatizer()\n",
        "  words = [lemmatizer.lemmatize(word) for word in text.split()]\n",
        "  return \" \".join(words)\n",
        "\n",
        "def clean_text(text):\n",
        "  cleaned_text = re.sub(r\"[^\\x00-\\x7F]+\", \"\", text)  # Remove non-ASCII characters\n",
        "  cleaned_text = re.sub(r\"\\d+\", \"\", cleaned_text)  # Remove numbers\n",
        "  cleaned_text = re.sub(r\"\\s+\", \" \", cleaned_text)  # Replace multiple spaces with a single space\n",
        "  cleaned_text = re.sub(r\"\\n|\\t|\\r|\\f\", \"\", cleaned_text)  # Remove newlines, tabs, carriage returns, and form feeds\n",
        "  return cleaned_text"
      ]
    },
    {
      "cell_type": "markdown",
      "metadata": {
        "id": "b3abW-O2j8gW"
      },
      "source": [
        "The following stop words are removed.\n",
        "\n",
        "Stopwords, comprising common words like \"and,\" \"the,\" and \"is,\" are typically removed in text analysis tasks for their high frequency and low semantic value. This removal reduces data noise, lowers dimensionality, and improves model performance by focusing on more meaningful terms. Moreover, excluding stopwords enhances interpretability and normalization of text data, aiding in more efficient and effective text analysis and modeling processes.\n",
        "\n",
        "| Category                     | Stopwords                                         |\n",
        "|------------------------------|---------------------------------------------------|\n",
        "| Government and Political     | parliament, ministry, minister, parliamentary,   |\n",
        "|                              | mr, speaker, member, deputy, indranee, rajah,    |\n",
        "|                              | zaqy, mohamad, yien, hai, fu, grace, leader,    |\n",
        "|                              | house                                             |\n",
        "| Terms                        |                                                   |\n",
        "| General Stopwords            | also, year, time, need, new, would, one, may,   |\n",
        "|                              | many, like, whether, u, make, public, take,      |\n",
        "|                              | well, even, example, text, sitting, act,         |\n",
        "|                              | edition, read, printed, adjourned, adjourn,      |\n",
        "|                              | resolved, order, assent, proceeding, chapter,     |\n",
        "|                              | revised, amend, presented, second, available,    |\n",
        "|                              | amendment, consequential, state, debate,        |\n",
        "|                              | tomorrow, resumption, day, beg, fixed, stand,    |\n",
        "|                              | date, today, accordingly, sit, exempted,         |\n",
        "|                              | provision, present, general, paper, item,        |\n",
        "|                              | today, allotted, supply, committee,              |\n",
        "|                              | consideration, th, nd, rd, pursuant, minute,     |\n",
        "|                              | pm, rising, speech, respect, discussion,         |\n",
        "|                              | agreed, january, february, march, april,        |\n",
        "|                              | may, june, july, august, september, october,    |\n",
        "|                              | november, december, fy, leave, progress,        |\n",
        "|                              | chair, head, said                                |\n",
        "| Specific Terms and Names     | bill, first, question, continue, must, ensure,   |\n",
        "|                              | proc, amendment, consequential, debate,         |\n",
        "|                              | according, thursday, friday, saturday, sunday,  |\n",
        "|                              | kim, gan, desmond, lee, yong, hon, provision,   |\n",
        "|                              | mdm                                               |"
      ]
    },
    {
      "cell_type": "code",
      "execution_count": 31,
      "metadata": {
        "id": "poJSr68RRQdr"
      },
      "outputs": [],
      "source": [
        "custom_stopwords = ['parliament', 'ministry', 'minister',\n",
        "                    'parliamentary', 'mr', 'speaker', 'asked', 'sir', 'thank',\n",
        "                    'also', 'year', 'time', 'need', 'new', 'government',\n",
        "                    'would', 'one', 'may', 'many', 'year', 'member',\n",
        "                    'like', 'whether', 'u', 'make', 'public', 'take',\n",
        "                    'bill', 'first', 'question', 'well', 'continue', 'must',\n",
        "                    'ensure', 'even', 'example', 'proc', 'text', 'sitting',\n",
        "                    'act', 'edition', 'read', 'printed', 'adjourned', 'adjourn',\n",
        "                    'resolved', 'order', 'assent', 'standing', 'consent', 'proceeding',\n",
        "                    'chapter', 'revised', 'amend', 'presented', 'second', 'available',\n",
        "                    'amendment', 'consequential', 'state', 'debate', 'tomorrow',\n",
        "                    'resumption', 'day', 'deputy',  'beg', 'indranee', 'rajah',\n",
        "                    'zaqy', 'mohamad', 'yien', 'hai', 'fu', 'grace', 'fixed',\n",
        "                    'stand', 'date', 'today', 'accordingly', 'sit', 'exempted',\n",
        "                    'member', 'provision', 'present', 'general', 'paper', 'item',\n",
        "                    'today', 'allotted', 'supply', 'committee', 'consideration',\n",
        "                    'th', 'nd', 'rd', 'pursuant', 'minute', 'pm',\n",
        "                    'hen', 'eng', 'ng', 'dr', 'monday', 'tuesday', 'wednesday',\n",
        "                    'thursday', 'friday', 'saturday', 'sunday', 'rising',\n",
        "                    'kim', 'gan', 'desmond', 'lee', 'yong', 'member', 'hon',\n",
        "                    'speech', 'proceeding', 'respect', 'discussion', 'leader',\n",
        "                    'provision', 'agreed', 'house', 'january', 'february', 'march',\n",
        "                    'april', 'may', 'june', 'july', 'august', 'september',\n",
        "                    'october', 'november', 'december', 'fy', 'leave', 'progress',\n",
        "                    'chair', 'head', 'mdm', 'said', 'interruption', 'minute',\n",
        "                    'propose', 'extend', 'moment', 'day', 'period', 'completion',\n",
        "                    'business', 'days', 'today', 'facilitate', 'singapore',\n",
        "                    'singaporean', 'ma', 'rgb', 'stylecolor', 'span', 'u']\n",
        "\n",
        "ct_df['speech_text'] = ct_df['speech_text'].apply(lowercase_text)\n",
        "ct_df['speech_text'] = ct_df['speech_text'].apply(remove_punctuation)\n",
        "ct_df['speech_text'] = ct_df['speech_text'].apply(remove_stopwords, custom_stopwords=custom_stopwords)\n",
        "ct_df['speech_text'] = ct_df['speech_text'].apply(lemmatize_text)\n",
        "ct_df['speech_text'] = ct_df['speech_text'].apply(clean_text)"
      ]
    },
    {
      "cell_type": "code",
      "execution_count": 32,
      "metadata": {
        "colab": {
          "base_uri": "https://localhost:8080/",
          "height": 87
        },
        "id": "-9TRtcwQSFRe",
        "outputId": "8b6ff6af-136d-46e9-9888-09619b8b25a6"
      },
      "outputs": [
        {
          "output_type": "execute_result",
          "data": {
            "text/plain": [
              "'manpower view senior live mature estate whose hdb flat shorter remaining lease lower resale value consider reassessing use hdb flat type eligibility criterion silver support scheme especially regard ownership room larger hdb flat disqualifies senior receiving silver support silver support scheme targeted senior lower income working year little family support resource retirement property ownership indicative seniors resource remains relevant ensuring silver support scheme targeted senior particular senior room larger housing development board hdb flat likely resource access additional retirement fund hence eligible silver support nonetheless senior face unique circumstance including room larger hdb flat short remaining lease low annual value write central provident fund cpf board review eligibility silver support consider merit appeal casebycase basis strengthen support retirement adequacy announced enhancement silver support scheme budget includes increasing qualifying per caput household income threshold support senior taken together majulah package upcoming enhancement workfare income supplement scheme matched retirement saving scheme measure help senior meet basic retirement need greater support given lower middleincome singaporean yip senior reply heartened hear consider appeal casebycase basis short supplementary instead complete exclusion could consider graduated differentiated eligibility system silver support scheme based flat size remaining lease length senior living larger flat saving financial support family concern senior indeed different archetype senior sometimes fall crack scheme let explain put place comprehensive suite different support measure meet various need senior support range universal one medishield life healthcare targeted one particular help healthcare community health assist scheme chas blue card silver support scheme targeted scheme meant support bottom senior little family support currently earned lower wage working year per caput household income thus quite relevant ass overall support structure housing type live indicator certainly member suggestion look appeal casebycase basis merit senior need support look measure come apart silver support'"
            ],
            "application/vnd.google.colaboratory.intrinsic+json": {
              "type": "string"
            }
          },
          "metadata": {},
          "execution_count": 32
        }
      ],
      "source": [
        "ct_df.iloc[4,1]"
      ]
    },
    {
      "cell_type": "markdown",
      "metadata": {
        "id": "GOBQNxN5pjRg"
      },
      "source": [
        "**C_V Coherence**:\n",
        "- Higher scores are generally better for `c_v` coherence. It indicates that the topics contain words with higher semantic similarity, which suggests more coherent and interpretable topics.\n",
        "- The `c_v` coherence measures the coherence of a topic model based on the pairwise similarity between words in the topic.\n",
        "- It calculates the coherence score by computing the cosine similarity between the word vectors representing the words in the topic. These word vectors are typically derived from word embeddings such as Word2Vec or GloVe.\n",
        "- `c_v` coherence tends to produce higher scores for topics that contain words with high semantic similarity.\n",
        "- This coherence measure often requires pre-trained word embeddings and is computationally more expensive compared to `u_mass` coherence.\n",
        "\n",
        "**U_Mass Coherence**:\n",
        "- Lower scores are generally better for `u_mass` coherence. It indicates that the topics have higher statistical coherence, meaning that words within the topics are more likely to co-occur in the documents, resulting in more coherent topics.\n",
        "- The `u_mass` coherence measures the coherence of a topic model based on the distribution of words in the topic and their co-occurrence within the documents.\n",
        "- It calculates the coherence score by considering the pointwise mutual information (PMI) between pairs of words in the topic, where PMI quantifies the strength of association between two words.\n",
        "- `u_mass` coherence does not require pre-trained word embeddings and is computationally less expensive compared to `c_v` coherence.\n",
        "- It tends to produce lower scores compared to `c_v` coherence and is more sensitive to the quality of the topic model.\n",
        "\n"
      ]
    },
    {
      "cell_type": "code",
      "execution_count": 33,
      "metadata": {
        "id": "guWRERnI9O14"
      },
      "outputs": [],
      "source": [
        "import time\n",
        "from sklearn.feature_extraction.text import TfidfVectorizer"
      ]
    },
    {
      "cell_type": "code",
      "execution_count": 34,
      "metadata": {
        "id": "fR0pJcsK-3fB"
      },
      "outputs": [],
      "source": [
        "from gensim.models import CoherenceModel\n",
        "from gensim.corpora import Dictionary\n",
        "from gensim.models import Nmf\n",
        "import matplotlib.pyplot as plt\n",
        "\n",
        "texts = ct_df['speech_text']\n",
        "\n",
        "# Preprocess data\n",
        "tfidf_vectorizer = TfidfVectorizer(max_df=0.95, min_df=2, stop_words='english')\n",
        "tfidf = tfidf_vectorizer.fit_transform(texts)\n",
        "\n",
        "# Create a Gensim Dictionary\n",
        "dictionary = Dictionary(texts.apply(str.split))\n",
        "\n",
        "# Convert sparse TF-IDF matrix to Gensim corpus\n",
        "corpus = [dictionary.doc2bow(doc.split()) for doc in texts]\n",
        "\n",
        "# Define a range of topic numbers to try\n",
        "num_topics_range = range(2, 30)\n"
      ]
    },
    {
      "cell_type": "code",
      "execution_count": 35,
      "metadata": {
        "id": "GCOC3NPe0nmG",
        "colab": {
          "base_uri": "https://localhost:8080/",
          "height": 1000
        },
        "outputId": "616192a5-b44d-492c-e5cb-ee7e1eb49955"
      },
      "outputs": [
        {
          "output_type": "stream",
          "name": "stdout",
          "text": [
            "NMF: Calculating result for 2 topics...\n",
            "Took 5.48 seconds.\n",
            "NMF: Calculating result for 3 topics...\n",
            "Took 6.18 seconds.\n",
            "NMF: Calculating result for 4 topics...\n",
            "Took 5.69 seconds.\n",
            "NMF: Calculating result for 5 topics...\n",
            "Took 9.06 seconds.\n",
            "NMF: Calculating result for 6 topics...\n",
            "Took 8.28 seconds.\n",
            "NMF: Calculating result for 7 topics...\n",
            "Took 7.08 seconds.\n",
            "NMF: Calculating result for 8 topics...\n",
            "Took 8.82 seconds.\n",
            "NMF: Calculating result for 9 topics...\n",
            "Took 9.45 seconds.\n",
            "NMF: Calculating result for 10 topics...\n",
            "Took 9.28 seconds.\n",
            "NMF: Calculating result for 11 topics...\n",
            "Took 12.63 seconds.\n",
            "NMF: Calculating result for 12 topics...\n",
            "Took 12.06 seconds.\n",
            "NMF: Calculating result for 13 topics...\n",
            "Took 13.86 seconds.\n",
            "NMF: Calculating result for 14 topics...\n",
            "Took 16.16 seconds.\n",
            "NMF: Calculating result for 15 topics...\n",
            "Took 26.01 seconds.\n",
            "NMF: Calculating result for 16 topics...\n",
            "Took 21.68 seconds.\n",
            "NMF: Calculating result for 17 topics...\n",
            "Took 22.06 seconds.\n",
            "NMF: Calculating result for 18 topics...\n",
            "Took 21.14 seconds.\n",
            "NMF: Calculating result for 19 topics...\n",
            "Took 22.16 seconds.\n",
            "NMF: Calculating result for 20 topics...\n",
            "Took 23.90 seconds.\n",
            "NMF: Calculating result for 21 topics...\n",
            "Took 22.92 seconds.\n",
            "NMF: Calculating result for 22 topics...\n",
            "Took 25.18 seconds.\n",
            "NMF: Calculating result for 23 topics...\n",
            "Took 26.31 seconds.\n",
            "NMF: Calculating result for 24 topics...\n",
            "Took 24.17 seconds.\n",
            "NMF: Calculating result for 25 topics...\n",
            "Took 35.16 seconds.\n",
            "NMF: Calculating result for 26 topics...\n",
            "Took 28.88 seconds.\n",
            "NMF: Calculating result for 27 topics...\n",
            "Took 30.20 seconds.\n",
            "NMF: Calculating result for 28 topics...\n",
            "Took 34.51 seconds.\n",
            "NMF: Calculating result for 29 topics...\n",
            "Took 34.23 seconds.\n"
          ]
        },
        {
          "output_type": "display_data",
          "data": {
            "text/plain": [
              "<Figure size 640x480 with 1 Axes>"
            ],
            "image/png": "[encoded data removed]"
          },
          "metadata": {}
        }
      ],
      "source": [
        "nmf_coherence_scores = []\n",
        "\n",
        "# Iterate over different numbers of topics\n",
        "for num_topics in num_topics_range:\n",
        "    start_time = time.time()\n",
        "    print(f\"NMF: Calculating result for {num_topics} topics...\")\n",
        "    # Fit NMF model\n",
        "    nmf_model = Nmf(corpus=corpus, num_topics=num_topics, id2word=dictionary, random_state=42)\n",
        "\n",
        "    # Compute coherence score\n",
        "    coherence_model = CoherenceModel(model=nmf_model, texts=texts, corpus=corpus, coherence='u_mass')\n",
        "    coherence_score = coherence_model.get_coherence()\n",
        "    nmf_coherence_scores.append(coherence_score)\n",
        "\n",
        "    end_time = time.time()\n",
        "    print(f\"Took {end_time - start_time:.2f} seconds.\")\n",
        "\n",
        "# Plot coherence scores\n",
        "plt.plot(num_topics_range, nmf_coherence_scores, marker='o')\n",
        "plt.title('Coherence Scores for Different Number of Topics (NMF)')\n",
        "plt.xlabel('Number of Topics')\n",
        "plt.ylabel('Coherence Score')\n",
        "plt.xticks(num_topics_range)\n",
        "plt.show()"
      ]
    },
    {
      "cell_type": "code",
      "execution_count": 52,
      "metadata": {
        "id": "lZC9gXmSmw77",
        "colab": {
          "base_uri": "https://localhost:8080/"
        },
        "outputId": "4cdc8ba5-5fd9-4401-ee16-e97b439872a0"
      },
      "outputs": [
        {
          "output_type": "execute_result",
          "data": {
            "text/plain": [
              "[(24,\n",
              "  '0.021*\"water\" + 0.013*\"food\" + 0.011*\"security\" + 0.010*\"land\" + 0.010*\"price\" + 0.009*\"hawker\" + 0.009*\"property\" + 0.007*\"member\" + 0.007*\"interest\" + 0.006*\"think\"'),\n",
              " (23,\n",
              "  '0.024*\"court\" + 0.014*\"case\" + 0.011*\"law\" + 0.009*\"section\" + 0.009*\"person\" + 0.008*\"offence\" + 0.007*\"party\" + 0.006*\"legal\" + 0.006*\"justice\" + 0.005*\"criminal\"'),\n",
              " (15,\n",
              "  '0.013*\"foreign\" + 0.013*\"ma\" + 0.011*\"national\" + 0.010*\"interest\" + 0.010*\"financial\" + 0.009*\"president\" + 0.008*\"international\" + 0.007*\"property\" + 0.006*\"power\" + 0.005*\"asean\"'),\n",
              " (20,\n",
              "  '0.012*\"service\" + 0.008*\"officer\" + 0.008*\"data\" + 0.008*\"online\" + 0.008*\"police\" + 0.007*\"information\" + 0.006*\"security\" + 0.006*\"offence\" + 0.006*\"measure\" + 0.006*\"individual\"'),\n",
              " (2,\n",
              "  '0.016*\"law\" + 0.013*\"officer\" + 0.012*\"security\" + 0.011*\"drug\" + 0.009*\"legal\" + 0.008*\"international\" + 0.008*\"conflict\" + 0.007*\"israel\" + 0.006*\"foreign\" + 0.006*\"country\"'),\n",
              " (13,\n",
              "  '0.016*\"transport\" + 0.014*\"vehicle\" + 0.014*\"ev\" + 0.013*\"road\" + 0.012*\"driver\" + 0.012*\"lta\" + 0.011*\"bus\" + 0.009*\"charging\" + 0.009*\"taxi\" + 0.008*\"car\"'),\n",
              " (16,\n",
              "  '0.017*\"singaporean\" + 0.015*\"u\" + 0.013*\"people\" + 0.010*\"country\" + 0.006*\"world\" + 0.006*\"policy\" + 0.005*\"foreign\" + 0.005*\"population\" + 0.005*\"think\" + 0.005*\"good\"'),\n",
              " (10,\n",
              "  '0.024*\"company\" + 0.014*\"business\" + 0.012*\"sector\" + 0.011*\"energy\" + 0.011*\"industry\" + 0.010*\"economy\" + 0.010*\"carbon\" + 0.010*\"smes\" + 0.010*\"enterprise\" + 0.009*\"global\"'),\n",
              " (5,\n",
              "  '0.036*\"digital\" + 0.013*\"data\" + 0.009*\"technology\" + 0.009*\"company\" + 0.009*\"job\" + 0.008*\"support\" + 0.008*\"opportunity\" + 0.008*\"business\" + 0.008*\"work\" + 0.007*\"economy\"'),\n",
              " (18,\n",
              "  '0.018*\"carbon\" + 0.016*\"green\" + 0.015*\"climate\" + 0.013*\"food\" + 0.010*\"change\" + 0.010*\"emission\" + 0.010*\"waste\" + 0.009*\"sustainability\" + 0.008*\"plan\" + 0.008*\"hawker\"'),\n",
              " (11,\n",
              "  '0.052*\"child\" + 0.031*\"parent\" + 0.016*\"family\" + 0.016*\"flat\" + 0.010*\"housing\" + 0.009*\"hdb\" + 0.008*\"divorce\" + 0.007*\"adoption\" + 0.007*\"maintenance\" + 0.006*\"couple\"'),\n",
              " (0,\n",
              "  '0.017*\"council\" + 0.017*\"town\" + 0.012*\"think\" + 0.009*\"member\" + 0.009*\"point\" + 0.007*\"data\" + 0.007*\"party\" + 0.007*\"say\" + 0.006*\"fact\" + 0.006*\"m\"'),\n",
              " (3,\n",
              "  '0.035*\"healthcare\" + 0.028*\"patient\" + 0.020*\"care\" + 0.017*\"doctor\" + 0.013*\"moh\" + 0.012*\"hospital\" + 0.011*\"medical\" + 0.010*\"healthier\" + 0.009*\"health\" + 0.007*\"system\"'),\n",
              " (12,\n",
              "  '0.028*\"budget\" + 0.015*\"support\" + 0.009*\"income\" + 0.009*\"scheme\" + 0.009*\"tax\" + 0.009*\"help\" + 0.007*\"singaporean\" + 0.007*\"increase\" + 0.007*\"year\" + 0.007*\"cost\"'),\n",
              " (7,\n",
              "  '0.019*\"sport\" + 0.014*\"programme\" + 0.014*\"support\" + 0.013*\"community\" + 0.013*\"art\" + 0.011*\"youth\" + 0.008*\"child\" + 0.007*\"student\" + 0.007*\"school\" + 0.007*\"work\"'),\n",
              " (19,\n",
              "  '0.022*\"reserve\" + 0.015*\"tax\" + 0.013*\"cost\" + 0.013*\"singaporean\" + 0.011*\"gst\" + 0.011*\"rate\" + 0.010*\"land\" + 0.010*\"increase\" + 0.010*\"year\" + 0.009*\"price\"'),\n",
              " (8,\n",
              "  '0.010*\"sector\" + 0.009*\"service\" + 0.009*\"help\" + 0.008*\"programme\" + 0.008*\"last\" + 0.008*\"industry\" + 0.008*\"year\" + 0.007*\"work\" + 0.007*\"plan\" + 0.007*\"area\"'),\n",
              " (1,\n",
              "  '0.068*\"health\" + 0.047*\"mental\" + 0.015*\"support\" + 0.013*\"healthcare\" + 0.013*\"wellbeing\" + 0.012*\"care\" + 0.009*\"condition\" + 0.008*\"workplace\" + 0.007*\"parent\" + 0.006*\"service\"'),\n",
              " (6,\n",
              "  '0.038*\"family\" + 0.028*\"woman\" + 0.018*\"support\" + 0.016*\"social\" + 0.012*\"child\" + 0.011*\"care\" + 0.011*\"society\" + 0.008*\"work\" + 0.008*\"u\" + 0.007*\"community\"'),\n",
              " (14,\n",
              "  '0.023*\"life\" + 0.022*\"senior\" + 0.012*\"care\" + 0.012*\"premium\" + 0.011*\"service\" + 0.010*\"age\" + 0.010*\"scheme\" + 0.010*\"singaporean\" + 0.009*\"medishield\" + 0.009*\"year\"')]"
            ]
          },
          "metadata": {},
          "execution_count": 52
        }
      ],
      "source": [
        "nmf_model = Nmf(corpus=corpus, num_topics=25, id2word=dictionary, random_state=42)\n",
        "nmf_model.print_topics()"
      ]
    },
    {
      "cell_type": "code",
      "execution_count": 37,
      "metadata": {
        "id": "KFlPKA70s_Ry",
        "colab": {
          "base_uri": "https://localhost:8080/",
          "height": 1000
        },
        "outputId": "ca3c0c5f-4139-4622-c79d-e3367ca3f2b2"
      },
      "outputs": [
        {
          "output_type": "stream",
          "name": "stderr",
          "text": [
            "WARNING:gensim.models.ldamodel:too few updates, training might not converge; consider increasing the number of passes or iterations to improve accuracy\n"
          ]
        },
        {
          "output_type": "stream",
          "name": "stdout",
          "text": [
            "LDA: Calculating result for 2 topics...\n"
          ]
        },
        {
          "output_type": "stream",
          "name": "stderr",
          "text": [
            "WARNING:gensim.models.ldamodel:too few updates, training might not converge; consider increasing the number of passes or iterations to improve accuracy\n"
          ]
        },
        {
          "output_type": "stream",
          "name": "stdout",
          "text": [
            "Took 21.32 seconds.\n",
            "LDA: Calculating result for 3 topics...\n"
          ]
        },
        {
          "output_type": "stream",
          "name": "stderr",
          "text": [
            "WARNING:gensim.models.ldamodel:too few updates, training might not converge; consider increasing the number of passes or iterations to improve accuracy\n"
          ]
        },
        {
          "output_type": "stream",
          "name": "stdout",
          "text": [
            "Took 24.98 seconds.\n",
            "LDA: Calculating result for 4 topics...\n"
          ]
        },
        {
          "output_type": "stream",
          "name": "stderr",
          "text": [
            "WARNING:gensim.models.ldamodel:too few updates, training might not converge; consider increasing the number of passes or iterations to improve accuracy\n"
          ]
        },
        {
          "output_type": "stream",
          "name": "stdout",
          "text": [
            "Took 24.29 seconds.\n",
            "LDA: Calculating result for 5 topics...\n"
          ]
        },
        {
          "output_type": "stream",
          "name": "stderr",
          "text": [
            "WARNING:gensim.models.ldamodel:too few updates, training might not converge; consider increasing the number of passes or iterations to improve accuracy\n"
          ]
        },
        {
          "output_type": "stream",
          "name": "stdout",
          "text": [
            "Took 26.29 seconds.\n",
            "LDA: Calculating result for 6 topics...\n"
          ]
        },
        {
          "output_type": "stream",
          "name": "stderr",
          "text": [
            "WARNING:gensim.models.ldamodel:too few updates, training might not converge; consider increasing the number of passes or iterations to improve accuracy\n"
          ]
        },
        {
          "output_type": "stream",
          "name": "stdout",
          "text": [
            "Took 27.38 seconds.\n",
            "LDA: Calculating result for 7 topics...\n"
          ]
        },
        {
          "output_type": "stream",
          "name": "stderr",
          "text": [
            "WARNING:gensim.models.ldamodel:too few updates, training might not converge; consider increasing the number of passes or iterations to improve accuracy\n"
          ]
        },
        {
          "output_type": "stream",
          "name": "stdout",
          "text": [
            "Took 28.01 seconds.\n",
            "LDA: Calculating result for 8 topics...\n"
          ]
        },
        {
          "output_type": "stream",
          "name": "stderr",
          "text": [
            "WARNING:gensim.models.ldamodel:too few updates, training might not converge; consider increasing the number of passes or iterations to improve accuracy\n"
          ]
        },
        {
          "output_type": "stream",
          "name": "stdout",
          "text": [
            "Took 28.38 seconds.\n",
            "LDA: Calculating result for 9 topics...\n"
          ]
        },
        {
          "output_type": "stream",
          "name": "stderr",
          "text": [
            "WARNING:gensim.models.ldamodel:too few updates, training might not converge; consider increasing the number of passes or iterations to improve accuracy\n"
          ]
        },
        {
          "output_type": "stream",
          "name": "stdout",
          "text": [
            "Took 31.79 seconds.\n",
            "LDA: Calculating result for 10 topics...\n"
          ]
        },
        {
          "output_type": "stream",
          "name": "stderr",
          "text": [
            "WARNING:gensim.models.ldamodel:too few updates, training might not converge; consider increasing the number of passes or iterations to improve accuracy\n"
          ]
        },
        {
          "output_type": "stream",
          "name": "stdout",
          "text": [
            "Took 29.76 seconds.\n",
            "LDA: Calculating result for 11 topics...\n"
          ]
        },
        {
          "output_type": "stream",
          "name": "stderr",
          "text": [
            "WARNING:gensim.models.ldamodel:too few updates, training might not converge; consider increasing the number of passes or iterations to improve accuracy\n"
          ]
        },
        {
          "output_type": "stream",
          "name": "stdout",
          "text": [
            "Took 30.55 seconds.\n",
            "LDA: Calculating result for 12 topics...\n"
          ]
        },
        {
          "output_type": "stream",
          "name": "stderr",
          "text": [
            "WARNING:gensim.models.ldamodel:too few updates, training might not converge; consider increasing the number of passes or iterations to improve accuracy\n"
          ]
        },
        {
          "output_type": "stream",
          "name": "stdout",
          "text": [
            "Took 31.92 seconds.\n",
            "LDA: Calculating result for 13 topics...\n"
          ]
        },
        {
          "output_type": "stream",
          "name": "stderr",
          "text": [
            "WARNING:gensim.models.ldamodel:too few updates, training might not converge; consider increasing the number of passes or iterations to improve accuracy\n"
          ]
        },
        {
          "output_type": "stream",
          "name": "stdout",
          "text": [
            "Took 31.24 seconds.\n",
            "LDA: Calculating result for 14 topics...\n"
          ]
        },
        {
          "output_type": "stream",
          "name": "stderr",
          "text": [
            "WARNING:gensim.models.ldamodel:too few updates, training might not converge; consider increasing the number of passes or iterations to improve accuracy\n"
          ]
        },
        {
          "output_type": "stream",
          "name": "stdout",
          "text": [
            "Took 32.52 seconds.\n",
            "LDA: Calculating result for 15 topics...\n"
          ]
        },
        {
          "output_type": "stream",
          "name": "stderr",
          "text": [
            "WARNING:gensim.models.ldamodel:too few updates, training might not converge; consider increasing the number of passes or iterations to improve accuracy\n"
          ]
        },
        {
          "output_type": "stream",
          "name": "stdout",
          "text": [
            "Took 33.61 seconds.\n",
            "LDA: Calculating result for 16 topics...\n"
          ]
        },
        {
          "output_type": "stream",
          "name": "stderr",
          "text": [
            "WARNING:gensim.models.ldamodel:too few updates, training might not converge; consider increasing the number of passes or iterations to improve accuracy\n"
          ]
        },
        {
          "output_type": "stream",
          "name": "stdout",
          "text": [
            "Took 37.80 seconds.\n",
            "LDA: Calculating result for 17 topics...\n"
          ]
        },
        {
          "output_type": "stream",
          "name": "stderr",
          "text": [
            "WARNING:gensim.models.ldamodel:too few updates, training might not converge; consider increasing the number of passes or iterations to improve accuracy\n"
          ]
        },
        {
          "output_type": "stream",
          "name": "stdout",
          "text": [
            "Took 33.62 seconds.\n",
            "LDA: Calculating result for 18 topics...\n",
            "Took 32.95 seconds.\n",
            "LDA: Calculating result for 19 topics...\n"
          ]
        },
        {
          "output_type": "stream",
          "name": "stderr",
          "text": [
            "WARNING:gensim.models.ldamodel:too few updates, training might not converge; consider increasing the number of passes or iterations to improve accuracy\n",
            "WARNING:gensim.models.ldamodel:too few updates, training might not converge; consider increasing the number of passes or iterations to improve accuracy\n"
          ]
        },
        {
          "output_type": "stream",
          "name": "stdout",
          "text": [
            "Took 34.31 seconds.\n",
            "LDA: Calculating result for 20 topics...\n"
          ]
        },
        {
          "output_type": "stream",
          "name": "stderr",
          "text": [
            "WARNING:gensim.models.ldamodel:too few updates, training might not converge; consider increasing the number of passes or iterations to improve accuracy\n"
          ]
        },
        {
          "output_type": "stream",
          "name": "stdout",
          "text": [
            "Took 35.95 seconds.\n",
            "LDA: Calculating result for 21 topics...\n",
            "Took 34.44 seconds.\n",
            "LDA: Calculating result for 22 topics...\n"
          ]
        },
        {
          "output_type": "stream",
          "name": "stderr",
          "text": [
            "WARNING:gensim.models.ldamodel:too few updates, training might not converge; consider increasing the number of passes or iterations to improve accuracy\n",
            "WARNING:gensim.models.ldamodel:too few updates, training might not converge; consider increasing the number of passes or iterations to improve accuracy\n"
          ]
        },
        {
          "output_type": "stream",
          "name": "stdout",
          "text": [
            "Took 35.13 seconds.\n",
            "LDA: Calculating result for 23 topics...\n"
          ]
        },
        {
          "output_type": "stream",
          "name": "stderr",
          "text": [
            "WARNING:gensim.models.ldamodel:too few updates, training might not converge; consider increasing the number of passes or iterations to improve accuracy\n"
          ]
        },
        {
          "output_type": "stream",
          "name": "stdout",
          "text": [
            "Took 36.35 seconds.\n",
            "LDA: Calculating result for 24 topics...\n",
            "Took 37.15 seconds.\n",
            "LDA: Calculating result for 25 topics...\n"
          ]
        },
        {
          "output_type": "stream",
          "name": "stderr",
          "text": [
            "WARNING:gensim.models.ldamodel:too few updates, training might not converge; consider increasing the number of passes or iterations to improve accuracy\n"
          ]
        },
        {
          "output_type": "stream",
          "name": "stdout",
          "text": [
            "Took 38.91 seconds.\n",
            "LDA: Calculating result for 26 topics...\n"
          ]
        },
        {
          "output_type": "stream",
          "name": "stderr",
          "text": [
            "WARNING:gensim.models.ldamodel:too few updates, training might not converge; consider increasing the number of passes or iterations to improve accuracy\n"
          ]
        },
        {
          "output_type": "stream",
          "name": "stdout",
          "text": [
            "Took 37.85 seconds.\n",
            "LDA: Calculating result for 27 topics...\n"
          ]
        },
        {
          "output_type": "stream",
          "name": "stderr",
          "text": [
            "WARNING:gensim.models.ldamodel:too few updates, training might not converge; consider increasing the number of passes or iterations to improve accuracy\n"
          ]
        },
        {
          "output_type": "stream",
          "name": "stdout",
          "text": [
            "Took 38.76 seconds.\n",
            "LDA: Calculating result for 28 topics...\n"
          ]
        },
        {
          "output_type": "stream",
          "name": "stderr",
          "text": [
            "WARNING:gensim.models.ldamodel:too few updates, training might not converge; consider increasing the number of passes or iterations to improve accuracy\n"
          ]
        },
        {
          "output_type": "stream",
          "name": "stdout",
          "text": [
            "Took 38.06 seconds.\n",
            "LDA: Calculating result for 29 topics...\n"
          ]
        },
        {
          "output_type": "stream",
          "name": "stderr",
          "text": [
            "WARNING:gensim.models.ldamodel:too few updates, training might not converge; consider increasing the number of passes or iterations to improve accuracy\n"
          ]
        },
        {
          "output_type": "stream",
          "name": "stdout",
          "text": [
            "Took 39.33 seconds.\n"
          ]
        },
        {
          "output_type": "display_data",
          "data": {
            "text/plain": [
              "<Figure size 640x480 with 1 Axes>"
            ],
            "image/png": "[encoded data removed]"
          },
          "metadata": {}
        }
      ],
      "source": [
        "from gensim.models import LdaModel\n",
        "\n",
        "lda_coherence_scores = []\n",
        "\n",
        "# Iterate over different numbers of topics\n",
        "for num_topics in num_topics_range:\n",
        "    start_time = time.time()\n",
        "    print(f\"LDA: Calculating result for {num_topics} topics...\")\n",
        "    # Fit NMF model\n",
        "    lda_model = LdaModel(corpus=corpus, num_topics=num_topics,\n",
        "                         id2word=dictionary, random_state=42)\n",
        "\n",
        "    # Compute coherence score\n",
        "    coherence_model = CoherenceModel(model=lda_model, texts=texts, corpus=corpus, coherence='u_mass')\n",
        "    coherence_score = coherence_model.get_coherence()\n",
        "    lda_coherence_scores.append(coherence_score)\n",
        "\n",
        "    end_time = time.time()\n",
        "    print(f\"Took {end_time - start_time:.2f} seconds.\")\n",
        "\n",
        "# Plot coherence scores\n",
        "plt.plot(num_topics_range, lda_coherence_scores, marker='o')\n",
        "plt.title('Coherence Scores for Different Number of Topics (LDA)')\n",
        "plt.xlabel('Number of Topics')\n",
        "plt.ylabel('Coherence Score')\n",
        "plt.xticks(num_topics_range)\n",
        "plt.show()"
      ]
    },
    {
      "cell_type": "code",
      "execution_count": 53,
      "metadata": {
        "id": "GflBRCfK6zX-"
      },
      "outputs": [],
      "source": [
        "num_topics = 28"
      ]
    },
    {
      "cell_type": "code",
      "execution_count": 54,
      "metadata": {
        "id": "ZybJ9CGmG6HS",
        "colab": {
          "base_uri": "https://localhost:8080/"
        },
        "outputId": "b23e2709-6052-4ae4-a0f1-0aef3eddbed8"
      },
      "outputs": [
        {
          "output_type": "stream",
          "name": "stderr",
          "text": [
            "WARNING:gensim.models.ldamodel:too few updates, training might not converge; consider increasing the number of passes or iterations to improve accuracy\n"
          ]
        }
      ],
      "source": [
        "lda_model = LdaModel(corpus=corpus, num_topics=num_topics,\n",
        "                         id2word=dictionary, random_state=42)"
      ]
    },
    {
      "cell_type": "code",
      "execution_count": 55,
      "metadata": {
        "id": "AKsa6ORz5ggv",
        "colab": {
          "base_uri": "https://localhost:8080/"
        },
        "outputId": "a91418dd-b02e-45fa-fc60-ea2a280562dd"
      },
      "outputs": [
        {
          "output_type": "execute_result",
          "data": {
            "text/plain": [
              "[(22,\n",
              "  '0.019*\"employer\" + 0.014*\"work\" + 0.014*\"woman\" + 0.013*\"child\" + 0.012*\"employee\" + 0.010*\"parent\" + 0.009*\"mother\" + 0.009*\"employment\" + 0.008*\"workplace\" + 0.006*\"practice\"'),\n",
              " (3,\n",
              "  '0.029*\"school\" + 0.028*\"student\" + 0.016*\"education\" + 0.009*\"programme\" + 0.009*\"learning\" + 0.007*\"moe\" + 0.007*\"teacher\" + 0.006*\"support\" + 0.006*\"skill\" + 0.005*\"university\"'),\n",
              " (1,\n",
              "  '0.014*\"company\" + 0.011*\"industry\" + 0.010*\"sector\" + 0.008*\"smes\" + 0.007*\"technology\" + 0.006*\"business\" + 0.005*\"service\" + 0.005*\"economy\" + 0.005*\"energy\" + 0.005*\"growth\"'),\n",
              " (5,\n",
              "  '0.029*\"food\" + 0.017*\"hawker\" + 0.013*\"waste\" + 0.011*\"centre\" + 0.008*\"nea\" + 0.007*\"water\" + 0.005*\"recycling\" + 0.005*\"environment\" + 0.005*\"plastic\" + 0.004*\"work\"'),\n",
              " (24,\n",
              "  '0.010*\"information\" + 0.009*\"data\" + 0.008*\"service\" + 0.007*\"online\" + 0.006*\"financial\" + 0.005*\"security\" + 0.005*\"ma\" + 0.004*\"protection\" + 0.004*\"individual\" + 0.004*\"personal\"'),\n",
              " (16,\n",
              "  '0.026*\"child\" + 0.023*\"family\" + 0.014*\"social\" + 0.013*\"support\" + 0.011*\"service\" + 0.010*\"community\" + 0.009*\"parent\" + 0.008*\"programme\" + 0.008*\"help\" + 0.008*\"centre\"'),\n",
              " (9,\n",
              "  '0.020*\"gambling\" + 0.011*\"covid\" + 0.010*\"measure\" + 0.010*\"worker\" + 0.008*\"dormitory\" + 0.005*\"case\" + 0.005*\"u\" + 0.005*\"mask\" + 0.005*\"people\" + 0.005*\"health\"'),\n",
              " (12,\n",
              "  '0.009*\"member\" + 0.008*\"think\" + 0.008*\"election\" + 0.007*\"m\" + 0.006*\"prime\" + 0.006*\"party\" + 0.006*\"say\" + 0.006*\"political\" + 0.005*\"point\" + 0.005*\"people\"'),\n",
              " (8,\n",
              "  '0.022*\"art\" + 0.020*\"sport\" + 0.017*\"community\" + 0.010*\"national\" + 0.007*\"youth\" + 0.007*\"heritage\" + 0.006*\"culture\" + 0.006*\"work\" + 0.006*\"event\" + 0.005*\"space\"'),\n",
              " (15,\n",
              "  '0.018*\"health\" + 0.015*\"mental\" + 0.015*\"service\" + 0.014*\"community\" + 0.014*\"animal\" + 0.010*\"senior\" + 0.010*\"nparks\" + 0.008*\"agency\" + 0.007*\"work\" + 0.007*\"support\"'),\n",
              " (2,\n",
              "  '0.022*\"property\" + 0.016*\"rental\" + 0.014*\"price\" + 0.012*\"hdb\" + 0.011*\"construction\" + 0.011*\"market\" + 0.010*\"contract\" + 0.010*\"flat\" + 0.009*\"project\" + 0.008*\"developer\"'),\n",
              " (10,\n",
              "  '0.012*\"singaporean\" + 0.008*\"scheme\" + 0.008*\"year\" + 0.007*\"family\" + 0.007*\"support\" + 0.007*\"help\" + 0.006*\"income\" + 0.005*\"population\" + 0.005*\"home\" + 0.005*\"senior\"'),\n",
              " (27,\n",
              "  '0.041*\"cpf\" + 0.018*\"member\" + 0.014*\"retirement\" + 0.011*\"scheme\" + 0.011*\"account\" + 0.011*\"saving\" + 0.008*\"contribution\" + 0.007*\"singaporean\" + 0.007*\"sum\" + 0.007*\"age\"'),\n",
              " (21,\n",
              "  '0.010*\"u\" + 0.010*\"people\" + 0.009*\"singaporean\" + 0.007*\"society\" + 0.006*\"community\" + 0.006*\"country\" + 0.005*\"issue\" + 0.004*\"important\" + 0.004*\"member\" + 0.004*\"think\"'),\n",
              " (7,\n",
              "  '0.014*\"country\" + 0.013*\"asean\" + 0.011*\"international\" + 0.010*\"china\" + 0.009*\"u\" + 0.007*\"agreement\" + 0.006*\"economic\" + 0.006*\"trade\" + 0.006*\"region\" + 0.006*\"foreign\"'),\n",
              " (13,\n",
              "  '0.023*\"bus\" + 0.020*\"transport\" + 0.016*\"taxi\" + 0.014*\"operator\" + 0.014*\"car\" + 0.014*\"service\" + 0.014*\"driver\" + 0.009*\"commuter\" + 0.008*\"vehicle\" + 0.008*\"fare\"'),\n",
              " (20,\n",
              "  '0.013*\"rate\" + 0.012*\"pr\" + 0.011*\"loan\" + 0.011*\"credit\" + 0.010*\"interest\" + 0.008*\"moneylender\" + 0.007*\"year\" + 0.007*\"citizen\" + 0.007*\"citizenship\" + 0.007*\"financial\"'),\n",
              " (11,\n",
              "  '0.018*\"police\" + 0.016*\"drug\" + 0.011*\"case\" + 0.009*\"officer\" + 0.008*\"crime\" + 0.007*\"offence\" + 0.007*\"person\" + 0.006*\"death\" + 0.006*\"safety\" + 0.006*\"home\"'),\n",
              " (14,\n",
              "  '0.023*\"town\" + 0.017*\"council\" + 0.014*\"resident\" + 0.013*\"hdb\" + 0.009*\"building\" + 0.009*\"area\" + 0.007*\"lift\" + 0.007*\"work\" + 0.007*\"fire\" + 0.006*\"owner\"'),\n",
              " (0,\n",
              "  '0.046*\"flat\" + 0.027*\"hdb\" + 0.015*\"housing\" + 0.010*\"scheme\" + 0.010*\"casino\" + 0.009*\"loan\" + 0.008*\"year\" + 0.007*\"family\" + 0.007*\"applicant\" + 0.007*\"bto\"')]"
            ]
          },
          "metadata": {},
          "execution_count": 55
        }
      ],
      "source": [
        "lda_model.print_topics()"
      ]
    },
    {
      "cell_type": "code",
      "execution_count": 56,
      "metadata": {
        "id": "TczPJEqgIWrB"
      },
      "outputs": [],
      "source": [
        "from gensim.utils import simple_preprocess\n",
        "\n",
        "def get_topic_distribution(text):\n",
        "\n",
        "    tokens = text.split()\n",
        "    bow_vector = dictionary.doc2bow(tokens)\n",
        "    topic_distribution = lda_model.get_document_topics(bow_vector)\n",
        "\n",
        "    return topic_distribution\n",
        "\n",
        "# Apply the function to each row of the DataFrame\n",
        "ct_df['topic_distribution'] = ct_df['speech_text'].apply(get_topic_distribution)"
      ]
    },
    {
      "cell_type": "code",
      "source": [
        "ct_df"
      ],
      "metadata": {
        "colab": {
          "base_uri": "https://localhost:8080/",
          "height": 423
        },
        "id": "xOOqp5vhka5z",
        "outputId": "bc21aaa7-ae27-49e5-bf8b-4f29d8f9853d"
      },
      "execution_count": 57,
      "outputs": [
        {
          "output_type": "execute_result",
          "data": {
            "text/plain": [
              "               topic_id                                        speech_text  \\\n",
              "0      2024-03-07-T-001  ask exercise power reinstate half hour questio...   \n",
              "1      2024-03-07-T-002  defence effort taken address mental health iss...   \n",
              "2      2024-03-07-T-003  health planned capacity increase patient seeki...   \n",
              "3      2024-03-07-T-004  health active ageing centre set next five year...   \n",
              "4      2024-03-07-T-005  manpower view senior live mature estate whose ...   \n",
              "...                 ...                                                ...   \n",
              "17457  2012-09-10-T-067  education total amount partnership related fee...   \n",
              "17458  2012-09-10-T-068  acting community development youth sport past ...   \n",
              "17459  2012-09-10-T-069  acting manpower year number employer warned fi...   \n",
              "17460  2012-09-10-T-070  acting manpower gathering feedback smes impact...   \n",
              "17461  2012-09-10-T-071  acting manpower restriction hiring foreign wor...   \n",
              "\n",
              "                                      topic_distribution  \n",
              "0      [(3, 0.08627256), (12, 0.65156686), (20, 0.255...  \n",
              "1      [(6, 0.3854257), (15, 0.59979624), (26, 0.0125...  \n",
              "2      [(3, 0.28878564), (15, 0.30251354), (17, 0.255...  \n",
              "3      [(1, 0.10646378), (12, 0.32355765), (13, 0.066...  \n",
              "4      [(0, 0.27716243), (10, 0.5268068), (17, 0.0317...  \n",
              "...                                                  ...  \n",
              "17457  [(1, 0.2462365), (2, 0.023936993), (3, 0.67236...  \n",
              "17458  [(0, 0.27469236), (8, 0.037617695), (13, 0.062...  \n",
              "17459  [(2, 0.17544635), (5, 0.024544291), (11, 0.315...  \n",
              "17460  [(1, 0.30354762), (19, 0.66824305), (24, 0.024...  \n",
              "17461                 [(0, 0.13628112), (19, 0.8486272)]  \n",
              "\n",
              "[17462 rows x 3 columns]"
            ],
            "text/html": [
              "\n",
              "  <div id=\"df-54f24e08-0e67-43db-aa13-f01230248497\" class=\"colab-df-container\">\n",
              "    <div>\n",
              "<style scoped>\n",
              "    .dataframe tbody tr th:only-of-type {\n",
              "        vertical-align: middle;\n",
              "    }\n",
              "\n",
              "    .dataframe tbody tr th {\n",
              "        vertical-align: top;\n",
              "    }\n",
              "\n",
              "    .dataframe thead th {\n",
              "        text-align: right;\n",
              "    }\n",
              "</style>\n",
              "<table border=\"1\" class=\"dataframe\">\n",
              "  <thead>\n",
              "    <tr style=\"text-align: right;\">\n",
              "      <th></th>\n",
              "      <th>topic_id</th>\n",
              "      <th>speech_text</th>\n",
              "      <th>topic_distribution</th>\n",
              "    </tr>\n",
              "  </thead>\n",
              "  <tbody>\n",
              "    <tr>\n",
              "      <th>0</th>\n",
              "      <td>2024-03-07-T-001</td>\n",
              "      <td>ask exercise power reinstate half hour questio...</td>\n",
              "      <td>[(3, 0.08627256), (12, 0.65156686), (20, 0.255...</td>\n",
              "    </tr>\n",
              "    <tr>\n",
              "      <th>1</th>\n",
              "      <td>2024-03-07-T-002</td>\n",
              "      <td>defence effort taken address mental health iss...</td>\n",
              "      <td>[(6, 0.3854257), (15, 0.59979624), (26, 0.0125...</td>\n",
              "    </tr>\n",
              "    <tr>\n",
              "      <th>2</th>\n",
              "      <td>2024-03-07-T-003</td>\n",
              "      <td>health planned capacity increase patient seeki...</td>\n",
              "      <td>[(3, 0.28878564), (15, 0.30251354), (17, 0.255...</td>\n",
              "    </tr>\n",
              "    <tr>\n",
              "      <th>3</th>\n",
              "      <td>2024-03-07-T-004</td>\n",
              "      <td>health active ageing centre set next five year...</td>\n",
              "      <td>[(1, 0.10646378), (12, 0.32355765), (13, 0.066...</td>\n",
              "    </tr>\n",
              "    <tr>\n",
              "      <th>4</th>\n",
              "      <td>2024-03-07-T-005</td>\n",
              "      <td>manpower view senior live mature estate whose ...</td>\n",
              "      <td>[(0, 0.27716243), (10, 0.5268068), (17, 0.0317...</td>\n",
              "    </tr>\n",
              "    <tr>\n",
              "      <th>...</th>\n",
              "      <td>...</td>\n",
              "      <td>...</td>\n",
              "      <td>...</td>\n",
              "    </tr>\n",
              "    <tr>\n",
              "      <th>17457</th>\n",
              "      <td>2012-09-10-T-067</td>\n",
              "      <td>education total amount partnership related fee...</td>\n",
              "      <td>[(1, 0.2462365), (2, 0.023936993), (3, 0.67236...</td>\n",
              "    </tr>\n",
              "    <tr>\n",
              "      <th>17458</th>\n",
              "      <td>2012-09-10-T-068</td>\n",
              "      <td>acting community development youth sport past ...</td>\n",
              "      <td>[(0, 0.27469236), (8, 0.037617695), (13, 0.062...</td>\n",
              "    </tr>\n",
              "    <tr>\n",
              "      <th>17459</th>\n",
              "      <td>2012-09-10-T-069</td>\n",
              "      <td>acting manpower year number employer warned fi...</td>\n",
              "      <td>[(2, 0.17544635), (5, 0.024544291), (11, 0.315...</td>\n",
              "    </tr>\n",
              "    <tr>\n",
              "      <th>17460</th>\n",
              "      <td>2012-09-10-T-070</td>\n",
              "      <td>acting manpower gathering feedback smes impact...</td>\n",
              "      <td>[(1, 0.30354762), (19, 0.66824305), (24, 0.024...</td>\n",
              "    </tr>\n",
              "    <tr>\n",
              "      <th>17461</th>\n",
              "      <td>2012-09-10-T-071</td>\n",
              "      <td>acting manpower restriction hiring foreign wor...</td>\n",
              "      <td>[(0, 0.13628112), (19, 0.8486272)]</td>\n",
              "    </tr>\n",
              "  </tbody>\n",
              "</table>\n",
              "<p>17462 rows × 3 columns</p>\n",
              "</div>\n",
              "    <div class=\"colab-df-buttons\">\n",
              "\n",
              "  <div class=\"colab-df-container\">\n",
              "    <button class=\"colab-df-convert\" onclick=\"convertToInteractive('df-54f24e08-0e67-43db-aa13-f01230248497')\"\n",
              "            title=\"Convert this dataframe to an interactive table.\"\n",
              "            style=\"display:none;\">\n",
              "\n",
              "  <svg xmlns=\"http://www.w3.org/2000/svg\" height=\"24px\" viewBox=\"0 -960 960 960\">\n",
              "    <path d=\"M120-120v-720h720v720H120Zm60-500h600v-160H180v160Zm220 220h160v-160H400v160Zm0 220h160v-160H400v160ZM180-400h160v-160H180v160Zm440 0h160v-160H620v160ZM180-180h160v-160H180v160Zm440 0h160v-160H620v160Z\"/>\n",
              "  </svg>\n",
              "    </button>\n",
              "\n",
              "  <style>\n",
              "    .colab-df-container {\n",
              "      display:flex;\n",
              "      gap: 12px;\n",
              "    }\n",
              "\n",
              "    .colab-df-convert {\n",
              "      background-color: #E8F0FE;\n",
              "      border: none;\n",
              "      border-radius: 50%;\n",
              "      cursor: pointer;\n",
              "      display: none;\n",
              "      fill: #1967D2;\n",
              "      height: 32px;\n",
              "      padding: 0 0 0 0;\n",
              "      width: 32px;\n",
              "    }\n",
              "\n",
              "    .colab-df-convert:hover {\n",
              "      background-color: #E2EBFA;\n",
              "      box-shadow: 0px 1px 2px rgba(60, 64, 67, 0.3), 0px 1px 3px 1px rgba(60, 64, 67, 0.15);\n",
              "      fill: #174EA6;\n",
              "    }\n",
              "\n",
              "    .colab-df-buttons div {\n",
              "      margin-bottom: 4px;\n",
              "    }\n",
              "\n",
              "    [theme=dark] .colab-df-convert {\n",
              "      background-color: #3B4455;\n",
              "      fill: #D2E3FC;\n",
              "    }\n",
              "\n",
              "    [theme=dark] .colab-df-convert:hover {\n",
              "      background-color: #434B5C;\n",
              "      box-shadow: 0px 1px 3px 1px rgba(0, 0, 0, 0.15);\n",
              "      filter: drop-shadow(0px 1px 2px rgba(0, 0, 0, 0.3));\n",
              "      fill: #FFFFFF;\n",
              "    }\n",
              "  </style>\n",
              "\n",
              "    <script>\n",
              "      const buttonEl =\n",
              "        document.querySelector('#df-54f24e08-0e67-43db-aa13-f01230248497 button.colab-df-convert');\n",
              "      buttonEl.style.display =\n",
              "        google.colab.kernel.accessAllowed ? 'block' : 'none';\n",
              "\n",
              "      async function convertToInteractive(key) {\n",
              "        const element = document.querySelector('#df-54f24e08-0e67-43db-aa13-f01230248497');\n",
              "        const dataTable =\n",
              "          await google.colab.kernel.invokeFunction('convertToInteractive',\n",
              "                                                    [key], {});\n",
              "        if (!dataTable) return;\n",
              "\n",
              "        const docLinkHtml = 'Like what you see? Visit the ' +\n",
              "          '<a target=\"_blank\" href=https://colab.research.google.com/notebooks/data_table.ipynb>data table notebook</a>'\n",
              "          + ' to learn more about interactive tables.';\n",
              "        element.innerHTML = '';\n",
              "        dataTable['output_type'] = 'display_data';\n",
              "        await google.colab.output.renderOutput(dataTable, element);\n",
              "        const docLink = document.createElement('div');\n",
              "        docLink.innerHTML = docLinkHtml;\n",
              "        element.appendChild(docLink);\n",
              "      }\n",
              "    </script>\n",
              "  </div>\n",
              "\n",
              "\n",
              "<div id=\"df-97499eee-8830-4be0-b86b-5746e216996b\">\n",
              "  <button class=\"colab-df-quickchart\" onclick=\"quickchart('df-97499eee-8830-4be0-b86b-5746e216996b')\"\n",
              "            title=\"Suggest charts\"\n",
              "            style=\"display:none;\">\n",
              "\n",
              "<svg xmlns=\"http://www.w3.org/2000/svg\" height=\"24px\"viewBox=\"0 0 24 24\"\n",
              "     width=\"24px\">\n",
              "    <g>\n",
              "        <path d=\"M19 3H5c-1.1 0-2 .9-2 2v14c0 1.1.9 2 2 2h14c1.1 0 2-.9 2-2V5c0-1.1-.9-2-2-2zM9 17H7v-7h2v7zm4 0h-2V7h2v10zm4 0h-2v-4h2v4z\"/>\n",
              "    </g>\n",
              "</svg>\n",
              "  </button>\n",
              "\n",
              "<style>\n",
              "  .colab-df-quickchart {\n",
              "      --bg-color: #E8F0FE;\n",
              "      --fill-color: #1967D2;\n",
              "      --hover-bg-color: #E2EBFA;\n",
              "      --hover-fill-color: #174EA6;\n",
              "      --disabled-fill-color: #AAA;\n",
              "      --disabled-bg-color: #DDD;\n",
              "  }\n",
              "\n",
              "  [theme=dark] .colab-df-quickchart {\n",
              "      --bg-color: #3B4455;\n",
              "      --fill-color: #D2E3FC;\n",
              "      --hover-bg-color: #434B5C;\n",
              "      --hover-fill-color: #FFFFFF;\n",
              "      --disabled-bg-color: #3B4455;\n",
              "      --disabled-fill-color: #666;\n",
              "  }\n",
              "\n",
              "  .colab-df-quickchart {\n",
              "    background-color: var(--bg-color);\n",
              "    border: none;\n",
              "    border-radius: 50%;\n",
              "    cursor: pointer;\n",
              "    display: none;\n",
              "    fill: var(--fill-color);\n",
              "    height: 32px;\n",
              "    padding: 0;\n",
              "    width: 32px;\n",
              "  }\n",
              "\n",
              "  .colab-df-quickchart:hover {\n",
              "    background-color: var(--hover-bg-color);\n",
              "    box-shadow: 0 1px 2px rgba(60, 64, 67, 0.3), 0 1px 3px 1px rgba(60, 64, 67, 0.15);\n",
              "    fill: var(--button-hover-fill-color);\n",
              "  }\n",
              "\n",
              "  .colab-df-quickchart-complete:disabled,\n",
              "  .colab-df-quickchart-complete:disabled:hover {\n",
              "    background-color: var(--disabled-bg-color);\n",
              "    fill: var(--disabled-fill-color);\n",
              "    box-shadow: none;\n",
              "  }\n",
              "\n",
              "  .colab-df-spinner {\n",
              "    border: 2px solid var(--fill-color);\n",
              "    border-color: transparent;\n",
              "    border-bottom-color: var(--fill-color);\n",
              "    animation:\n",
              "      spin 1s steps(1) infinite;\n",
              "  }\n",
              "\n",
              "  @keyframes spin {\n",
              "    0% {\n",
              "      border-color: transparent;\n",
              "      border-bottom-color: var(--fill-color);\n",
              "      border-left-color: var(--fill-color);\n",
              "    }\n",
              "    20% {\n",
              "      border-color: transparent;\n",
              "      border-left-color: var(--fill-color);\n",
              "      border-top-color: var(--fill-color);\n",
              "    }\n",
              "    30% {\n",
              "      border-color: transparent;\n",
              "      border-left-color: var(--fill-color);\n",
              "      border-top-color: var(--fill-color);\n",
              "      border-right-color: var(--fill-color);\n",
              "    }\n",
              "    40% {\n",
              "      border-color: transparent;\n",
              "      border-right-color: var(--fill-color);\n",
              "      border-top-color: var(--fill-color);\n",
              "    }\n",
              "    60% {\n",
              "      border-color: transparent;\n",
              "      border-right-color: var(--fill-color);\n",
              "    }\n",
              "    80% {\n",
              "      border-color: transparent;\n",
              "      border-right-color: var(--fill-color);\n",
              "      border-bottom-color: var(--fill-color);\n",
              "    }\n",
              "    90% {\n",
              "      border-color: transparent;\n",
              "      border-bottom-color: var(--fill-color);\n",
              "    }\n",
              "  }\n",
              "</style>\n",
              "\n",
              "  <script>\n",
              "    async function quickchart(key) {\n",
              "      const quickchartButtonEl =\n",
              "        document.querySelector('#' + key + ' button');\n",
              "      quickchartButtonEl.disabled = true;  // To prevent multiple clicks.\n",
              "      quickchartButtonEl.classList.add('colab-df-spinner');\n",
              "      try {\n",
              "        const charts = await google.colab.kernel.invokeFunction(\n",
              "            'suggestCharts', [key], {});\n",
              "      } catch (error) {\n",
              "        console.error('Error during call to suggestCharts:', error);\n",
              "      }\n",
              "      quickchartButtonEl.classList.remove('colab-df-spinner');\n",
              "      quickchartButtonEl.classList.add('colab-df-quickchart-complete');\n",
              "    }\n",
              "    (() => {\n",
              "      let quickchartButtonEl =\n",
              "        document.querySelector('#df-97499eee-8830-4be0-b86b-5746e216996b button');\n",
              "      quickchartButtonEl.style.display =\n",
              "        google.colab.kernel.accessAllowed ? 'block' : 'none';\n",
              "    })();\n",
              "  </script>\n",
              "</div>\n",
              "    </div>\n",
              "  </div>\n"
            ],
            "application/vnd.google.colaboratory.intrinsic+json": {
              "type": "dataframe",
              "variable_name": "ct_df",
              "summary": "{\n  \"name\": \"ct_df\",\n  \"rows\": 17462,\n  \"fields\": [\n    {\n      \"column\": \"topic_id\",\n      \"properties\": {\n        \"dtype\": \"string\",\n        \"num_unique_values\": 17462,\n        \"samples\": [\n          \"2021-10-05-T-091\",\n          \"2021-01-05-T-002\",\n          \"2021-05-10-T-014\"\n        ],\n        \"semantic_type\": \"\",\n        \"description\": \"\"\n      }\n    },\n    {\n      \"column\": \"speech_text\",\n      \"properties\": {\n        \"dtype\": \"string\",\n        \"num_unique_values\": 16977,\n        \"samples\": [\n          \"health average number home visit conducted silver generation office sgo ambassador b ratio sgo ambassador household c average home visit sgo ambassador household requiring followup household requiring followup respectively total amount money spent possible home visit conducted sgo ambassador home visit primarily carried around silver generation ambassador sgas volunteer average sga conduct engagement per sgas typically engage senior least every month senior complex need visit usually frequent visit made sgo staff rather sgas sgo staff work community provider develop integrated holistic package support senior sgas given allowance per senior engaged\",\n          \"finance provide data annual series respective amount assessable income citizen ii permanent resident iii foreigner breakdown amount personal income tax paid three category past year requested information span three decade unable provide long series data assessment ya citizen accounted total assessable income ai contributed total personal income tax pit permanent resident accounted total ai contributed total pit foreigner accounted ai contributed pit\",\n          \"manpower consider making mandatory employer provide paid annual home foreign domestic worker fdws home arrangement rest mutually fdws employer mom fdw study fdws provided home either annually point renewal work pass addition employer grant additional compassionate fdws deal issue arising unforeseen family circumstance back home making annual home compulsory practical given household different need home care arrangement unlike company pool employee cover household employer typically employ fdw significant adjustment look alternative arrangement fdws go home fdws might prefer paid lieu annual home current approach provides greater flexibility fdws employer mutually agree arrangement part employment contract whatever arrangement employer expected wellbeing fdws throughout stay addition mom nongovernmental organisation centre domestic employee actively reach fdws check wellbeing adjusted working\"\n        ],\n        \"semantic_type\": \"\",\n        \"description\": \"\"\n      }\n    },\n    {\n      \"column\": \"topic_distribution\",\n      \"properties\": {\n        \"dtype\": \"object\",\n        \"semantic_type\": \"\",\n        \"description\": \"\"\n      }\n    }\n  ]\n}"
            }
          },
          "metadata": {},
          "execution_count": 57
        }
      ]
    },
    {
      "cell_type": "code",
      "source": [
        "ct_df.iloc[2,1]"
      ],
      "metadata": {
        "colab": {
          "base_uri": "https://localhost:8080/",
          "height": 87
        },
        "id": "xGJZaL5xkX-n",
        "outputId": "9f10328d-2ee3-4e0d-c207-3be76c1707a3"
      },
      "execution_count": 61,
      "outputs": [
        {
          "output_type": "execute_result",
          "data": {
            "text/plain": [
              "'health planned capacity increase patient seeking mental health specialist care imh ii alexandra hospital b step taken support necessary resource required alexandra hospital provide outpatient inpatient mental health specialist service including acute bed psychiatric care rehabilitation institute mental health imh recently refurbished acute psychiatric ward enhance inpatient care expanding capacity meet future demand support increase demand mental health service planning increase number psychiatrist increase number healthcare worker training psychology expand mental health service primary community setting support national mental health wellbeing strategy m nadia quick followup supplementary senior sharing training place learning opportunity think student interested pursue route could senior give little bit detail training opportunity trickle learning institution understand m nadia samdins training opportunity made within learning institution number institution already provide training psychological psychiatric service approach generally work see expand capacity challenge space training healthcare worker requires call practicums onthejob training clinical placement rather lecture seminar rate limiting factor enhancing capacity number mentor training place within clinical setting rather within education institution work partner stakeholder able realise plan increase capacity'"
            ],
            "application/vnd.google.colaboratory.intrinsic+json": {
              "type": "string"
            }
          },
          "metadata": {},
          "execution_count": 61
        }
      ]
    },
    {
      "cell_type": "code",
      "execution_count": 59,
      "metadata": {
        "id": "WhW-yHHnLEj6",
        "colab": {
          "base_uri": "https://localhost:8080/"
        },
        "outputId": "ec99a628-6ed7-4585-8faa-953a342d9f31"
      },
      "outputs": [
        {
          "output_type": "execute_result",
          "data": {
            "text/plain": [
              "[(3, 0.28878564), (15, 0.30251354), (17, 0.25519702), (23, 0.14849898)]"
            ]
          },
          "metadata": {},
          "execution_count": 59
        }
      ],
      "source": [
        "ct_df.iloc[2,2]"
      ]
    }
  ],
  "metadata": {
    "colab": {
      "provenance": [],
      "authorship_tag": "ABX9TyNGW9werMkvdzNh81B06/PU",
      "include_colab_link": true
    },
    "kernelspec": {
      "display_name": "Python 3",
      "name": "python3"
    },
    "language_info": {
      "name": "python"
    }
  },
  "nbformat": 4,
  "nbformat_minor": 0
}